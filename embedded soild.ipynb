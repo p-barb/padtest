{
 "cells": [
  {
   "cell_type": "markdown",
   "metadata": {},
   "source": [
    "# Intro"
   ]
  },
  {
   "cell_type": "markdown",
   "metadata": {},
   "source": [
    "When a new notebook is created through PLAXIS 2D Input, you have two objects available. One of them is the \"s_i\" object which represents the application server which can be accessed as follows:"
   ]
  },
  {
   "cell_type": "code",
   "execution_count": 1,
   "metadata": {},
   "outputs": [
    {
     "data": {
      "text/plain": [
       "<plxscripting.server.Server at 0x2ab6e369548>"
      ]
     },
     "execution_count": 1,
     "metadata": {},
     "output_type": "execute_result"
    }
   ],
   "source": [
    "s_i  # The application server"
   ]
  },
  {
   "cell_type": "markdown",
   "metadata": {},
   "source": [
    "You can also access the \"g_i\" object which represents the global environment:"
   ]
  },
  {
   "cell_type": "code",
   "execution_count": 2,
   "metadata": {},
   "outputs": [
    {
     "data": {
      "text/plain": [
       "<Global object>"
      ]
     },
     "execution_count": 2,
     "metadata": {},
     "output_type": "execute_result"
    }
   ],
   "source": [
    "g_i  # The global environment"
   ]
  },
  {
   "cell_type": "code",
   "execution_count": 3,
   "metadata": {},
   "outputs": [],
   "source": [
    "import numpy as np\n",
    "import matplotlib.pyplot as plt\n",
    "from matplotlib.patches import Polygon\n",
    "from matplotlib.collections import PatchCollection"
   ]
  },
  {
   "cell_type": "code",
   "execution_count": 4,
   "metadata": {
    "code_folding": [
     0,
     27
    ]
   },
   "outputs": [],
   "source": [
    "def get_geometry(B0, B, D0, D, fill_angle):\n",
    "    geo = {}\n",
    "    geo['points'] = ['B1', 'B2', 'B3', 'B4', 'B4', 'B6', 'F1', 'F2', 'S1', 'S2', 'S3']\n",
    "    geo['B1'] = np.array([0, D + 3 * B])\n",
    "    geo['B2'] = np.array([B0/2, D + 3 * B])\n",
    "    geo['B3'] = np.array([B0/2, 3 * B + D0])\n",
    "    geo['B4'] = np.array([B/2, 3 * B + D0])\n",
    "    geo['B5'] = np.array([B/2, 3 * B])\n",
    "    geo['B6'] = np.array([0, 3 * B])\n",
    "    geo['F1'] = np.array([B/2 + 2 * D0 + D / np.tan(np.radians(fill_angle)), 3 * B + D])\n",
    "    geo['F2'] = np.array([B/2 + 2 * D0, 3 * B])\n",
    "    geo['S1'] = np.array([B/2 + 2 * D0 + D / np.tan(np.radians(fill_angle)) + 1.5 * B, 3 * B + D])\n",
    "    geo['S2'] = np.array([B/2 + 2 * D0 + D / np.tan(np.radians(fill_angle)) + 1.5 * B, 0])\n",
    "    geo['S3'] = np.array([0, 0])\n",
    "    \n",
    "    geo['footing'] = np.array([geo['B1'], geo['B2'], geo['B3'], geo['B4'], geo['B5'], geo['B6'], geo['B1']])\n",
    "    geo['fill'] = np.array([geo['B2'], geo['F1'], geo['F2'], geo['B5'], geo['B4'], geo['B3'], geo['B2']])\n",
    "    geo['soil'] = np.array([geo['S3'], geo['B6'], geo['F2'], geo['F1'], geo['S1'], geo['S2'], geo['S3']])\n",
    "    \n",
    "    \n",
    "    point_coords = np.array([geo[point] for point in geo['points']])\n",
    "    geo['xmin'] = 0 \n",
    "    geo['xmax'] = np.max(point_coords[:, 0])\n",
    "    geo['ymin'] = 0\n",
    "    geo['ymax'] = np.max(point_coords[:, 1])\n",
    "    return geo\n",
    "\n",
    "def plot_geometry(geo):\n",
    "    fig, ax = plt.subplots(1, 1)\n",
    "\n",
    "    patches = []\n",
    "    patches.append(Polygon(geo['footing'], True))    \n",
    "    patches.append(Polygon(geo['fill'], True))\n",
    "    patches.append(Polygon(geo['soil'], True))\n",
    "\n",
    "    p = PatchCollection(patches, alpha=.4, facecolor=['grey','greenyellow','tan'], lw=0)\n",
    "    ax.add_collection(p)\n",
    "\n",
    "    ax.plot(geo['footing'][:, 0], geo['footing'][:, 1],'-k')\n",
    "    ax.plot(geo['fill'][:, 0], geo['fill'][:, 1],'-k')\n",
    "    ax.plot(geo['soil'][:, 0], geo['soil'][:, 1],'-k')\n",
    "\n",
    "    point_coords = np.array([geo[i] for i in geo['points']])\n",
    "\n",
    "    ax.set_xlim([0, 1.2 * geo['xmax'] ])\n",
    "    ax.set_ylim([0, 1.2 * geo['ymax']])\n",
    "    ax.grid(alpha=0.4)\n",
    "    plt.close(fig)\n",
    "    return fig"
   ]
  },
  {
   "cell_type": "code",
   "execution_count": 3,
   "metadata": {
    "scrolled": true
   },
   "outputs": [
    {
     "data": {
      "image/png": "[encoded data removed]",
      "text/plain": [
       "<Figure size 432x288 with 1 Axes>"
      ]
     },
     "execution_count": 3,
     "metadata": {},
     "output_type": "execute_result"
    }
   ],
   "source": [
    "geo = get_geometry(0.4, 1.5, 0.30, 2, 30)\n",
    "plot_geometry(geo)"
   ]
  },
  {
   "cell_type": "code",
   "execution_count": 4,
   "metadata": {
    "code_folding": [
     0
    ]
   },
   "outputs": [],
   "source": [
    "def set_prop(title, comments):\n",
    "    g_i.setproperties(\"Title\",title, \"Comments\",comments, \"ModelType\",\"Axisymmetry\" )"
   ]
  },
  {
   "cell_type": "code",
   "execution_count": 5,
   "metadata": {
    "code_folding": [
     37
    ]
   },
   "outputs": [],
   "source": [
    "def build_geometry(mdl, geo):\n",
    "    g_i.gotostructures()\n",
    "    out = g_i.polygon(list(geo['B1']), list(geo['B2']), list(geo['B3']), \n",
    "                      list(geo['B4']), list(geo['B5']), list(geo['B6']))\n",
    "    mdl['polygon_footing'] = out[0]\n",
    "    mdl['soil_footing'] = out[1]\n",
    "    \n",
    "    out = g_i.polygon(list(geo['B2']), list(geo['F1']), list(geo['F2']),\n",
    "                      list(geo['B5']), list(geo['B4']), list(geo['B3']))\n",
    "    mdl['polygon_fill'] = out[0]\n",
    "    mdl['soil_fill'] = out[1]\n",
    "    out = g_i.polygon(list(geo['B6']), list(geo['F2']), list(geo['F1']),\n",
    "                      list(geo['S1']), list(geo['S2']), list(geo['S3']))\n",
    "    mdl['polygon_sand'] = out[0]\n",
    "    mdl['soil_sand'] = out[1]\n",
    "    \n",
    "    out = g_i.lineload(list(geo['B1']), list(geo['B2']))\n",
    "    mdl['PointB1'] = out[0]\n",
    "    mdl['PointB2'] = out[1]\n",
    "    mdl['LineB1B2'] = out[2]\n",
    "    mdl['LineLoad'] = out[3]\n",
    "\n",
    "    out = g_i.posinterface(list(geo['B2']), list(geo['B3']), list(geo['B4']),\n",
    "                           list(geo['B5']), list(geo['B6']))\n",
    "    mdl['PointB2_2'] = out[0]\n",
    "    mdl['PointB3'] = out[1]\n",
    "    mdl['PointB4'] = out[2]\n",
    "    mdl['PointB5'] = out[3]\n",
    "    mdl['PointB6'] = out[4]\n",
    "    mdl['LineB2B3'] = out[5]\n",
    "    mdl['LineB3B4'] = out[6]\n",
    "    mdl['LineB4B5'] = out[7]\n",
    "    mdl['LineB5B6'] = out[8]\n",
    "    mdl['InterfaceB2B3'] = out[9]\n",
    "    mdl['InterfaceB3B4'] = out[10]\n",
    "    mdl['InterfaceB4B5'] = out[11]\n",
    "    mdl['InterfaceB5B6'] = out[12]\n",
    "    return mdl\n",
    "\n",
    "def del_geometry(mdl):\n",
    "    g_i.gotostructures()\n",
    "    g_i.delete(mdl['polygon_footing'])\n",
    "    g_i.delete(mdl['polygon_fill'])\n",
    "    g_i.delete(mdl['polygon_sand'])\n",
    "    g_i.delete(mdl['LineLoad'])\n",
    "    g_i.delete(mdl['PointB1'])\n",
    "    g_i.delete(mdl['PointB2'])\n",
    "    g_i.delete(mdl['PointB6'])\n",
    "    g_i.delete(mdl['PointB5'])\n",
    "    g_i.delete(mdl['PointB4'])\n",
    "    g_i.delete(mdl['PointB3'])\n",
    "    g_i.delete(mdl['PointB2_2'])"
   ]
  },
  {
   "cell_type": "code",
   "execution_count": 6,
   "metadata": {
    "code_folding": [
     0,
     29
    ]
   },
   "outputs": [],
   "source": [
    "def build_materials(mdl, material):\n",
    "    g_i.gotosoil()\n",
    "    mdl['concrete'] = g_i.soilmat(\"MaterialName\",\"concrete\", \"MaterialNumber\", 0, \"SoilModel\", 1, \"DrainageType\", 1 ,\n",
    "                                  \"Eref\", material['concrete']['E'] * 1000, \"nu\", material['concrete']['nu'], \n",
    "                                  \"gammaSat\", material['concrete']['gamma'], \"gammaUnsat\", material['concrete']['gamma'])\n",
    "\n",
    "    mdl['sand'] = g_i.soilmat(\"MaterialName\",\"sand\", \"MaterialNumber\", 1, \"SoilModel\", 3, \"DrainageType\", 0,\n",
    "                             'gammaSat', material['sand']['gamma_sat'], 'gammaUnsat',material['sand']['gamma_unsat'],\n",
    "                             'einit', material['sand']['e0'], 'E50ref', material['sand']['E50ref'],\n",
    "                             'EoedRef', material['sand']['Eoedref'], 'EurRef', material['sand']['Euref'],\n",
    "                             'powerm', material['sand']['powerm'], 'cref', material['sand']['c'],\n",
    "                             'phi', material['sand']['phi'], 'psi', material['sand']['psi'],\n",
    "                             'nu', material['sand']['nu'], 'K0nc',material['sand']['K0nc'],\n",
    "                             'perm_primary_horizontal_axis', material['sand']['kx'],\n",
    "                             'perm_vertical_axis', material['sand']['ky'],\n",
    "                             'Rinter', material['sand']['Rinter'])\n",
    "\n",
    "    mdl['fill'] = g_i.soilmat(\"MaterialName\",\"fill\", \"MaterialNumber\", 1, \"SoilModel\", 3, \"DrainageType\", 0,\n",
    "                              'gammaSat', material['fill']['gamma_sat'], 'gammaUnsat',material['fill']['gamma_unsat'],\n",
    "                              'einit', material['fill']['e0'], 'E50ref', material['fill']['E50ref'],\n",
    "                              'EoedRef', material['fill']['Eoedref'], 'EurRef', material['fill']['Euref'],\n",
    "                              'powerm', material['fill']['powerm'], 'cref', material['fill']['c'],\n",
    "                              'phi', material['fill']['phi'], 'psi', material['fill']['psi'],\n",
    "                              'nu', material['fill']['nu'], 'K0nc',material['fill']['K0nc'],\n",
    "                              'perm_primary_horizontal_axis', material['fill']['kx'],\n",
    "                              'perm_vertical_axis', material['fill']['ky'],\n",
    "                              'Rinter', material['fill']['Rinter'])\n",
    "    return mdl\n",
    "\n",
    "def del_materials(mdl):\n",
    "    g_i.gotosoil()\n",
    "    g_i.delete(mdl['concrete'])\n",
    "    g_i.delete(mdl['sand'])\n",
    "    g_i.delete(mdl['fill'])"
   ]
  },
  {
   "cell_type": "code",
   "execution_count": 7,
   "metadata": {
    "code_folding": [
     0,
     38
    ]
   },
   "outputs": [],
   "source": [
    "def build_phases(mdl):\n",
    "    g_i.gotostages()\n",
    "\n",
    "    g_i.Model.CurrentPhase = g_i.InitialPhase\n",
    "    g_i.activate(mdl['polygon_sand'], g_i.Model.CurrentPhase)\n",
    "    g_i.activate(mdl['polygon_fill'], g_i.Model.CurrentPhase)\n",
    "    g_i.activate(mdl['polygon_footing'], g_i.Model.CurrentPhase)\n",
    "\n",
    "    g_i.set(g_i.Soil_3_1.Material, g_i.Model.CurrentPhase, mdl['sand'])\n",
    "    g_i.set(g_i.Soil_2_1.Material, g_i.Model.CurrentPhase, mdl['sand'])\n",
    "    g_i.set(g_i.Soil_1_1.Material, g_i.Model.CurrentPhase, mdl['sand'])\n",
    "\n",
    "    mdl['excavation phase'] = g_i.phase(g_i.InitialPhase)\n",
    "    mdl['excavation phase'].Identification = \"excavation\"\n",
    "    g_i.Model.CurrentPhase = mdl['excavation phase']\n",
    "    g_i.deactivate(mdl['polygon_fill'], g_i.Model.CurrentPhase)\n",
    "    g_i.deactivate(mdl['polygon_footing'], g_i.Model.CurrentPhase)\n",
    "\n",
    "    mdl['construction phase'] = g_i.phase(mdl['excavation phase'])\n",
    "    mdl['construction phase'].Identification = \"construction\"\n",
    "    g_i.Model.CurrentPhase = mdl['construction phase']\n",
    "    g_i.activate(mdl['polygon_fill'], g_i.Model.CurrentPhase)\n",
    "    g_i.activate(mdl['polygon_footing'], g_i.Model.CurrentPhase)\n",
    "    g_i.activate(mdl['LineB2B3'], g_i.Model.CurrentPhase)\n",
    "    g_i.activate(mdl['LineB3B4'], g_i.Model.CurrentPhase)\n",
    "    g_i.activate(mdl['LineB4B5'], g_i.Model.CurrentPhase)\n",
    "    g_i.activate(mdl['LineB5B6'], g_i.Model.CurrentPhase)\n",
    "    g_i.set(g_i.Soil_2_1.Material, g_i.Model.CurrentPhase, mdl['fill'])\n",
    "    g_i.set(g_i.Soil_1_1.Material, g_i.Model.CurrentPhase, mdl['concrete'])\n",
    "\n",
    "\n",
    "    mdl['loading phase'] = g_i.phase(mdl['construction phase'])\n",
    "    mdl['loading phase'].Identification = \"loading\"\n",
    "    g_i.Model.CurrentPhase = mdl['loading phase']\n",
    "    g_i.activate(mdl['LineB1B2'], g_i.Model.CurrentPhase)\n",
    "    g_i.set(g_i.LineLoad_1_1.qy_start, g_i.Model.CurrentPhase, -300)\n",
    "    return mdl\n",
    "\n",
    "def delete_phases(mdl):\n",
    "    g_i.gotostages()\n",
    "    g_i.delete(mdl['loading phase'])\n",
    "    g_i.delete(mdl['construction phase'])\n",
    "    g_i.delete(mdl['excavation phase'])\n",
    "    g_i.Model.CurrentPhase = g_i.InitialPhase\n",
    "    g_i.deactivate(mdl['polygon_sand'], g_i.Model.CurrentPhase)\n",
    "    g_i.deactivate(mdl['polygon_fill'], g_i.Model.CurrentPhase)\n",
    "    g_i.deactivate(mdl['polygon_footing'], g_i.Model.CurrentPhase)"
   ]
  },
  {
   "cell_type": "code",
   "execution_count": 8,
   "metadata": {
    "code_folding": [
     0
    ]
   },
   "outputs": [],
   "source": [
    "def build_model(title, comments, B0, B, D0, D, fill_angle, mesh_density, material):\n",
    "    mdl = {}\n",
    "    geo = get_geometry(B0, B, D0, D, fill_angle)\n",
    "    fig = plot_geometry(geo)\n",
    "    set_prop(title, comments)\n",
    "    mdl = build_geometry(mdl, geo)\n",
    "    mdl = build_materials(mdl, material)\n",
    "    g_i.gotomesh()\n",
    "    mesh = g_i.mesh(mesh_density)\n",
    "    mdl = build_phases(mdl)\n",
    "    return mdl, fig"
   ]
  },
  {
   "cell_type": "code",
   "execution_count": 9,
   "metadata": {},
   "outputs": [],
   "source": [
    "title = \"Embedded footing in sand\"\n",
    "comments = \"\"\n",
    "\n",
    "B0 = 0.4\n",
    "B = 1.5\n",
    "D0 = 0.30\n",
    "D = 2\n",
    "fill_angle = 32\n",
    "\n",
    "mesh_density = 0.06\n",
    "\n",
    "material = {}\n",
    "material['concrete'] = {}\n",
    "material['concrete']['fc'] = 24000 # kPa\n",
    "material['concrete']['E'] = 4700 *  np.sqrt(material['concrete']['fc']) # kPa\n",
    "material['concrete']['nu'] = 0.4 #\n",
    "material['concrete']['gamma'] = 24 # kN/m3\n",
    "\n",
    "material['sand'] = {}\n",
    "material['sand']['gamma_unsat'] = 17\n",
    "material['sand']['gamma_sat'] = 20\n",
    "material['sand']['e0'] = 0.2\n",
    "material['sand']['E50ref'] = 4e4\n",
    "material['sand']['Eoedref'] = 4e4\n",
    "material['sand']['Euref'] = 1.2e5\n",
    "material['sand']['powerm'] = 0.5\n",
    "material['sand']['c'] = 0\n",
    "material['sand']['phi'] = 32\n",
    "material['sand']['psi'] = 2\n",
    "material['sand']['nu'] = 0.2\n",
    "material['sand']['K0nc'] = 0.4701\n",
    "material['sand']['kx'] = 1\n",
    "material['sand']['ky'] =1\n",
    "material['sand']['Rinter'] = 0.67\n",
    "\n",
    "\n",
    "material['fill'] = {}\n",
    "material['fill']['gamma_unsat'] = 17\n",
    "material['fill']['gamma_sat'] = 20\n",
    "material['fill']['e0'] = 0.2\n",
    "material['fill']['E50ref'] = 4e4\n",
    "material['fill']['Eoedref'] = 4e4\n",
    "material['fill']['Euref'] = 1.2e5\n",
    "material['fill']['powerm'] = 0.5\n",
    "material['fill']['c'] = 0\n",
    "material['fill']['phi'] = 32\n",
    "material['fill']['psi'] = 2\n",
    "material['fill']['nu'] = 0.2\n",
    "material['fill']['K0nc'] = 0.4701\n",
    "material['fill']['kx'] = 1\n",
    "material['fill']['ky'] =1\n",
    "material['fill']['Rinter'] = 0.67\n"
   ]
  },
  {
   "cell_type": "code",
   "execution_count": 10,
   "metadata": {
    "scrolled": false
   },
   "outputs": [
    {
     "data": {
      "image/png": "[encoded data removed]",
      "text/plain": [
       "<Figure size 432x288 with 1 Axes>"
      ]
     },
     "execution_count": 10,
     "metadata": {},
     "output_type": "execute_result"
    }
   ],
   "source": [
    "mdl, fig = build_model(title, comments, B0, B, D0, D, fill_angle, mesh_density, material)\n",
    "fig"
   ]
  },
  {
   "cell_type": "code",
   "execution_count": 11,
   "metadata": {},
   "outputs": [
    {
     "data": {
      "text/plain": [
       "'OK'"
      ]
     },
     "execution_count": 11,
     "metadata": {},
     "output_type": "execute_result"
    }
   ],
   "source": [
    "g_i.calculate()"
   ]
  },
  {
   "cell_type": "code",
   "execution_count": null,
   "metadata": {},
   "outputs": [],
   "source": []
  }
 ],
 "metadata": {
  "hide_input": false,
  "kernelspec": {
   "display_name": "PLAXIS Python 3",
   "language": "python",
   "name": "plaxis_python3"
  },
  "language_info": {
   "codemirror_mode": {
    "name": "ipython",
    "version": 3
   },
   "file_extension": ".py",
   "mimetype": "text/x-python",
   "name": "python",
   "nbconvert_exporter": "python",
   "pygments_lexer": "ipython3",
   "version": "3.7.4"
  },
  "toc": {
   "base_numbering": 1,
   "nav_menu": {},
   "number_sections": false,
   "sideBar": true,
   "skip_h1_title": false,
   "title_cell": "Table of Contents",
   "title_sidebar": "Contents",
   "toc_cell": false,
   "toc_position": {
    "height": "calc(100% - 180px)",
    "left": "10px",
    "top": "150px",
    "width": "165px"
   },
   "toc_section_display": true,
   "toc_window_display": true
  },
  "varInspector": {
   "cols": {
    "lenName": 16,
    "lenType": 16,
    "lenVar": 40
   },
   "kernels_config": {
    "python": {
     "delete_cmd_postfix": "",
     "delete_cmd_prefix": "del ",
     "library": "var_list.py",
     "varRefreshCmd": "print(var_dic_list())"
    },
    "r": {
     "delete_cmd_postfix": ") ",
     "delete_cmd_prefix": "rm(",
     "library": "var_list.r",
     "varRefreshCmd": "cat(var_dic_list()) "
    }
   },
   "types_to_exclude": [
    "module",
    "function",
    "builtin_function_or_method",
    "instance",
    "_Feature"
   ],
   "window_display": false
  }
 },
 "nbformat": 4,
 "nbformat_minor": 2
}
