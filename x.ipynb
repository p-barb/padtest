{
 "cells": [
  {
   "cell_type": "code",
   "execution_count": 1,
   "metadata": {},
   "outputs": [],
   "source": [
    "from plxscripting.easy import *"
   ]
  },
  {
   "cell_type": "code",
   "execution_count": 2,
   "metadata": {},
   "outputs": [],
   "source": [
    "password = \"nicFgr^TtsFm~h~M\"\n",
    "localhostport_input = 10000 \n",
    "localhostport_output = 10001\n",
    "s_i, g_i = new_server('localhost', localhostport_input, password=password) \n",
    "s_o, g_o = new_server('localhost', localhostport_output, password=password)"
   ]
  },
  {
   "cell_type": "code",
   "execution_count": 3,
   "metadata": {},
   "outputs": [],
   "source": [
    "import matplotlib.pyplot as plt\n",
    "import numpy as np\n",
    "import pandas as pd"
   ]
  },
  {
   "cell_type": "code",
   "execution_count": 4,
   "metadata": {},
   "outputs": [],
   "source": [
    "from ltest.geometry import Geometry\n",
    "from ltest.model import Model"
   ]
  },
  {
   "cell_type": "code",
   "execution_count": 5,
   "metadata": {
    "code_folding": []
   },
   "outputs": [],
   "source": [
    "def set_concrete_plate(fc, gamma, d, young_modulus=None, poisson=0.4):\n",
    "    concrete = {}\n",
    "    concrete['fc'] = fc * 1000 # kPa\n",
    "    if young_modulus is None:\n",
    "        concrete['E'] = 4700 *  np.sqrt(concrete['fc']) # kPa\n",
    "    else:\n",
    "        concrete['E'] = young_modulus\n",
    "    concrete['nu'] = poisson \n",
    "    concrete['EA'] = concrete['E'] * d\n",
    "    concrete['EI'] = concrete['E'] * d**3/12\n",
    "    concrete['d'] = np.sqrt(12 * concrete['EI'] / concrete['EA'])\n",
    "    concrete['Gref'] = concrete['EA'] / concrete['d']  / (2 * (1 + concrete['nu'])) # KPa\n",
    "    return concrete"
   ]
  },
  {
   "cell_type": "code",
   "execution_count": 6,
   "metadata": {},
   "outputs": [
    {
     "data": {
      "text/plain": [
       "buried solid foundation with fill and underfill:\n",
       "\n",
       "  -d = 3.00                        foundation depth [m]\n",
       "  -b = 2.00                        foundation width [m]\n",
       "  -b1 = 0.30                       column width [m]\n",
       "  -d1 = 0.50                       foundation thickness [m]\n",
       "  -dunder = 0.50                   foundation underbase thickness [m]\n",
       "  -fill_angle = 30.00              fill angle [deg]\n",
       "  -bfill = 0.50                    distance between foundation edge and the start of the\n",
       "                                   fill slope [m]\n",
       "  -wt = 2.00                       water table depth [m]"
      ]
     },
     "execution_count": 6,
     "metadata": {},
     "output_type": "execute_result"
    }
   ],
   "source": [
    "geo = Geometry(2, 3, b1=0.3, d1=0.5, dunder=0.5, foundation_type='solid', fill_angle=30, dfill=[0.5, 1],\n",
    "               dstrata=[1.5,1.7,1], wt=2)\n",
    "geo"
   ]
  },
  {
   "cell_type": "code",
   "execution_count": 7,
   "metadata": {},
   "outputs": [
    {
     "data": {
      "image/png": "[encoded data removed]",
      "text/plain": [
       "<Figure size 288x360.192 with 1 Axes>"
      ]
     },
     "execution_count": 7,
     "metadata": {},
     "output_type": "execute_result"
    }
   ],
   "source": [
    "geo.plot()#fill=False, foundation=False)"
   ]
  },
  {
   "cell_type": "code",
   "execution_count": 8,
   "metadata": {},
   "outputs": [],
   "source": [
    "# example of hs material\n",
    "sand = {}\n",
    "sand['SoilModel'] = 'hardening soil'\n",
    "sand[\"DrainageType\"] = 0\n",
    "sand['gammaSat'] = 17\n",
    "sand['gammaUnsat'] = 20\n",
    "sand['e0'] = 0.2\n",
    "sand['E50ref'] = 4e4\n",
    "sand['Eoedref'] = 4e4\n",
    "sand['Euref'] = 1.2e5\n",
    "sand['powerm'] = 0.5\n",
    "sand['c'] = 0\n",
    "sand['phi'] = 32\n",
    "sand['psi'] = 2\n",
    "sand['nu'] = 0.2\n",
    "\n",
    "# example of elastic material\n",
    "concrete = {}\n",
    "concrete['SoilModel'] = 'elastic'\n",
    "concrete[\"DrainageType\"] = 0\n",
    "concrete['Eref'] = 4700 *  np.sqrt(24000) # kPa\n",
    "concrete['nu'] = 0.4 #\n",
    "concrete['gammaSat'] = 17\n",
    "concrete['gammaUnsat'] = 20\n",
    "\n",
    "# Create H30 concrete slab with a 40cm thickness and 24kN/m3 unit weight\n",
    "column = set_concrete_plate(30, 24, 0.4)\n",
    "# Create H30 concrete slab with a 60cm thickness and 24kN/m3 unit weight\n",
    "footing = set_concrete_plate(30, 24, 0.6)"
   ]
  },
  {
   "cell_type": "code",
   "execution_count": 197,
   "metadata": {},
   "outputs": [],
   "source": [
    "#mdl = Model(s_i, g_i, 2, 3, sand, column=column, footing=footing)\n",
    "#mdl = Model(s_i, g_i, 2, 3, sand, b1=0.3, d1=0.5, foundation_type='solid', concrete=concrete)\n",
    "mdl = Model(s_i, g_i, 2, 3, sand, b1=0.3, d1=0.5, foundation_type='solid', concrete=concrete, fill_angle=30, fill=sand, wt=2)"
   ]
  },
  {
   "cell_type": "code",
   "execution_count": null,
   "metadata": {},
   "outputs": [],
   "source": [
    "mdl."
   ]
  },
  {
   "cell_type": "code",
   "execution_count": 50,
   "metadata": {},
   "outputs": [],
   "source": [
    "self = mdl\n",
    "g_i.gotostages()\n",
    "self['iphases'] = {}\n",
    "self['start phase'] = 'construction'\n",
    "# Initial phase\n",
    "self['iphases']['Initial phase'] = g_i.InitialPhase\n",
    "g_i.Model.CurrentPhase = g_i.InitialPhase"
   ]
  },
  {
   "cell_type": "code",
   "execution_count": 51,
   "metadata": {},
   "outputs": [],
   "source": [
    "g_i.gotostages()\n",
    "self['start phase'] = 'construction'\n",
    "# Initial phase\n",
    "self['iphases']['Initial phase'] = g_i.InitialPhase\n",
    "g_i.Model.CurrentPhase = g_i.InitialPhase\n",
    "\n",
    "for idx in self['structures']['polygon']:\n",
    "    g_i.deactivate(self['structures']['polygon'][idx], g_i.Model.CurrentPhase)\n",
    "for idx in self['structures']['plate']:\n",
    "    g_i.deactivate(self['structures']['polygon'][idx], g_i.Model.CurrentPhase)\n",
    "\n",
    "for idx in range(self['geo']._nstrata):\n",
    "    lbl = 'strata_{:.0f}'.format(idx+1)\n",
    "    g_i.activate(self['structures']['polygon'][lbl] , g_i.Model.CurrentPhase)\n",
    "\n",
    "for idx in range(self['geo']._nexcavated):\n",
    "    lbl = 'excavated_{:.0f}'.format(idx+1)\n",
    "    g_i.activate(self['structures']['polygon'][lbl] , g_i.Model.CurrentPhase)\n",
    "\n",
    "if self['geo']._under is not None:\n",
    "    g_i.activate(self['structures']['polygon']['under'], g_i.Model.CurrentPhase)"
   ]
  },
  {
   "cell_type": "code",
   "execution_count": 70,
   "metadata": {},
   "outputs": [
    {
     "data": {
      "text/plain": [
       "<SoilMat {6CF29AB3-491C-42C8-ADE0-F71E15261B36}>"
      ]
     },
     "execution_count": 70,
     "metadata": {},
     "output_type": "execute_result"
    }
   ],
   "source": []
  },
  {
   "cell_type": "code",
   "execution_count": 76,
   "metadata": {},
   "outputs": [],
   "source": [
    "g_i.Soil_3_1.Material[g_i.Phase_1] = self['soil material']['strata_1']"
   ]
  },
  {
   "cell_type": "code",
   "execution_count": 126,
   "metadata": {
    "scrolled": false
   },
   "outputs": [
    {
     "data": {
      "text/plain": [
       "<Polygon {49708DEC-8DB7-40D8-BD62-9394BE11B133}>"
      ]
     },
     "execution_count": 126,
     "metadata": {},
     "output_type": "execute_result"
    }
   ],
   "source": [
    "self['structures']['polygon']['strata_1']"
   ]
  },
  {
   "cell_type": "code",
   "execution_count": 124,
   "metadata": {},
   "outputs": [
    {
     "ename": "TypeError",
     "evalue": "'<class 'plxscripting.plxproxyfactory.PlxProxyFactory.mix_in.<locals>.CombinedClass'>' object is not subscriptable",
     "output_type": "error",
     "traceback": [
      "\u001b[1;31m---------------------------------------------------------------------------\u001b[0m",
      "\u001b[1;31mTypeError\u001b[0m                                 Traceback (most recent call last)",
      "\u001b[1;32m<ipython-input-124-d9094a8414b1>\u001b[0m in \u001b[0;36m<module>\u001b[1;34m\u001b[0m\n\u001b[1;32m----> 1\u001b[1;33m \u001b[0mself\u001b[0m\u001b[1;33m[\u001b[0m\u001b[1;34m'structures'\u001b[0m\u001b[1;33m]\u001b[0m\u001b[1;33m[\u001b[0m\u001b[1;34m'polygon'\u001b[0m\u001b[1;33m]\u001b[0m\u001b[1;33m[\u001b[0m\u001b[1;34m'strata_1'\u001b[0m\u001b[1;33m]\u001b[0m\u001b[1;33m.\u001b[0m\u001b[0mSoil\u001b[0m\u001b[1;33m.\u001b[0m\u001b[0mMaterial\u001b[0m\u001b[1;33m[\u001b[0m\u001b[0mg_i\u001b[0m\u001b[1;33m.\u001b[0m\u001b[0mModel\u001b[0m\u001b[1;33m.\u001b[0m\u001b[0mCurrentPhase\u001b[0m\u001b[1;33m]\u001b[0m\u001b[1;33m\u001b[0m\u001b[1;33m\u001b[0m\u001b[0m\n\u001b[0m",
      "\u001b[1;32mC:\\ProgramData\\Bentley\\Geotechnical\\PLAXIS Python Distribution V1\\python\\lib\\site-packages\\plxscripting\\plxproxy.py\u001b[0m in \u001b[0;36m__getitem__\u001b[1;34m(self, index)\u001b[0m\n\u001b[0;32m    613\u001b[0m         \u001b[1;32mif\u001b[0m \u001b[1;32mnot\u001b[0m \u001b[0misinstance\u001b[0m\u001b[1;33m(\u001b[0m\u001b[0mvalue\u001b[0m\u001b[1;33m,\u001b[0m \u001b[0mPlxProxyListable\u001b[0m\u001b[1;33m)\u001b[0m\u001b[1;33m:\u001b[0m\u001b[1;33m\u001b[0m\u001b[1;33m\u001b[0m\u001b[0m\n\u001b[0;32m    614\u001b[0m             raise TypeError(\"'{}' object is not subscriptable\".format(\n\u001b[1;32m--> 615\u001b[1;33m                 type(value)))\n\u001b[0m\u001b[0;32m    616\u001b[0m         \u001b[1;32mreturn\u001b[0m \u001b[0mvalue\u001b[0m\u001b[1;33m[\u001b[0m\u001b[0mindex\u001b[0m\u001b[1;33m]\u001b[0m\u001b[1;33m\u001b[0m\u001b[1;33m\u001b[0m\u001b[0m\n\u001b[0;32m    617\u001b[0m \u001b[1;33m\u001b[0m\u001b[0m\n",
      "\u001b[1;31mTypeError\u001b[0m: '<class 'plxscripting.plxproxyfactory.PlxProxyFactory.mix_in.<locals>.CombinedClass'>' object is not subscriptable"
     ]
    }
   ],
   "source": [
    "self['structures']['polygon']['strata_1'].Soil.Material[g_i.Model.CurrentPhase]"
   ]
  },
  {
   "cell_type": "code",
   "execution_count": 150,
   "metadata": {},
   "outputs": [
    {
     "data": {
      "text/plain": [
       "'OK'"
      ]
     },
     "execution_count": 150,
     "metadata": {},
     "output_type": "execute_result"
    }
   ],
   "source": [
    "#g_i.gotostages()\n",
    "g_i.gotostructures()\n",
    "#g_i.polygons[2].Soil.Material[g_i.Model.CurrentPhase]"
   ]
  },
  {
   "cell_type": "code",
   "execution_count": 200,
   "metadata": {},
   "outputs": [
    {
     "data": {
      "text/plain": [
       "<ModelGroup {A7D424CC-3CAF-482E-BF07-AB43B2348C9F}>"
      ]
     },
     "execution_count": 200,
     "metadata": {},
     "output_type": "execute_result"
    }
   ],
   "source": [
    "g_i.gotostructures()\n",
    "g_i.polygons"
   ]
  },
  {
   "cell_type": "code",
   "execution_count": 201,
   "metadata": {},
   "outputs": [
    {
     "data": {
      "text/plain": [
       "<CutModelGroup {BE1607C6-2A69-4DE6-AFDA-5A6936949618}>"
      ]
     },
     "execution_count": 201,
     "metadata": {},
     "output_type": "execute_result"
    }
   ],
   "source": [
    "g_i.gotostages()\n",
    "g_i.polygons"
   ]
  },
  {
   "cell_type": "code",
   "execution_count": 198,
   "metadata": {},
   "outputs": [
    {
     "name": "stdout",
     "output_type": "stream",
     "text": [
      "Polygon_1\n",
      "Polygon_2\n",
      "Polygon_3\n",
      "Polygon_4\n"
     ]
    }
   ],
   "source": [
    "g_i.gotostructures()\n",
    "for poly in g_i.polygons:\n",
    "    print(poly.Name.value)"
   ]
  },
  {
   "cell_type": "code",
   "execution_count": 199,
   "metadata": {},
   "outputs": [
    {
     "name": "stdout",
     "output_type": "stream",
     "text": [
      "Polygon_1_Polygon_2_1\n",
      "Polygon_2_Polygon_4_1\n",
      "Polygon_3_1\n"
     ]
    }
   ],
   "source": [
    "g_i.gotostages()\n",
    "g_i.Model.CurrentPhase = g_i.InitialPhase\n",
    "len(g_i.polygons)\n",
    "for poly in g_i.polygons:\n",
    "    print(poly.Name.value)"
   ]
  },
  {
   "cell_type": "code",
   "execution_count": 166,
   "metadata": {},
   "outputs": [
    {
     "data": {
      "text/plain": [
       "'Polygon_1_Polygon_2_1'"
      ]
     },
     "execution_count": 166,
     "metadata": {},
     "output_type": "execute_result"
    }
   ],
   "source": [
    "g_i.polygons[0].Name.value"
   ]
  },
  {
   "cell_type": "code",
   "execution_count": null,
   "metadata": {},
   "outputs": [],
   "source": []
  },
  {
   "cell_type": "code",
   "execution_count": 111,
   "metadata": {},
   "outputs": [
    {
     "data": {
      "text/plain": [
       "<Staged Property list>"
      ]
     },
     "execution_count": 111,
     "metadata": {},
     "output_type": "execute_result"
    }
   ],
   "source": [
    "g_i.Soil_1.Material"
   ]
  },
  {
   "cell_type": "code",
   "execution_count": 102,
   "metadata": {},
   "outputs": [
    {
     "data": {
      "text/plain": [
       "<SourceFeature {C0EE187F-D7CD-41DE-9318-30081402E23A}>"
      ]
     },
     "execution_count": 102,
     "metadata": {},
     "output_type": "execute_result"
    }
   ],
   "source": [
    "g_i.Soil_1"
   ]
  },
  {
   "cell_type": "code",
   "execution_count": 117,
   "metadata": {},
   "outputs": [
    {
     "data": {
      "text/plain": [
       "<staged.Soil {A0BBA7FD-4576-46B7-A332-F7E411F702F3}>"
      ]
     },
     "execution_count": 117,
     "metadata": {},
     "output_type": "execute_result"
    }
   ],
   "source": [
    "g_i.Soil_3_1"
   ]
  },
  {
   "cell_type": "code",
   "execution_count": null,
   "metadata": {},
   "outputs": [],
   "source": [
    "g_i.Soil_3_1"
   ]
  },
  {
   "cell_type": "code",
   "execution_count": 120,
   "metadata": {},
   "outputs": [
    {
     "data": {
      "text/plain": [
       "<staged.Material {4CE7A26C-4C5B-43A9-A8D8-4882E56C4C53}>"
      ]
     },
     "execution_count": 120,
     "metadata": {},
     "output_type": "execute_result"
    }
   ],
   "source": [
    "g_i.Soil_3_1.Material"
   ]
  },
  {
   "cell_type": "code",
   "execution_count": 119,
   "metadata": {},
   "outputs": [
    {
     "data": {
      "text/plain": [
       "'OK'"
      ]
     },
     "execution_count": 119,
     "metadata": {},
     "output_type": "execute_result"
    }
   ],
   "source": [
    "g_i.set(g_i.Soil_3_1.Material, g_i.Model.CurrentPhase, self['soil material']['strata_1'])"
   ]
  },
  {
   "cell_type": "code",
   "execution_count": null,
   "metadata": {},
   "outputs": [],
   "source": []
  },
  {
   "cell_type": "code",
   "execution_count": null,
   "metadata": {},
   "outputs": [],
   "source": []
  },
  {
   "cell_type": "code",
   "execution_count": 81,
   "metadata": {
    "scrolled": false
   },
   "outputs": [
    {
     "data": {
      "text/plain": [
       "['ApplyStrengthReduction',\n",
       " 'Comments',\n",
       " 'Deconfinement',\n",
       " 'Material',\n",
       " 'Metadata',\n",
       " 'Name',\n",
       " 'Parent',\n",
       " 'TypeName',\n",
       " 'UserFeatures',\n",
       " '__class__',\n",
       " '__delattr__',\n",
       " '__dir__',\n",
       " '__doc__',\n",
       " '__eq__',\n",
       " '__format__',\n",
       " '__ge__',\n",
       " '__get__',\n",
       " '__getattribute__',\n",
       " '__gt__',\n",
       " '__hash__',\n",
       " '__init__',\n",
       " '__init_subclass__',\n",
       " '__le__',\n",
       " '__lt__',\n",
       " '__ne__',\n",
       " '__new__',\n",
       " '__reduce__',\n",
       " '__reduce_ex__',\n",
       " '__repr__',\n",
       " '__self__',\n",
       " '__self_class__',\n",
       " '__setattr__',\n",
       " '__sizeof__',\n",
       " '__str__',\n",
       " '__subclasshook__',\n",
       " '__thisclass__',\n",
       " 'clearmaterial',\n",
       " 'commands',\n",
       " 'dump',\n",
       " 'echo',\n",
       " 'getmetadata',\n",
       " 'info',\n",
       " 'multiply',\n",
       " 'observers',\n",
       " 'rename',\n",
       " 'set',\n",
       " 'setmaterial',\n",
       " 'setmetadata',\n",
       " 'setproperties']"
      ]
     },
     "execution_count": 81,
     "metadata": {},
     "output_type": "execute_result"
    }
   ],
   "source": [
    "dir(self['structures']['soil']['strata_1'])"
   ]
  },
  {
   "cell_type": "code",
   "execution_count": 71,
   "metadata": {
    "scrolled": false
   },
   "outputs": [
    {
     "ename": "PlxScriptingError",
     "evalue": "Unsuccessful command:\nUnknown object. Check the spelling and ensure the object exists before trying to access it.",
     "output_type": "error",
     "traceback": [
      "\u001b[1;31m---------------------------------------------------------------------------\u001b[0m",
      "\u001b[1;31mPlxScriptingError\u001b[0m                         Traceback (most recent call last)",
      "\u001b[1;32m<ipython-input-71-b2901fd5d49b>\u001b[0m in \u001b[0;36m<module>\u001b[1;34m\u001b[0m\n\u001b[0;32m      1\u001b[0m \u001b[0mg_i\u001b[0m\u001b[1;33m.\u001b[0m\u001b[0mgotostages\u001b[0m\u001b[1;33m(\u001b[0m\u001b[1;33m)\u001b[0m\u001b[1;33m\u001b[0m\u001b[1;33m\u001b[0m\u001b[0m\n\u001b[1;32m----> 2\u001b[1;33m \u001b[0mself\u001b[0m\u001b[1;33m[\u001b[0m\u001b[1;34m'structures'\u001b[0m\u001b[1;33m]\u001b[0m\u001b[1;33m[\u001b[0m\u001b[1;34m'soil'\u001b[0m\u001b[1;33m]\u001b[0m\u001b[1;33m[\u001b[0m\u001b[1;34m'strata_1'\u001b[0m\u001b[1;33m]\u001b[0m\u001b[1;33m.\u001b[0m\u001b[0mset\u001b[0m\u001b[1;33m(\u001b[0m\u001b[0mself\u001b[0m\u001b[1;33m[\u001b[0m\u001b[1;34m'soil material'\u001b[0m\u001b[1;33m]\u001b[0m\u001b[1;33m[\u001b[0m\u001b[1;34m'strata_1'\u001b[0m\u001b[1;33m]\u001b[0m\u001b[1;33m)\u001b[0m\u001b[1;33m\u001b[0m\u001b[1;33m\u001b[0m\u001b[0m\n\u001b[0m",
      "\u001b[1;32mC:\\ProgramData\\Bentley\\Geotechnical\\PLAXIS Python Distribution V1\\python\\lib\\site-packages\\plxscripting\\plxproxy.py\u001b[0m in \u001b[0;36m__call__\u001b[1;34m(self, *params)\u001b[0m\n\u001b[0;32m    384\u001b[0m         \"\"\"\n\u001b[0;32m    385\u001b[0m         return self._server.call_plx_object_method(\n\u001b[1;32m--> 386\u001b[1;33m             self._proxy_object, self._method_name, params)\n\u001b[0m\u001b[0;32m    387\u001b[0m \u001b[1;33m\u001b[0m\u001b[0m\n\u001b[0;32m    388\u001b[0m \u001b[1;33m\u001b[0m\u001b[0m\n",
      "\u001b[1;32mC:\\ProgramData\\Bentley\\Geotechnical\\PLAXIS Python Distribution V1\\python\\lib\\site-packages\\plxscripting\\server.py\u001b[0m in \u001b[0;36mcall_plx_object_method\u001b[1;34m(self, proxy_obj, method_name, params)\u001b[0m\n\u001b[0;32m    698\u001b[0m             proxy_obj, method_name, params)\n\u001b[0;32m    699\u001b[0m \u001b[1;33m\u001b[0m\u001b[0m\n\u001b[1;32m--> 700\u001b[1;33m         \u001b[1;32mreturn\u001b[0m \u001b[0mself\u001b[0m\u001b[1;33m.\u001b[0m\u001b[0mcall_and_handle_command\u001b[0m\u001b[1;33m(\u001b[0m\u001b[0mmethod_call_cmd\u001b[0m\u001b[1;33m)\u001b[0m\u001b[1;33m\u001b[0m\u001b[1;33m\u001b[0m\u001b[0m\n\u001b[0m\u001b[0;32m    701\u001b[0m \u001b[1;33m\u001b[0m\u001b[0m\n\u001b[0;32m    702\u001b[0m     \u001b[1;32mdef\u001b[0m \u001b[0mcall_and_handle_command\u001b[0m\u001b[1;33m(\u001b[0m\u001b[0mself\u001b[0m\u001b[1;33m,\u001b[0m \u001b[0mcommand\u001b[0m\u001b[1;33m)\u001b[0m\u001b[1;33m:\u001b[0m\u001b[1;33m\u001b[0m\u001b[1;33m\u001b[0m\u001b[0m\n",
      "\u001b[1;32mC:\\ProgramData\\Bentley\\Geotechnical\\PLAXIS Python Distribution V1\\python\\lib\\site-packages\\plxscripting\\server.py\u001b[0m in \u001b[0;36mcall_and_handle_command\u001b[1;34m(self, command)\u001b[0m\n\u001b[0;32m    705\u001b[0m         \u001b[0mresource\u001b[0m\u001b[1;33m.\u001b[0m \u001b[0mReturns\u001b[0m \u001b[0mthe\u001b[0m \u001b[0mhandled\u001b[0m \u001b[0mresponse\u001b[0m \u001b[0mto\u001b[0m \u001b[0mthat\u001b[0m \u001b[0mcommand\u001b[0m\u001b[1;33m.\u001b[0m\u001b[1;33m\u001b[0m\u001b[1;33m\u001b[0m\u001b[0m\n\u001b[0;32m    706\u001b[0m         \"\"\"\n\u001b[1;32m--> 707\u001b[1;33m         \u001b[0mresponse\u001b[0m \u001b[1;33m=\u001b[0m \u001b[0mself\u001b[0m\u001b[1;33m.\u001b[0m\u001b[0mcall_and_handle_commands\u001b[0m\u001b[1;33m(\u001b[0m\u001b[0mcommand\u001b[0m\u001b[1;33m)\u001b[0m\u001b[1;33m\u001b[0m\u001b[1;33m\u001b[0m\u001b[0m\n\u001b[0m\u001b[0;32m    708\u001b[0m         \u001b[1;32mreturn\u001b[0m \u001b[0mresponse\u001b[0m\u001b[1;33m[\u001b[0m\u001b[1;36m0\u001b[0m\u001b[1;33m]\u001b[0m \u001b[1;32mif\u001b[0m \u001b[0mlen\u001b[0m\u001b[1;33m(\u001b[0m\u001b[0mresponse\u001b[0m\u001b[1;33m)\u001b[0m \u001b[1;33m>\u001b[0m \u001b[1;36m0\u001b[0m \u001b[1;32melse\u001b[0m \u001b[1;32mNone\u001b[0m\u001b[1;33m\u001b[0m\u001b[1;33m\u001b[0m\u001b[0m\n\u001b[0;32m    709\u001b[0m \u001b[1;33m\u001b[0m\u001b[0m\n",
      "\u001b[1;32mC:\\ProgramData\\Bentley\\Geotechnical\\PLAXIS Python Distribution V1\\python\\lib\\site-packages\\plxscripting\\server.py\u001b[0m in \u001b[0;36mcall_and_handle_commands\u001b[1;34m(self, *commands)\u001b[0m\n\u001b[0;32m    716\u001b[0m         return [\n\u001b[0;32m    717\u001b[0m             \u001b[0mself\u001b[0m\u001b[1;33m.\u001b[0m\u001b[0mresult_handler\u001b[0m\u001b[1;33m.\u001b[0m\u001b[0mhandle_commands_response\u001b[0m\u001b[1;33m(\u001b[0m\u001b[0mr\u001b[0m\u001b[1;33m[\u001b[0m\u001b[0mJSON_FEEDBACK\u001b[0m\u001b[1;33m]\u001b[0m\u001b[1;33m)\u001b[0m\u001b[1;33m\u001b[0m\u001b[1;33m\u001b[0m\u001b[0m\n\u001b[1;32m--> 718\u001b[1;33m             for r in response]\n\u001b[0m\u001b[0;32m    719\u001b[0m \u001b[1;33m\u001b[0m\u001b[0m\n\u001b[0;32m    720\u001b[0m     \u001b[1;32mdef\u001b[0m \u001b[0mcall_commands\u001b[0m\u001b[1;33m(\u001b[0m\u001b[0mself\u001b[0m\u001b[1;33m,\u001b[0m \u001b[1;33m*\u001b[0m\u001b[0mcommands\u001b[0m\u001b[1;33m)\u001b[0m\u001b[1;33m:\u001b[0m\u001b[1;33m\u001b[0m\u001b[1;33m\u001b[0m\u001b[0m\n",
      "\u001b[1;32mC:\\ProgramData\\Bentley\\Geotechnical\\PLAXIS Python Distribution V1\\python\\lib\\site-packages\\plxscripting\\server.py\u001b[0m in \u001b[0;36m<listcomp>\u001b[1;34m(.0)\u001b[0m\n\u001b[0;32m    716\u001b[0m         return [\n\u001b[0;32m    717\u001b[0m             \u001b[0mself\u001b[0m\u001b[1;33m.\u001b[0m\u001b[0mresult_handler\u001b[0m\u001b[1;33m.\u001b[0m\u001b[0mhandle_commands_response\u001b[0m\u001b[1;33m(\u001b[0m\u001b[0mr\u001b[0m\u001b[1;33m[\u001b[0m\u001b[0mJSON_FEEDBACK\u001b[0m\u001b[1;33m]\u001b[0m\u001b[1;33m)\u001b[0m\u001b[1;33m\u001b[0m\u001b[1;33m\u001b[0m\u001b[0m\n\u001b[1;32m--> 718\u001b[1;33m             for r in response]\n\u001b[0m\u001b[0;32m    719\u001b[0m \u001b[1;33m\u001b[0m\u001b[0m\n\u001b[0;32m    720\u001b[0m     \u001b[1;32mdef\u001b[0m \u001b[0mcall_commands\u001b[0m\u001b[1;33m(\u001b[0m\u001b[0mself\u001b[0m\u001b[1;33m,\u001b[0m \u001b[1;33m*\u001b[0m\u001b[0mcommands\u001b[0m\u001b[1;33m)\u001b[0m\u001b[1;33m:\u001b[0m\u001b[1;33m\u001b[0m\u001b[1;33m\u001b[0m\u001b[0m\n",
      "\u001b[1;32mC:\\ProgramData\\Bentley\\Geotechnical\\PLAXIS Python Distribution V1\\python\\lib\\site-packages\\plxscripting\\server.py\u001b[0m in \u001b[0;36mhandle_commands_response\u001b[1;34m(self, commands_response)\u001b[0m\n\u001b[0;32m    206\u001b[0m         \u001b[1;32melse\u001b[0m\u001b[1;33m:\u001b[0m\u001b[1;33m\u001b[0m\u001b[1;33m\u001b[0m\u001b[0m\n\u001b[0;32m    207\u001b[0m             raise PlxScriptingError(\"Unsuccessful command:\\n\" +\n\u001b[1;32m--> 208\u001b[1;33m                                     commands_response[JSON_EXTRAINFO])\n\u001b[0m\u001b[0;32m    209\u001b[0m \u001b[1;33m\u001b[0m\u001b[0m\n\u001b[0;32m    210\u001b[0m     \u001b[1;32mdef\u001b[0m \u001b[0mhandle_members_response\u001b[0m\u001b[1;33m(\u001b[0m\u001b[0mself\u001b[0m\u001b[1;33m,\u001b[0m \u001b[0mmembers_response\u001b[0m\u001b[1;33m,\u001b[0m \u001b[0mproxy_obj\u001b[0m\u001b[1;33m)\u001b[0m\u001b[1;33m:\u001b[0m\u001b[1;33m\u001b[0m\u001b[1;33m\u001b[0m\u001b[0m\n",
      "\u001b[1;31mPlxScriptingError\u001b[0m: Unsuccessful command:\nUnknown object. Check the spelling and ensure the object exists before trying to access it."
     ]
    }
   ],
   "source": [
    "g_i.gotostages()\n",
    "self['structures']['soil']['strata_1'].set(self['soil material']['strata_1'])"
   ]
  },
  {
   "cell_type": "code",
   "execution_count": 55,
   "metadata": {},
   "outputs": [
    {
     "data": {
      "text/plain": [
       "'OK'"
      ]
     },
     "execution_count": 55,
     "metadata": {},
     "output_type": "execute_result"
    }
   ],
   "source": [
    "g_i.gotostructures()\n",
    ".set(mdl['soil material']['strata_1'])"
   ]
  },
  {
   "cell_type": "code",
   "execution_count": 196,
   "metadata": {},
   "outputs": [
    {
     "data": {
      "text/plain": [
       "{'polygon': {'fill_1': <Polygon {C277F671-0077-4094-9BA9-C306259E33F2}>,\n",
       "  'excavated_1': <Polygon {35B85B51-124F-4061-9C9E-2593B880BA6F}>,\n",
       "  'strata_1': <Polygon {AEC49203-7BF4-426E-A1D2-CACE41B7C933}>,\n",
       "  'foundation': <Polygon {7FF87524-BC88-41FA-9A58-7066F795889B}>},\n",
       " 'soil': {'fill_1': <Soil {2F50E566-0A22-407F-A0BF-8F345E9BFA51}>,\n",
       "  'excavated_1': <Soil {941E8DB9-B0B3-4047-86B7-9526F7171F83}>,\n",
       "  'strata_1': <Soil {FE50D6DD-83C9-4D7D-8FC2-96AC81448C64}>,\n",
       "  'foundation': <Soil {B6D22006-1AFB-45BB-B1D9-658A52EB71D2}>},\n",
       " 'line': {'column_int': <Line {CF5D6150-E862-4870-A05E-129BBB3F6DC9}>,\n",
       "  'footing_pos_int': <Line {49AD73F1-AFF1-4C1F-A79E-E03A1FF06684}>,\n",
       "  'footing_lat': <Line {D9DBC13F-32AE-4278-A1EE-9586B47F7D0F}>,\n",
       "  'footing_neg': <Line {A62C2596-2FAA-47CA-8F2B-B0415A557FC7}>,\n",
       "  'load': <Line {222D87B3-276F-4045-8212-6BE449D4158F}>},\n",
       " 'plate': {},\n",
       " 'point': {'column_int_1': <Point {191E1688-0181-47C2-8036-D17F47345E68}>,\n",
       "  'column_int_2': <Point {AFC75637-BB44-4B07-810E-689183D1D88F}>,\n",
       "  'footing_pos_int_1': <Point {79C561BC-7208-4D3A-9AD7-480A9697E22E}>,\n",
       "  'footing_pos_int_2': <Point {E707E9B1-C096-42A0-B188-52CF991FD287}>,\n",
       "  'footing_lat_int_1': <Point {83E964BF-576B-49E7-8365-FF5E84EB119F}>,\n",
       "  'footing_lat_int_2': <Point {87F2A91D-3A67-4D50-ADE1-3DCB10B91AA2}>,\n",
       "  'footing_neg_int_1': <Point {62193FAD-CBDB-4151-8405-0B3CB955E4B3}>,\n",
       "  'footing_neg_int_2': <Point {9CB19D67-ED71-41E2-AA38-C6A30B5EDBC2}>,\n",
       "  'load_1': <Point {56B68958-23CC-47EF-8DEF-3167B04F08D2}>,\n",
       "  'load_2': <Point {C458464C-8E7E-419C-92FA-57E3BEDDF34E}>},\n",
       " 'interface': {'column': <PositiveInterface {91B0C14F-C34A-425B-8201-7437350934BE}>,\n",
       "  'footing_pos': <PositiveInterface {9DA2B205-0458-4E8A-A40C-5AA79A1A6A5C}>,\n",
       "  'footing_lat': <PositiveInterface {BB5057C1-F033-4B0D-A09E-587E641F9CCC}>,\n",
       "  'footing_neg': <NegativeInterface {9E3CF29F-EB6C-4309-9203-68CAB628C181}>},\n",
       " 'load': <LineLoad {EB3AB697-8F01-4418-A07E-79C1F9B4A7DB}>}"
      ]
     },
     "execution_count": 196,
     "metadata": {},
     "output_type": "execute_result"
    }
   ],
   "source": [
    "mdl['structures']"
   ]
  },
  {
   "cell_type": "code",
   "execution_count": null,
   "metadata": {},
   "outputs": [],
   "source": []
  }
 ],
 "metadata": {
  "hide_input": false,
  "kernelspec": {
   "display_name": "PLAXIS Python 3",
   "language": "python",
   "name": "plaxis_python3"
  },
  "language_info": {
   "codemirror_mode": {
    "name": "ipython",
    "version": 3
   },
   "file_extension": ".py",
   "mimetype": "text/x-python",
   "name": "python",
   "nbconvert_exporter": "python",
   "pygments_lexer": "ipython3",
   "version": "3.7.4"
  },
  "toc": {
   "base_numbering": 1,
   "nav_menu": {},
   "number_sections": false,
   "sideBar": true,
   "skip_h1_title": false,
   "title_cell": "Table of Contents",
   "title_sidebar": "Contents",
   "toc_cell": false,
   "toc_position": {
    "height": "calc(100% - 180px)",
    "left": "10px",
    "top": "150px",
    "width": "165px"
   },
   "toc_section_display": true,
   "toc_window_display": true
  },
  "varInspector": {
   "cols": {
    "lenName": 16,
    "lenType": 16,
    "lenVar": 40
   },
   "kernels_config": {
    "python": {
     "delete_cmd_postfix": "",
     "delete_cmd_prefix": "del ",
     "library": "var_list.py",
     "varRefreshCmd": "print(var_dic_list())"
    },
    "r": {
     "delete_cmd_postfix": ") ",
     "delete_cmd_prefix": "rm(",
     "library": "var_list.r",
     "varRefreshCmd": "cat(var_dic_list()) "
    }
   },
   "types_to_exclude": [
    "module",
    "function",
    "builtin_function_or_method",
    "instance",
    "_Feature"
   ],
   "window_display": false
  }
 },
 "nbformat": 4,
 "nbformat_minor": 2
}
