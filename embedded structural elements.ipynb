{
 "cells": [
  {
   "cell_type": "markdown",
   "metadata": {},
   "source": [
    "# Intro"
   ]
  },
  {
   "cell_type": "code",
   "execution_count": 1,
   "metadata": {},
   "outputs": [],
   "source": [
    "from plxscripting.easy import *\n",
    "password = \"nicFgr^TtsFm~h~M\"\n",
    "localhostport_input = 10000 \n",
    "localhostport_output = 10001\n",
    "s_i, g_i = new_server('localhost', localhostport_input, password=password) \n",
    "s_o, g_o = new_server('localhost', localhostport_output, password=password)"
   ]
  },
  {
   "cell_type": "code",
   "execution_count": 2,
   "metadata": {},
   "outputs": [],
   "source": [
    "import matplotlib.pyplot as plt\n",
    "from matplotlib.patches import Polygon\n",
    "from matplotlib.collections import PatchCollection\n",
    "import numbers\n",
    "import numpy as np\n",
    "import pandas as pd"
   ]
  },
  {
   "cell_type": "code",
   "execution_count": 3,
   "metadata": {
    "code_folding": [
     0,
     24
    ]
   },
   "outputs": [],
   "source": [
    "def get_geometry(B, D, fill_angle):\n",
    "    geo = {}\n",
    "    geo['points'] = ['B1', 'B2', 'B3', 'F1', 'F2', 'S1', 'S2', 'S3']\n",
    "    geo['B1'] = np.array([0, D + 3 * B])\n",
    "    geo['B2'] = np.array([0, 3 * B])\n",
    "    geo['B3'] = np.array([B/2, 3 * B])\n",
    "    geo['F1'] = np.array([B/2 + 0.5 + D / np.tan(np.radians(fill_angle)), 3 * B + D])\n",
    "    geo['F2'] = np.array([B/2 + 0.5, 3 * B])\n",
    "    geo['S1'] = np.array([B/2 + 2 * 0.5 + D / np.tan(np.radians(fill_angle)) + 0.5 * B, 3 * B + D])\n",
    "    geo['S2'] = np.array([B/2 + 2 * 0.5 + D / np.tan(np.radians(fill_angle)) + 0.5 * B, 0])\n",
    "    geo['S3'] = np.array([0, 0])\n",
    "    \n",
    "    geo['footing'] = np.array([geo['B1'], geo['B2'], geo['B3']])\n",
    "    geo['fill'] = np.array([geo['B1'], geo['F1'], geo['F2'], geo['B2']])\n",
    "    geo['soil'] = np.array([geo['S3'], geo['B2'], geo['F2'], geo['F1'], geo['S1'], geo['S2'], geo['S3']])\n",
    "    \n",
    "    \n",
    "    point_coords = np.array([geo[point] for point in geo['points']])\n",
    "    geo['xmin'] = 0 \n",
    "    geo['xmax'] = np.max(point_coords[:, 0])\n",
    "    geo['ymin'] = 0\n",
    "    geo['ymax'] = np.max(point_coords[:, 1])\n",
    "    return geo\n",
    "\n",
    "def plot_geometry(geo):\n",
    "    fig, ax = plt.subplots(1, 1, figsize=(6,6 * geo['ymax']/geo['xmax']))\n",
    "\n",
    "    patches = [] \n",
    "    patches.append(Polygon(geo['fill'], True))\n",
    "    patches.append(Polygon(geo['soil'], True))\n",
    "\n",
    "    p = PatchCollection(patches, alpha=.4, facecolor=['greenyellow','tan'], lw=0)\n",
    "    ax.add_collection(p)\n",
    "\n",
    "    ax.plot(geo['fill'][:, 0], geo['fill'][:, 1],'-k', lw=1)\n",
    "    ax.plot(geo['soil'][:, 0], geo['soil'][:, 1],'-k', lw=1)\n",
    "    ax.plot(geo['footing'][:, 0], geo['footing'][:, 1],'-', color='grey', lw=10)\n",
    "\n",
    "    point_coords = np.array([geo[i] for i in geo['points']])\n",
    "\n",
    "    ax.set_xlim([0, 1.2 * geo['xmax']])\n",
    "    ax.set_ylim([0, 1.2 * geo['ymax']])\n",
    "    ax.grid(alpha=0.4)\n",
    "    plt.close(fig)\n",
    "    return fig"
   ]
  },
  {
   "cell_type": "code",
   "execution_count": 4,
   "metadata": {
    "scrolled": false
   },
   "outputs": [
    {
     "data": {
      "image/png": "[encoded data removed]",
      "text/plain": [
       "<Figure size 432x470.817 with 1 Axes>"
      ]
     },
     "execution_count": 4,
     "metadata": {},
     "output_type": "execute_result"
    }
   ],
   "source": [
    "geo = get_geometry(1.5, 2, 30)\n",
    "plot_geometry(geo)"
   ]
  },
  {
   "cell_type": "code",
   "execution_count": 5,
   "metadata": {
    "code_folding": [
     0
    ]
   },
   "outputs": [],
   "source": [
    "def set_prop(title, comments):\n",
    "    g_i.setproperties(\"Title\",title, \"Comments\",comments, \"ModelType\",\"Axisymmetry\" )"
   ]
  },
  {
   "cell_type": "code",
   "execution_count": 6,
   "metadata": {
    "code_folding": [
     0,
     3,
     14,
     44
    ]
   },
   "outputs": [],
   "source": [
    "def build_materials(mdl, material):\n",
    "    g_i.gotosoil()\n",
    "\n",
    "    mdl['sand'] = g_i.soilmat(\"MaterialName\",\"sand\", \"MaterialNumber\", 0, \"SoilModel\", 3, \"DrainageType\", 0,\n",
    "                             'gammaSat', material['sand']['gamma_sat'], 'gammaUnsat',material['sand']['gamma_unsat'],\n",
    "                             'einit', material['sand']['e0'], 'E50ref', material['sand']['E50ref'],\n",
    "                             'EoedRef', material['sand']['Eoedref'], 'EurRef', material['sand']['Euref'],\n",
    "                             'powerm', material['sand']['powerm'], 'cref', material['sand']['c'],\n",
    "                             'phi', material['sand']['phi'], 'psi', material['sand']['psi'],\n",
    "                             'nu', material['sand']['nu'], 'K0nc',material['sand']['K0nc'],\n",
    "                             'perm_primary_horizontal_axis', material['sand']['kx'],\n",
    "                             'perm_vertical_axis', material['sand']['ky'],\n",
    "                             'Rinter', material['sand']['Rinter'])\n",
    "\n",
    "    mdl['fill'] = g_i.soilmat(\"MaterialName\",\"fill\", \"MaterialNumber\", 1, \"SoilModel\", 3, \"DrainageType\", 0,\n",
    "                              'gammaSat', material['fill']['gamma_sat'], 'gammaUnsat',material['fill']['gamma_unsat'],\n",
    "                              'einit', material['fill']['e0'], 'E50ref', material['fill']['E50ref'],\n",
    "                              'EoedRef', material['fill']['Eoedref'], 'EurRef', material['fill']['Euref'],\n",
    "                              'powerm', material['fill']['powerm'], 'cref', material['fill']['c'],\n",
    "                              'phi', material['fill']['phi'], 'psi', material['fill']['psi'],\n",
    "                              'nu', material['fill']['nu'], 'K0nc',material['fill']['K0nc'],\n",
    "                              'perm_primary_horizontal_axis', material['fill']['kx'],\n",
    "                              'perm_vertical_axis', material['fill']['ky'],\n",
    "                              'Rinter', material['fill']['Rinter'])\n",
    "    \n",
    "    mdl['chimney'] = g_i.platemat(\"MaterialName\", \"chimney\", \"MaterialNumber\", 0,\n",
    "                                  \"Elasticity\", 0, \"IsIsotropic\", True,\n",
    "                                  \"EA\", material['chimney']['EA'],\n",
    "                                  \"EA2\", material['chimney']['EA'],\n",
    "                                  \"EI\", material['chimney']['EI'],\n",
    "                                  \"nu\", material['chimney']['nu'],\n",
    "                                   \"d\", material['chimney']['d'],\n",
    "                                  \"Gref\", material['chimney']['Gref'])\n",
    "    \n",
    "    mdl['footing'] = g_i.platemat(\"MaterialName\", \"footing\", \"MaterialNumber\", 0,\n",
    "                                  \"Elasticity\", 0, \"IsIsotropic\", True,\n",
    "                                  \"EA\", material['footing']['EA'],\n",
    "                                  \"EA2\", material['footing']['EA'],\n",
    "                                  \"EI\", material['footing']['EI'],\n",
    "                                  \"nu\", material['footing']['nu'],\n",
    "                                   \"d\", material['footing']['d'],\n",
    "                                  \"Gref\", material['footing']['Gref'])\n",
    "    return mdl\n",
    "\n",
    "def del_materials(mdl):\n",
    "    g_i.gotosoil()\n",
    "    g_i.delete(mdl['chimney'])\n",
    "    g_i.delete(mdl['footing'])\n",
    "    g_i.delete(mdl['sand'])\n",
    "    g_i.delete(mdl['fill'])"
   ]
  },
  {
   "cell_type": "code",
   "execution_count": 7,
   "metadata": {
    "code_folding": [
     0,
     31
    ]
   },
   "outputs": [],
   "source": [
    "def build_geometry(mdl, geo):\n",
    "    g_i.gotostructures()\n",
    "    out = g_i.polygon(list(geo['B1']), list(geo['B2']), list(geo['F2']), list(geo['F1']))\n",
    "    mdl['polygon_fill'] = out[0]\n",
    "    mdl['soil_fill'] = out[1]\n",
    "    out = g_i.polygon(list(geo['B2']), list(geo['F2']), list(geo['F1']),\n",
    "                      list(geo['S1']), list(geo['S2']), list(geo['S3']))\n",
    "    mdl['polygon_sand'] = out[0]\n",
    "    mdl['soil_sand'] = out[1]\n",
    "    \n",
    "    out = g_i.plate(list(geo['B1']), list(geo['B2']), list(geo['B3']))\n",
    "    mdl['B1_plate'] = out[0]\n",
    "    mdl['B2_plate'] = out[1]\n",
    "    mdl['B3_plate'] = out[2]\n",
    "    mdl['lineB1B2_plate'] = out[3]\n",
    "    mdl['lineB2B3_plate'] = out[4]\n",
    "    mdl['plateB1B2'] = out[5]\n",
    "    mdl['plateB2B3'] = out[6]\n",
    "\n",
    "    out = g_i.posinterface(list(geo['B1']), list(geo['B2']), list(geo['B3']))\n",
    "    mdl['B1_interface'] = out[0]\n",
    "    mdl['B2_interface'] = out[1]\n",
    "    mdl['B3_interface'] = out[2]\n",
    "    mdl['lineB1B2_interface'] = out[3]\n",
    "    mdl['lineB2B3_interface'] = out[4]\n",
    "    mdl['interfaceB1B2_interface'] = out[5]\n",
    "    mdl['interfaceB2B3_interface'] = out[6]\n",
    "    \n",
    "    mdl['B1_point'], mdl['B1_load'] = g_i.pointload(list(geo['B1']))\n",
    "    return mdl\n",
    "\n",
    "def del_geometry(mdl):\n",
    "    g_i.gotostructures()\n",
    "    g_i.delete(mdl['polygon_fill'])\n",
    "    g_i.delete(mdl['polygon_sand'])\n",
    "    g_i.delete(mdl['B3_interface'])\n",
    "    g_i.delete(mdl['B2_interface'])\n",
    "    g_i.delete(mdl['B1_interface'])\n",
    "    g_i.delete(mdl['B3_plate'])\n",
    "    g_i.delete(mdl['B2_plate'])\n",
    "    g_i.delete(mdl['B1_plate'])\n",
    "    g_i.delete(mdl['B1_point'])"
   ]
  },
  {
   "cell_type": "code",
   "execution_count": 8,
   "metadata": {
    "code_folding": [
     0
    ]
   },
   "outputs": [],
   "source": [
    "def set_load_test(g_i, mdl, testid, start_phase_id, loads):\n",
    "    if 'test ids' not in mdl.keys():\n",
    "        mdl['test ids'] = {}\n",
    "    if testid in mdl['test ids'].keys():\n",
    "        print('Duplicated test id')\n",
    "        return\n",
    "    mdl['test ids'][testid] = []\n",
    "    if isinstance(loads, numbers.Number):\n",
    "        loads = [loads]\n",
    "    phaseids = [testid + '_stage_{:.0f}'.format(idx) for idx in range(len(loads))]\n",
    "    previous_phase = [start_phase_id] + phaseids[:-1]\n",
    "    for load, pidx, previdx in zip(loads, phaseids, previous_phase):\n",
    "        mdl['test ids'][testid].append(pidx)\n",
    "        mdl['iphases'][pidx] = g_i.phase(mdl['iphases'][previdx])\n",
    "        mdl['iphases'][pidx].Identification = pidx\n",
    "        g_i.Model.CurrentPhase = mdl['iphases'][pidx]\n",
    "        g_i.activate(mdl['B1_point'], g_i.Model.CurrentPhase)\n",
    "        g_i.set(g_i.PointLoad_1_1.Fy, g_i.Model.CurrentPhase, load)"
   ]
  },
  {
   "cell_type": "code",
   "execution_count": 9,
   "metadata": {
    "code_folding": [
     46
    ]
   },
   "outputs": [],
   "source": [
    "def build_phases(mdl):\n",
    "    mdl['iphases'] = {}\n",
    "    g_i.gotostages()\n",
    "    \n",
    "    mdl['iphases']['Initial phase'] = g_i.InitialPhase\n",
    "    g_i.Model.CurrentPhase = g_i.InitialPhase\n",
    "    g_i.activate(mdl['polygon_sand'], g_i.Model.CurrentPhase)\n",
    "    g_i.activate(mdl['polygon_fill'], g_i.Model.CurrentPhase)\n",
    "    g_i.deactivate(mdl['lineB1B2_plate'], g_i.Model.CurrentPhase)\n",
    "    g_i.deactivate(mdl['lineB2B3_plate'], g_i.Model.CurrentPhase)\n",
    "    g_i.set(g_i.Plate_1_1.Material, g_i.Model.CurrentPhase, mdl['chimney'])\n",
    "    g_i.set(g_i.Plate_2_1.Material, g_i.Model.CurrentPhase, mdl['footing'])\n",
    "\n",
    "    g_i.set(g_i.Soil_2_1.Material, g_i.Model.CurrentPhase, mdl['sand'])\n",
    "    g_i.set(g_i.Soil_1_1.Material, g_i.Model.CurrentPhase, mdl['sand'])\n",
    "\n",
    "    g_i.set(g_i.PointLoad_1_1.Fy, g_i.Model.CurrentPhase, 0)\n",
    "    \n",
    "    mdl['iphases']['excavation'] = g_i.phase(g_i.InitialPhase)\n",
    "    mdl['iphases']['excavation'].Identification = \"excavation\"\n",
    "    g_i.Model.CurrentPhase = mdl['iphases']['excavation']\n",
    "    g_i.deactivate(mdl['polygon_fill'], g_i.Model.CurrentPhase)\n",
    "\n",
    "    mdl['iphases']['construction'] = g_i.phase(mdl['iphases']['excavation'])\n",
    "    mdl['iphases']['construction'].Identification = \"construction\"\n",
    "    g_i.Model.CurrentPhase = mdl['iphases']['construction']\n",
    "    g_i.activate(mdl['polygon_fill'], g_i.Model.CurrentPhase)\n",
    "    g_i.activate(mdl['lineB1B2_plate'], g_i.Model.CurrentPhase)\n",
    "    g_i.activate(mdl['lineB2B3_plate'], g_i.Model.CurrentPhase)\n",
    "\n",
    "    g_i.set(g_i.Soil_2_1.Material, g_i.Model.CurrentPhase, mdl['fill'])\n",
    "\n",
    "    '''\n",
    "    mdl['iphases']['loading'] = g_i.phase(mdl['iphases']['construction'])\n",
    "    mdl['iphases']['loading'].Identification = \"loading\"\n",
    "    g_i.Model.CurrentPhase = mdl['iphases']['loading']\n",
    "    g_i.activate(mdl['B1_point'], g_i.Model.CurrentPhase)\n",
    "    g_i.set(g_i.PointLoad_1_1.Fy, g_i.Model.CurrentPhase, -100)\n",
    "    \n",
    "    mdl['iphases']['pullout'] = g_i.phase(mdl['iphases']['loading'])\n",
    "    mdl['iphases']['pullout'].Identification = \"pullout\"\n",
    "    g_i.Model.CurrentPhase = mdl['iphases']['pullout']\n",
    "    g_i.set(g_i.PointLoad_1_1.Fy, g_i.Model.CurrentPhase, 20)\n",
    "    '''\n",
    "    return mdl\n",
    "\n",
    "def del_phases(mdl):\n",
    "    g_i.gotostages()\n",
    "    if 'ophases' in mdl.keys():\n",
    "        _ = mdl.pop('ophases')\n",
    "    if 'iphases' not in mdl.keys():\n",
    "        return\n",
    "    for phase_id in list(mdl['iphases'].keys())[::-1][:-1]:\n",
    "        g_i.delete(mdl['iphases'][phase_id])\n",
    "    _ = mdl.pop('iphases')\n",
    "    if 'test ids' in mdl.keys():\n",
    "        _ = mdl.pop('test ids')\n",
    "    g_i.Model.CurrentPhase = g_i.InitialPhase\n",
    "    g_i.deactivate(mdl['polygon_sand'], g_i.Model.CurrentPhase)\n",
    "    g_i.deactivate(mdl['polygon_fill'], g_i.Model.CurrentPhase)"
   ]
  },
  {
   "cell_type": "code",
   "execution_count": 10,
   "metadata": {
    "code_folding": [
     0
    ]
   },
   "outputs": [],
   "source": [
    "def select_points(geo):\n",
    "    g_i.selectmeshpoints()\n",
    "    g_o.addcurvepoint(\"node\",[0, geo['ymax']])\n",
    "    g_o.update()"
   ]
  },
  {
   "cell_type": "code",
   "execution_count": 11,
   "metadata": {
    "code_folding": [
     0
    ]
   },
   "outputs": [],
   "source": [
    "def build_model(title, comments, B, D, fill_angle, mesh_density, material):\n",
    "    mdl = {}\n",
    "    geo = get_geometry(B, D, fill_angle)\n",
    "    fig = plot_geometry(geo)\n",
    "    set_prop(title, comments)\n",
    "    mdl = build_geometry(mdl, geo)\n",
    "    mdl = build_materials(mdl, material)\n",
    "    g_i.gotomesh()\n",
    "    mesh = g_i.mesh(mesh_density)\n",
    "    mdl = build_phases(mdl)\n",
    "    select_points(geo)  \n",
    "    return mdl, fig"
   ]
  },
  {
   "cell_type": "code",
   "execution_count": 12,
   "metadata": {
    "code_folding": [
     0
    ]
   },
   "outputs": [],
   "source": [
    "def get_results(mdl, g_i, g_o):\n",
    "    # open output\n",
    "    g_i.view(g_i.Phases[0])\n",
    "    # create dictionary with output phases with the same name that input phases\n",
    "    mdl['ophases'] = {}\n",
    "    for phase in g_o.phases:\n",
    "        internal_id = phase.Name.value\n",
    "        user_given_id = phase.Identification.value\n",
    "        user_given_id =  user_given_id[:-(len(internal_id) + 3)]\n",
    "        mdl['ophases'][user_given_id] = phase\n",
    "    \n",
    "    # retrieve data\n",
    "    phases = list(mdl['iphases'].keys())\n",
    "    phases.remove('Initial phase')\n",
    "    phases.remove('excavation')\n",
    "    mdl['results'] = {}\n",
    "    for phaseid in phases:\n",
    "        previous_iphase = mdl['iphases'][phaseid].PreviousPhase\n",
    "        current_iphase = mdl['iphases'][phaseid]\n",
    "        current_ophase = mdl['ophases'][phaseid]\n",
    "        Uy = []\n",
    "        Fy = []\n",
    "        sumMstage = []\n",
    "        load_start = 0\n",
    "        load_end = 0\n",
    "        if g_i.PointLoad_1_1.Active[previous_iphase] is not None:\n",
    "            if g_i.PointLoad_1_1.Active[previous_iphase].value:\n",
    "                load_start = g_i.PointLoad_1_1.Fy[current_iphase].value\n",
    "        if g_i.PointLoad_1_1.Active[current_iphase] is not None:\n",
    "            if g_i.PointLoad_1_1.Active[current_iphase].value:\n",
    "                load_end = g_i.PointLoad_1_1.Fy[current_iphase].value\n",
    "\n",
    "        for step in current_ophase.Steps.value:\n",
    "            Uy.append(g_o.getcurveresults(g_o.Nodes[0], step, g_o.ResultTypes.Plate.Uy))\n",
    "            sumMstage.append(step.Reached.SumMstage.value)\n",
    "        Fy = np.zeros_like(Uy)\n",
    "        sumMstage = np.array(sumMstage)\n",
    "\n",
    "        if g_i.PointLoad_1_1.Active[current_iphase].value:\n",
    "\n",
    "            Fy = load_start + (load_end - load_start) * sumMstage\n",
    "\n",
    "        mdl['results'][phaseid] = {}\n",
    "        mdl['results'][phaseid]['load start'] = [load_start] * len(Uy)\n",
    "        mdl['results'][phaseid]['load end'] = [load_end] * len(Uy)\n",
    "        mdl['results'][phaseid]['uy'] = Uy\n",
    "        mdl['results'][phaseid]['fy'] = Fy\n",
    "        mdl['results'][phaseid]['sumMstage'] = sumMstage\n",
    "    # build df\n",
    "    results_df = pd.DataFrame()\n",
    "    for phaseid in mdl['results']:\n",
    "        df = pd.DataFrame(mdl['results'][phaseid])\n",
    "        df['phase'] = phaseid\n",
    "        df['plx id'] = mdl['iphases'][phaseid].Name.value\n",
    "        df['previous plx id'] = mdl['iphases'][phaseid].PreviousPhase.Name.value\n",
    "        df['previous'] = mdl['iphases'][phaseid].Identification.value\n",
    "        results_df = pd.concat([results_df, df])\n",
    "    \n",
    "    results_df.loc[results_df['phase']=='construction','test'] = 'construction'\n",
    "    for tid in mdl['test ids']:\n",
    "        for stage in mdl['test ids'][tid]:\n",
    "            results_df.loc[results_df['phase']==stage,'test'] = tid\n",
    "    return results_df"
   ]
  },
  {
   "cell_type": "code",
   "execution_count": 13,
   "metadata": {
    "code_folding": [
     0
    ]
   },
   "outputs": [],
   "source": [
    "def plot_test(results_df, testid, figsize=(7, 5), offset_construction=True):\n",
    "    construction_disp = 0\n",
    "    if offset_construction:\n",
    "        construction_disp = results_df.loc[results_df['phase']=='construction', 'uy'].min()\n",
    "    fig, ax = plt.subplots(1, 1, figsize=figsize)\n",
    "    idx = results_df['test']==testid\n",
    "    for sidx, stage in enumerate(results_df.loc[idx, 'phase'].unique()):\n",
    "        idx2 = (idx) & (results_df['phase']==stage)\n",
    "        uy = results_df.loc[idx2,'uy'].to_numpy() - construction_disp\n",
    "        fy = results_df.loc[idx2,'fy'].to_numpy()\n",
    "        ax.plot(-uy, -fy,label='phase {:.0f}'.format(sidx))\n",
    "    ax.grid(alpha=0.2)\n",
    "    ax.set_xlabel('Vertical displacement [m]')\n",
    "    ax.set_ylabel('Vertical force [kN]')\n",
    "    ax.legend()\n",
    "    plt.close(fig)\n",
    "    return fig    "
   ]
  },
  {
   "cell_type": "code",
   "execution_count": 14,
   "metadata": {
    "code_folding": [
     0
    ]
   },
   "outputs": [],
   "source": [
    "def plot_test_compare(results_df, test_id, figsize=(7, 5), offset_construction=True):\n",
    "    construction_disp = 0\n",
    "    if offset_construction:\n",
    "        construction_disp = results_df.loc[results_df['phase']=='construction', 'uy'].min()\n",
    "    if isinstance(test_id, str):\n",
    "        test_id = [test_id]\n",
    "    fig, ax = plt.subplots(1, 1, figsize=figsize)\n",
    "    for tid in test_id:\n",
    "        idx = results_df['test']==tid\n",
    "        uy = results_df.loc[idx,'uy'].to_numpy() - construction_disp\n",
    "        fy = results_df.loc[idx,'fy'].to_numpy()\n",
    "        ax.plot(-uy, -fy,label=tid)\n",
    "    ax.grid(alpha=0.2)\n",
    "    ax.set_xlabel('Vertical displacement [m]')\n",
    "    ax.set_ylabel('Vertical force [kN]')\n",
    "    ax.legend()\n",
    "    plt.close(fig)\n",
    "    return fig  "
   ]
  },
  {
   "cell_type": "code",
   "execution_count": 15,
   "metadata": {},
   "outputs": [],
   "source": [
    "title = \"Embedded footing in sand\"\n",
    "comments = \"\"\n",
    "\n",
    "B0 = 4000\n",
    "B = 1.5\n",
    "D0 = 4000\n",
    "D = 2\n",
    "fill_angle = 32\n",
    "\n",
    "mesh_density = 0.06\n",
    "\n",
    "material = {}\n",
    "material['chimney'] = {}\n",
    "material['chimney']['fc'] = 24 # kPa\n",
    "material['chimney']['E'] = 4700 *  np.sqrt(material['chimney']['fc']) # kPa\n",
    "material['chimney']['nu'] = 0.4 # \n",
    "material['chimney']['EA'] = np.pi * B0**2/4 * material['chimney']['E']\n",
    "material['chimney']['EI'] = np.pi * B0**4/64 * material['chimney']['E']\n",
    "material['chimney']['d'] = np.sqrt(12 * material['chimney']['EI'] / material['chimney']['EA'])\n",
    "material['chimney']['Gref'] = material['chimney']['EA'] / material['chimney']['d']  / (2 * (1 + material['chimney']['nu'])) # KPa\n",
    "\n",
    "\n",
    "material['chimney']['gamma'] = 24 # kN/m3\n",
    "\n",
    "material['footing'] = {}\n",
    "material['footing']['fc'] = 24 # kPa\n",
    "material['footing']['E'] = 4700 *  np.sqrt(material['footing']['fc']) # kPa\n",
    "material['footing']['nu'] = 0.4 #\n",
    "material['footing']['EA'] = np.pi * B0**2/4 * material['footing']['E']\n",
    "material['footing']['EI'] = np.pi * B0**4/64 * material['footing']['E']\n",
    "material['footing']['d'] = np.sqrt(12 * material['footing']['EI'] / material['footing']['EA'])\n",
    "material['footing']['Gref'] = material['footing']['EA'] / material['footing']['d']  / (2 * (1 + material['footing']['nu'])) # KPa\n",
    "\n",
    "material['sand'] = {}\n",
    "material['sand']['gamma_unsat'] = 17\n",
    "material['sand']['gamma_sat'] = 20\n",
    "material['sand']['e0'] = 0.2\n",
    "material['sand']['E50ref'] = 4e4\n",
    "material['sand']['Eoedref'] = 4e4\n",
    "material['sand']['Euref'] = 1.2e5\n",
    "material['sand']['powerm'] = 0.5\n",
    "material['sand']['c'] = 0\n",
    "material['sand']['phi'] = 32\n",
    "material['sand']['psi'] = 2\n",
    "material['sand']['nu'] = 0.2\n",
    "material['sand']['K0nc'] = 0.4701\n",
    "material['sand']['kx'] = 1\n",
    "material['sand']['ky'] =1\n",
    "material['sand']['Rinter'] = 0.67\n",
    "\n",
    "material['fill'] = {}\n",
    "material['fill']['gamma_unsat'] = 17\n",
    "material['fill']['gamma_sat'] = 20\n",
    "material['fill']['e0'] = 0.2\n",
    "material['fill']['E50ref'] = 4e4\n",
    "material['fill']['Eoedref'] = 4e4\n",
    "material['fill']['Euref'] = 1.2e5\n",
    "material['fill']['powerm'] = 0.5\n",
    "material['fill']['c'] = 0\n",
    "material['fill']['phi'] = 32\n",
    "material['fill']['psi'] = 2\n",
    "material['fill']['nu'] = 0.2\n",
    "material['fill']['K0nc'] = 0.4701\n",
    "material['fill']['kx'] = 1\n",
    "material['fill']['ky'] = 1\n",
    "material['fill']['Rinter'] = 0.67"
   ]
  },
  {
   "cell_type": "code",
   "execution_count": 25,
   "metadata": {},
   "outputs": [
    {
     "data": {
      "image/png": "[encoded data removed]",
      "text/plain": [
       "<Figure size 432x492.574 with 1 Axes>"
      ]
     },
     "execution_count": 25,
     "metadata": {},
     "output_type": "execute_result"
    }
   ],
   "source": [
    "mdl, fig = build_model(title, comments, B, D, fill_angle, mesh_density, material)\n",
    "fig"
   ]
  },
  {
   "cell_type": "code",
   "execution_count": 26,
   "metadata": {},
   "outputs": [
    {
     "ename": "EncryptionError",
     "evalue": "Reply code is different from what was sent! Server might be spoofed!",
     "output_type": "error",
     "traceback": [
      "\u001b[1;31m---------------------------------------------------------------------------\u001b[0m",
      "\u001b[1;31mEncryptionError\u001b[0m                           Traceback (most recent call last)",
      "\u001b[1;32m<ipython-input-26-350c389ff3de>\u001b[0m in \u001b[0;36m<module>\u001b[1;34m\u001b[0m\n\u001b[0;32m      3\u001b[0m \u001b[1;33m\u001b[0m\u001b[0m\n\u001b[0;32m      4\u001b[0m \u001b[0mg_i\u001b[0m\u001b[1;33m.\u001b[0m\u001b[0mcalculate\u001b[0m\u001b[1;33m(\u001b[0m\u001b[1;33m)\u001b[0m\u001b[1;33m\u001b[0m\u001b[1;33m\u001b[0m\u001b[0m\n\u001b[1;32m----> 5\u001b[1;33m \u001b[0mresults_df\u001b[0m \u001b[1;33m=\u001b[0m \u001b[0mget_results\u001b[0m\u001b[1;33m(\u001b[0m\u001b[0mmdl\u001b[0m\u001b[1;33m,\u001b[0m \u001b[0mg_i\u001b[0m\u001b[1;33m,\u001b[0m \u001b[0mg_o\u001b[0m\u001b[1;33m)\u001b[0m\u001b[1;33m\u001b[0m\u001b[1;33m\u001b[0m\u001b[0m\n\u001b[0m",
      "\u001b[1;32m<ipython-input-12-9bb011efc25a>\u001b[0m in \u001b[0;36mget_results\u001b[1;34m(mdl, g_i, g_o)\u001b[0m\n\u001b[0;32m     33\u001b[0m         \u001b[1;32mfor\u001b[0m \u001b[0mstep\u001b[0m \u001b[1;32min\u001b[0m \u001b[0mcurrent_ophase\u001b[0m\u001b[1;33m.\u001b[0m\u001b[0mSteps\u001b[0m\u001b[1;33m.\u001b[0m\u001b[0mvalue\u001b[0m\u001b[1;33m:\u001b[0m\u001b[1;33m\u001b[0m\u001b[1;33m\u001b[0m\u001b[0m\n\u001b[0;32m     34\u001b[0m             \u001b[0mUy\u001b[0m\u001b[1;33m.\u001b[0m\u001b[0mappend\u001b[0m\u001b[1;33m(\u001b[0m\u001b[0mg_o\u001b[0m\u001b[1;33m.\u001b[0m\u001b[0mgetcurveresults\u001b[0m\u001b[1;33m(\u001b[0m\u001b[0mg_o\u001b[0m\u001b[1;33m.\u001b[0m\u001b[0mNodes\u001b[0m\u001b[1;33m[\u001b[0m\u001b[1;36m0\u001b[0m\u001b[1;33m]\u001b[0m\u001b[1;33m,\u001b[0m \u001b[0mstep\u001b[0m\u001b[1;33m,\u001b[0m \u001b[0mg_o\u001b[0m\u001b[1;33m.\u001b[0m\u001b[0mResultTypes\u001b[0m\u001b[1;33m.\u001b[0m\u001b[0mPlate\u001b[0m\u001b[1;33m.\u001b[0m\u001b[0mUy\u001b[0m\u001b[1;33m)\u001b[0m\u001b[1;33m)\u001b[0m\u001b[1;33m\u001b[0m\u001b[1;33m\u001b[0m\u001b[0m\n\u001b[1;32m---> 35\u001b[1;33m             \u001b[0msumMstage\u001b[0m\u001b[1;33m.\u001b[0m\u001b[0mappend\u001b[0m\u001b[1;33m(\u001b[0m\u001b[0mstep\u001b[0m\u001b[1;33m.\u001b[0m\u001b[0mReached\u001b[0m\u001b[1;33m.\u001b[0m\u001b[0mSumMstage\u001b[0m\u001b[1;33m.\u001b[0m\u001b[0mvalue\u001b[0m\u001b[1;33m)\u001b[0m\u001b[1;33m\u001b[0m\u001b[1;33m\u001b[0m\u001b[0m\n\u001b[0m\u001b[0;32m     36\u001b[0m         \u001b[0mFy\u001b[0m \u001b[1;33m=\u001b[0m \u001b[0mnp\u001b[0m\u001b[1;33m.\u001b[0m\u001b[0mzeros_like\u001b[0m\u001b[1;33m(\u001b[0m\u001b[0mUy\u001b[0m\u001b[1;33m)\u001b[0m\u001b[1;33m\u001b[0m\u001b[1;33m\u001b[0m\u001b[0m\n\u001b[0;32m     37\u001b[0m         \u001b[0msumMstage\u001b[0m \u001b[1;33m=\u001b[0m \u001b[0mnp\u001b[0m\u001b[1;33m.\u001b[0m\u001b[0marray\u001b[0m\u001b[1;33m(\u001b[0m\u001b[0msumMstage\u001b[0m\u001b[1;33m)\u001b[0m\u001b[1;33m\u001b[0m\u001b[1;33m\u001b[0m\u001b[0m\n",
      "\u001b[1;32mC:\\ProgramData\\Bentley\\Geotechnical\\PLAXIS Python Distribution V1\\python\\lib\\site-packages\\plxscripting\\plxproxy.py\u001b[0m in \u001b[0;36m__getattr__\u001b[1;34m(self, attr_name)\u001b[0m\n\u001b[0;32m    206\u001b[0m         \u001b[0marguments\u001b[0m\u001b[1;33m.\u001b[0m \u001b[0mIf\u001b[0m \u001b[0man\u001b[0m \u001b[0mattribute\u001b[0m \u001b[1;32mis\u001b[0m \u001b[1;32mnot\u001b[0m \u001b[0mpresent\u001b[0m\u001b[1;33m,\u001b[0m \u001b[0man\u001b[0m \u001b[0mexception\u001b[0m \u001b[1;32mis\u001b[0m \u001b[0mraised\u001b[0m\u001b[1;33m.\u001b[0m\u001b[1;33m\u001b[0m\u001b[1;33m\u001b[0m\u001b[0m\n\u001b[0;32m    207\u001b[0m         \"\"\"\n\u001b[1;32m--> 208\u001b[1;33m         \u001b[1;32mif\u001b[0m \u001b[0mattr_name\u001b[0m \u001b[1;32min\u001b[0m \u001b[0mself\u001b[0m\u001b[1;33m.\u001b[0m\u001b[0mattr_cache\u001b[0m\u001b[1;33m:\u001b[0m\u001b[1;33m\u001b[0m\u001b[1;33m\u001b[0m\u001b[0m\n\u001b[0m\u001b[0;32m    209\u001b[0m             \u001b[1;32mreturn\u001b[0m \u001b[0mself\u001b[0m\u001b[1;33m.\u001b[0m\u001b[0mattr_cache\u001b[0m\u001b[1;33m[\u001b[0m\u001b[0mattr_name\u001b[0m\u001b[1;33m]\u001b[0m\u001b[1;33m\u001b[0m\u001b[1;33m\u001b[0m\u001b[0m\n\u001b[0;32m    210\u001b[0m \u001b[1;33m\u001b[0m\u001b[0m\n",
      "\u001b[1;32mC:\\ProgramData\\Bentley\\Geotechnical\\PLAXIS Python Distribution V1\\python\\lib\\site-packages\\plxscripting\\plxproxy.py\u001b[0m in \u001b[0;36mattr_cache\u001b[1;34m(self)\u001b[0m\n\u001b[0;32m     48\u001b[0m     \u001b[1;33m@\u001b[0m\u001b[0mproperty\u001b[0m\u001b[1;33m\u001b[0m\u001b[1;33m\u001b[0m\u001b[0m\n\u001b[0;32m     49\u001b[0m     \u001b[1;32mdef\u001b[0m \u001b[0mattr_cache\u001b[0m\u001b[1;33m(\u001b[0m\u001b[0mself\u001b[0m\u001b[1;33m)\u001b[0m\u001b[1;33m:\u001b[0m\u001b[1;33m\u001b[0m\u001b[1;33m\u001b[0m\u001b[0m\n\u001b[1;32m---> 50\u001b[1;33m         \u001b[0mself\u001b[0m\u001b[1;33m.\u001b[0m\u001b[0m_ensure_cache_is_valid\u001b[0m\u001b[1;33m(\u001b[0m\u001b[1;33m)\u001b[0m\u001b[1;33m\u001b[0m\u001b[1;33m\u001b[0m\u001b[0m\n\u001b[0m\u001b[0;32m     51\u001b[0m         \u001b[1;32mreturn\u001b[0m \u001b[0mself\u001b[0m\u001b[1;33m.\u001b[0m\u001b[0m_attr_cache\u001b[0m\u001b[1;33m\u001b[0m\u001b[1;33m\u001b[0m\u001b[0m\n\u001b[0;32m     52\u001b[0m \u001b[1;33m\u001b[0m\u001b[0m\n",
      "\u001b[1;32mC:\\ProgramData\\Bentley\\Geotechnical\\PLAXIS Python Distribution V1\\python\\lib\\site-packages\\plxscripting\\plxproxy.py\u001b[0m in \u001b[0;36m_ensure_cache_is_valid\u001b[1;34m(self)\u001b[0m\n\u001b[0;32m    269\u001b[0m         \u001b[1;31m# lifetime\u001b[0m\u001b[1;33m\u001b[0m\u001b[1;33m\u001b[0m\u001b[1;33m\u001b[0m\u001b[0m\n\u001b[0;32m    270\u001b[0m         \u001b[1;32mif\u001b[0m \u001b[1;32mnot\u001b[0m \u001b[0mself\u001b[0m\u001b[1;33m.\u001b[0m\u001b[0m_attr_cache\u001b[0m\u001b[1;33m:\u001b[0m\u001b[1;33m\u001b[0m\u001b[1;33m\u001b[0m\u001b[0m\n\u001b[1;32m--> 271\u001b[1;33m             \u001b[0mself\u001b[0m\u001b[1;33m.\u001b[0m\u001b[0m_attr_cache\u001b[0m \u001b[1;33m=\u001b[0m \u001b[0mself\u001b[0m\u001b[1;33m.\u001b[0m\u001b[0m_server\u001b[0m\u001b[1;33m.\u001b[0m\u001b[0mget_object_attributes\u001b[0m\u001b[1;33m(\u001b[0m\u001b[0mself\u001b[0m\u001b[1;33m)\u001b[0m\u001b[1;33m\u001b[0m\u001b[1;33m\u001b[0m\u001b[0m\n\u001b[0m\u001b[0;32m    272\u001b[0m \u001b[1;33m\u001b[0m\u001b[0m\n\u001b[0;32m    273\u001b[0m \u001b[1;33m\u001b[0m\u001b[0m\n",
      "\u001b[1;32mC:\\ProgramData\\Bentley\\Geotechnical\\PLAXIS Python Distribution V1\\python\\lib\\site-packages\\plxscripting\\server.py\u001b[0m in \u001b[0;36mget_object_attributes\u001b[1;34m(self, proxy_obj)\u001b[0m\n\u001b[0;32m    673\u001b[0m         \u001b[0mequivalents\u001b[0m \u001b[1;33m(\u001b[0m\u001b[0mproxy\u001b[0m \u001b[0mmethods\u001b[0m \u001b[1;32mor\u001b[0m \u001b[0mproxy\u001b[0m \u001b[0mproperties\u001b[0m\u001b[1;33m)\u001b[0m\u001b[1;33m\u001b[0m\u001b[1;33m\u001b[0m\u001b[0m\n\u001b[0;32m    674\u001b[0m         \"\"\"\n\u001b[1;32m--> 675\u001b[1;33m         \u001b[0mresponse\u001b[0m \u001b[1;33m=\u001b[0m \u001b[0mself\u001b[0m\u001b[1;33m.\u001b[0m\u001b[0mconnection\u001b[0m\u001b[1;33m.\u001b[0m\u001b[0mrequest_members\u001b[0m\u001b[1;33m(\u001b[0m\u001b[0mproxy_obj\u001b[0m\u001b[1;33m.\u001b[0m\u001b[0m_guid\u001b[0m\u001b[1;33m)\u001b[0m\u001b[1;33m\u001b[0m\u001b[1;33m\u001b[0m\u001b[0m\n\u001b[0m\u001b[0;32m    676\u001b[0m         return self.result_handler.handle_members_response(\n\u001b[0;32m    677\u001b[0m             response[JSON_QUERIES][proxy_obj._guid], proxy_obj)\n",
      "\u001b[1;32mC:\\ProgramData\\Bentley\\Geotechnical\\PLAXIS Python Distribution V1\\python\\lib\\site-packages\\plxscripting\\connection.py\u001b[0m in \u001b[0;36mrequest_members\u001b[1;34m(self, *guids)\u001b[0m\n\u001b[0;32m    296\u001b[0m         \"\"\"\n\u001b[0;32m    297\u001b[0m         \u001b[0mpayload\u001b[0m \u001b[1;33m=\u001b[0m \u001b[1;33m{\u001b[0m\u001b[0mACTION\u001b[0m\u001b[1;33m:\u001b[0m \u001b[1;33m{\u001b[0m\u001b[0mMEMBERS\u001b[0m\u001b[1;33m:\u001b[0m \u001b[0mguids\u001b[0m\u001b[1;33m}\u001b[0m\u001b[1;33m}\u001b[0m\u001b[1;33m\u001b[0m\u001b[1;33m\u001b[0m\u001b[0m\n\u001b[1;32m--> 298\u001b[1;33m         \u001b[0mrequest\u001b[0m \u001b[1;33m=\u001b[0m \u001b[0mself\u001b[0m\u001b[1;33m.\u001b[0m\u001b[0m_send_request\u001b[0m\u001b[1;33m(\u001b[0m\u001b[0mself\u001b[0m\u001b[1;33m.\u001b[0m\u001b[0mQUERY_MEMBER_NAMES_ACTION_PREFIX\u001b[0m\u001b[1;33m,\u001b[0m \u001b[0mpayload\u001b[0m\u001b[1;33m)\u001b[0m\u001b[1;33m\u001b[0m\u001b[1;33m\u001b[0m\u001b[0m\n\u001b[0m\u001b[0;32m    299\u001b[0m         \u001b[1;32mreturn\u001b[0m \u001b[0mrequest\u001b[0m\u001b[1;33m.\u001b[0m\u001b[0mjson\u001b[0m\u001b[1;33m(\u001b[0m\u001b[1;33m)\u001b[0m\u001b[1;33m\u001b[0m\u001b[1;33m\u001b[0m\u001b[0m\n\u001b[0;32m    300\u001b[0m \u001b[1;33m\u001b[0m\u001b[0m\n",
      "\u001b[1;32mC:\\ProgramData\\Bentley\\Geotechnical\\PLAXIS Python Distribution V1\\python\\lib\\site-packages\\plxscripting\\connection.py\u001b[0m in \u001b[0;36m_send_request\u001b[1;34m(self, operation_address, payload)\u001b[0m\n\u001b[0;32m    219\u001b[0m                 \u001b[0merror\u001b[0m \u001b[1;33m=\u001b[0m \u001b[0mPlxScriptingPreconditionError\u001b[0m\u001b[1;33m(\u001b[0m\u001b[0mexception\u001b[0m\u001b[1;33m)\u001b[0m\u001b[1;33m\u001b[0m\u001b[1;33m\u001b[0m\u001b[0m\n\u001b[0;32m    220\u001b[0m                 \u001b[0mself\u001b[0m\u001b[1;33m.\u001b[0m\u001b[0m_trigger_error_mode_behavior\u001b[0m\u001b[1;33m(\u001b[0m\u001b[0merror\u001b[0m\u001b[1;33m)\u001b[0m\u001b[1;33m\u001b[0m\u001b[1;33m\u001b[0m\u001b[0m\n\u001b[1;32m--> 221\u001b[1;33m         \u001b[0mresponse\u001b[0m \u001b[1;33m=\u001b[0m \u001b[0mself\u001b[0m\u001b[1;33m.\u001b[0m\u001b[0m_send_request_and_get_response\u001b[0m\u001b[1;33m(\u001b[0m\u001b[0moperation_address\u001b[0m\u001b[1;33m,\u001b[0m \u001b[0mpayload\u001b[0m\u001b[1;33m.\u001b[0m\u001b[0mcopy\u001b[0m\u001b[1;33m(\u001b[0m\u001b[1;33m)\u001b[0m\u001b[1;33m)\u001b[0m\u001b[1;33m\u001b[0m\u001b[1;33m\u001b[0m\u001b[0m\n\u001b[0m\u001b[0;32m    222\u001b[0m         \u001b[1;32mif\u001b[0m \u001b[1;32mnot\u001b[0m \u001b[0mresponse\u001b[0m\u001b[1;33m.\u001b[0m\u001b[0mok\u001b[0m\u001b[1;33m:\u001b[0m\u001b[1;33m\u001b[0m\u001b[1;33m\u001b[0m\u001b[0m\n\u001b[0;32m    223\u001b[0m             \u001b[1;32mif\u001b[0m \u001b[0mresponse\u001b[0m\u001b[1;33m.\u001b[0m\u001b[0mstatus_code\u001b[0m \u001b[1;33m==\u001b[0m \u001b[0mINTERNAL_SERVER_ERROR\u001b[0m \u001b[1;32mand\u001b[0m \u001b[0mself\u001b[0m\u001b[1;33m.\u001b[0m\u001b[0merror_mode\u001b[0m\u001b[1;33m:\u001b[0m\u001b[1;33m\u001b[0m\u001b[1;33m\u001b[0m\u001b[0m\n",
      "\u001b[1;32mC:\\ProgramData\\Bentley\\Geotechnical\\PLAXIS Python Distribution V1\\python\\lib\\site-packages\\plxscripting\\connection.py\u001b[0m in \u001b[0;36m_send_request_and_get_response\u001b[1;34m(self, operation_address, payload)\u001b[0m\n\u001b[0;32m    247\u001b[0m         \u001b[1;31m# Some APIs do not set a response object. In that case don't try to decrypt\u001b[0m\u001b[1;33m\u001b[0m\u001b[1;33m\u001b[0m\u001b[1;33m\u001b[0m\u001b[0m\n\u001b[0;32m    248\u001b[0m         \u001b[1;32mif\u001b[0m \u001b[0mself\u001b[0m\u001b[1;33m.\u001b[0m\u001b[0m_password\u001b[0m \u001b[1;32mand\u001b[0m \u001b[0mresponse\u001b[0m\u001b[1;33m.\u001b[0m\u001b[0mtext\u001b[0m \u001b[1;33m!=\u001b[0m \u001b[1;34m''\u001b[0m\u001b[1;33m:\u001b[0m\u001b[1;33m\u001b[0m\u001b[1;33m\u001b[0m\u001b[0m\n\u001b[1;32m--> 249\u001b[1;33m             \u001b[0mresponse\u001b[0m \u001b[1;33m=\u001b[0m \u001b[0mencryption_handler\u001b[0m\u001b[1;33m.\u001b[0m\u001b[0mdecrypt\u001b[0m\u001b[1;33m(\u001b[0m\u001b[0mresponse\u001b[0m\u001b[1;33m)\u001b[0m\u001b[1;33m\u001b[0m\u001b[1;33m\u001b[0m\u001b[0m\n\u001b[0m\u001b[0;32m    250\u001b[0m \u001b[1;33m\u001b[0m\u001b[0m\n\u001b[0;32m    251\u001b[0m         \u001b[1;32mif\u001b[0m \u001b[0mself\u001b[0m\u001b[1;33m.\u001b[0m\u001b[0mlogger\u001b[0m \u001b[1;32mis\u001b[0m \u001b[1;32mnot\u001b[0m \u001b[1;32mNone\u001b[0m\u001b[1;33m:\u001b[0m\u001b[1;33m\u001b[0m\u001b[1;33m\u001b[0m\u001b[0m\n",
      "\u001b[1;32mC:\\ProgramData\\Bentley\\Geotechnical\\PLAXIS Python Distribution V1\\python\\lib\\site-packages\\plxscripting\\connection.py\u001b[0m in \u001b[0;36mdecrypt\u001b[1;34m(self, response)\u001b[0m\n\u001b[0;32m    123\u001b[0m         \u001b[1;31m# Detect possible MITM attacks by verifying the reply code.\u001b[0m\u001b[1;33m\u001b[0m\u001b[1;33m\u001b[0m\u001b[1;33m\u001b[0m\u001b[0m\n\u001b[0;32m    124\u001b[0m         \u001b[1;32mif\u001b[0m \u001b[0mdecrypted_response\u001b[0m\u001b[1;33m[\u001b[0m\u001b[0mJSON_KEY_REPLY_CODE\u001b[0m\u001b[1;33m]\u001b[0m \u001b[1;33m!=\u001b[0m \u001b[0mself\u001b[0m\u001b[1;33m.\u001b[0m\u001b[0m_reply_code\u001b[0m\u001b[1;33m:\u001b[0m\u001b[1;33m\u001b[0m\u001b[1;33m\u001b[0m\u001b[0m\n\u001b[1;32m--> 125\u001b[1;33m             raise EncryptionError(\"Reply code is different from what \"\n\u001b[0m\u001b[0;32m    126\u001b[0m                                   \"was sent! Server might be spoofed!\")\n\u001b[0;32m    127\u001b[0m \u001b[1;33m\u001b[0m\u001b[0m\n",
      "\u001b[1;31mEncryptionError\u001b[0m: Reply code is different from what was sent! Server might be spoofed!"
     ]
    }
   ],
   "source": [
    "set_load_test(g_i, mdl, 'bearing', 'construction', -100)\n",
    "#set_load_test(g_i, mdl, 'cycle', 'construction', [-20, 5, -20, 10])\n",
    "\n",
    "g_i.calculate()\n",
    "results_df = get_results(mdl, g_i, g_o)"
   ]
  },
  {
   "cell_type": "code",
   "execution_count": 21,
   "metadata": {},
   "outputs": [
    {
     "data": {
      "image/png": "[encoded data removed]",
      "text/plain": [
       "<Figure size 504x360 with 1 Axes>"
      ]
     },
     "execution_count": 21,
     "metadata": {},
     "output_type": "execute_result"
    }
   ],
   "source": [
    "plot_test(results_df, 'cycle')"
   ]
  },
  {
   "cell_type": "code",
   "execution_count": 22,
   "metadata": {},
   "outputs": [
    {
     "data": {
      "image/png": "[encoded data removed]",
      "text/plain": [
       "<Figure size 504x360 with 1 Axes>"
      ]
     },
     "execution_count": 22,
     "metadata": {},
     "output_type": "execute_result"
    }
   ],
   "source": [
    "plot_test_compare(results_df, ['pullout5', 'pullout10', 'pullout15', 'pullout20', 'pullout25'])"
   ]
  },
  {
   "cell_type": "code",
   "execution_count": 23,
   "metadata": {},
   "outputs": [
    {
     "data": {
      "text/html": [
       "<div>\n",
       "<style scoped>\n",
       "    .dataframe tbody tr th:only-of-type {\n",
       "        vertical-align: middle;\n",
       "    }\n",
       "\n",
       "    .dataframe tbody tr th {\n",
       "        vertical-align: top;\n",
       "    }\n",
       "\n",
       "    .dataframe thead th {\n",
       "        text-align: right;\n",
       "    }\n",
       "</style>\n",
       "<table border=\"1\" class=\"dataframe\">\n",
       "  <thead>\n",
       "    <tr style=\"text-align: right;\">\n",
       "      <th></th>\n",
       "      <th>load start</th>\n",
       "      <th>load end</th>\n",
       "      <th>uy</th>\n",
       "      <th>fy</th>\n",
       "      <th>sumMstage</th>\n",
       "      <th>phase</th>\n",
       "      <th>plx id</th>\n",
       "      <th>previous plx id</th>\n",
       "      <th>previous</th>\n",
       "      <th>test</th>\n",
       "    </tr>\n",
       "  </thead>\n",
       "  <tbody>\n",
       "  </tbody>\n",
       "</table>\n",
       "</div>"
      ],
      "text/plain": [
       "Empty DataFrame\n",
       "Columns: [load start, load end, uy, fy, sumMstage, phase, plx id, previous plx id, previous, test]\n",
       "Index: []"
      ]
     },
     "execution_count": 23,
     "metadata": {},
     "output_type": "execute_result"
    }
   ],
   "source": [
    "results_df.loc[results_df['phase']=='pullout_stage_0']"
   ]
  },
  {
   "cell_type": "code",
   "execution_count": 24,
   "metadata": {},
   "outputs": [
    {
     "data": {
      "text/html": [
       "<div>\n",
       "<style scoped>\n",
       "    .dataframe tbody tr th:only-of-type {\n",
       "        vertical-align: middle;\n",
       "    }\n",
       "\n",
       "    .dataframe tbody tr th {\n",
       "        vertical-align: top;\n",
       "    }\n",
       "\n",
       "    .dataframe thead th {\n",
       "        text-align: right;\n",
       "    }\n",
       "</style>\n",
       "<table border=\"1\" class=\"dataframe\">\n",
       "  <thead>\n",
       "    <tr style=\"text-align: right;\">\n",
       "      <th></th>\n",
       "      <th>load start</th>\n",
       "      <th>load end</th>\n",
       "      <th>uy</th>\n",
       "      <th>fy</th>\n",
       "      <th>sumMstage</th>\n",
       "      <th>phase</th>\n",
       "      <th>plx id</th>\n",
       "      <th>previous plx id</th>\n",
       "      <th>previous</th>\n",
       "      <th>test</th>\n",
       "    </tr>\n",
       "  </thead>\n",
       "  <tbody>\n",
       "  </tbody>\n",
       "</table>\n",
       "</div>"
      ],
      "text/plain": [
       "Empty DataFrame\n",
       "Columns: [load start, load end, uy, fy, sumMstage, phase, plx id, previous plx id, previous, test]\n",
       "Index: []"
      ]
     },
     "execution_count": 24,
     "metadata": {},
     "output_type": "execute_result"
    }
   ],
   "source": [
    "results_df.loc[results_df['phase']=='pullout_stage_1']"
   ]
  },
  {
   "cell_type": "code",
   "execution_count": null,
   "metadata": {},
   "outputs": [],
   "source": []
  }
 ],
 "metadata": {
  "hide_input": false,
  "kernelspec": {
   "display_name": "PLAXIS Python 3",
   "language": "python",
   "name": "plaxis_python3"
  },
  "language_info": {
   "codemirror_mode": {
    "name": "ipython",
    "version": 3
   },
   "file_extension": ".py",
   "mimetype": "text/x-python",
   "name": "python",
   "nbconvert_exporter": "python",
   "pygments_lexer": "ipython3",
   "version": "3.7.4"
  },
  "toc": {
   "base_numbering": 1,
   "nav_menu": {},
   "number_sections": false,
   "sideBar": true,
   "skip_h1_title": false,
   "title_cell": "Table of Contents",
   "title_sidebar": "Contents",
   "toc_cell": false,
   "toc_position": {
    "height": "calc(100% - 180px)",
    "left": "10px",
    "top": "150px",
    "width": "165px"
   },
   "toc_section_display": true,
   "toc_window_display": true
  },
  "varInspector": {
   "cols": {
    "lenName": 16,
    "lenType": 16,
    "lenVar": 40
   },
   "kernels_config": {
    "python": {
     "delete_cmd_postfix": "",
     "delete_cmd_prefix": "del ",
     "library": "var_list.py",
     "varRefreshCmd": "print(var_dic_list())"
    },
    "r": {
     "delete_cmd_postfix": ") ",
     "delete_cmd_prefix": "rm(",
     "library": "var_list.r",
     "varRefreshCmd": "cat(var_dic_list()) "
    }
   },
   "types_to_exclude": [
    "module",
    "function",
    "builtin_function_or_method",
    "instance",
    "_Feature"
   ],
   "window_display": false
  }
 },
 "nbformat": 4,
 "nbformat_minor": 2
}
