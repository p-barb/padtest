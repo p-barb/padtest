{
 "cells": [
  {
   "cell_type": "markdown",
   "metadata": {},
   "source": [
    "# Code"
   ]
  },
  {
   "cell_type": "code",
   "execution_count": 259,
   "metadata": {},
   "outputs": [
    {
     "data": {
      "text/plain": [
       "plxscripting.plxproxy.PlxProxyGlobalObject"
      ]
     },
     "execution_count": 259,
     "metadata": {},
     "output_type": "execute_result"
    }
   ],
   "source": [
    "type(g_i)"
   ]
  },
  {
   "cell_type": "markdown",
   "metadata": {},
   "source": [
    "## Package import"
   ]
  },
  {
   "cell_type": "code",
   "execution_count": 1,
   "metadata": {},
   "outputs": [],
   "source": [
    "from plxscripting.easy import *\n",
    "password = \"nicFgr^TtsFm~h~M\"\n",
    "localhostport_input = 10000 \n",
    "localhostport_output = 10001\n",
    "s_i, g_i = new_sberver('localhost', localhostport_input, password=password) \n",
    "s_o, g_o = new_server('localhost', localhostport_output, password=password)"
   ]
  },
  {
   "cell_type": "code",
   "execution_count": 4,
   "metadata": {},
   "outputs": [],
   "source": [
    "import matplotlib.pyplot as plt\n",
    "from matplotlib.patches import Polygon\n",
    "from matplotlib.collections import PatchCollection\n",
    "import numbers\n",
    "import numpy as np\n",
    "import pandas as pd"
   ]
  },
  {
   "cell_type": "code",
   "execution_count": 257,
   "metadata": {},
   "outputs": [],
   "source": [
    "import textwrap"
   ]
  },
  {
   "cell_type": "code",
   "execution_count": 245,
   "metadata": {},
   "outputs": [],
   "source": [
    "dstrata = [1,2,3]\n",
    "model_height = 5\n",
    "if isinstance(dstrata, numbers.Number):\n",
    "    dstrata = [dstrata]\n",
    "dstrata = np.array(dstrata)\n",
    "dstrata = dstrata[np.cumsum(dstrata) < model_height]\n",
    "dstrata = np.concatenate([dstrata, [model_height - np.sum(dstrata)]])\n",
    "dstrata = dstrata\n",
    "nstrata = len(dstrata)"
   ]
  },
  {
   "cell_type": "code",
   "execution_count": 246,
   "metadata": {},
   "outputs": [
    {
     "data": {
      "text/plain": [
       "array([1, 2, 2])"
      ]
     },
     "execution_count": 246,
     "metadata": {},
     "output_type": "execute_result"
    }
   ],
   "source": [
    "dstrata"
   ]
  },
  {
   "cell_type": "code",
   "execution_count": 247,
   "metadata": {},
   "outputs": [
    {
     "data": {
      "text/plain": [
       "3"
      ]
     },
     "execution_count": 247,
     "metadata": {},
     "output_type": "execute_result"
    }
   ],
   "source": [
    "nstrata"
   ]
  },
  {
   "cell_type": "markdown",
   "metadata": {},
   "source": [
    "## Model init"
   ]
  },
  {
   "cell_type": "code",
   "execution_count": 200,
   "metadata": {
    "code_folding": [
     0
    ]
   },
   "outputs": [],
   "source": [
    "def set_model(title, comments, mdltype):\n",
    "    g_i.setproperties(\"Title\",title, \"Comments\",comments, \"ModelType\",mdltype)"
   ]
  },
  {
   "cell_type": "code",
   "execution_count": 204,
   "metadata": {},
   "outputs": [],
   "source": [
    "# plain stran model set up\n",
    "title = 'example'\n",
    "comments = 'This is an example of a plain-strain model'\n",
    "mdltype = 'planestrain'\n",
    "set_model(title, comments, mdltype)"
   ]
  },
  {
   "cell_type": "code",
   "execution_count": 206,
   "metadata": {},
   "outputs": [],
   "source": [
    "# axisymmetryc model set up\n",
    "title = 'example'\n",
    "comments = 'This is an example of a axisymmetryc model'\n",
    "mdltype = 'axisymmetry '\n",
    "set_model(title, comments, mdltype)"
   ]
  },
  {
   "cell_type": "markdown",
   "metadata": {},
   "source": [
    "## Geometry"
   ]
  },
  {
   "cell_type": "code",
   "execution_count": null,
   "metadata": {
    "code_folding": [
     0
    ]
   },
   "outputs": [],
   "source": [
    "def get_geometry(B, D, dstrata=None, fill_angle=None, wt=None, B_fill=0.5, nfill=None, dfill=None, Dunder=None):\n",
    "    if fill_angle is None:\n",
    "        geo['fill'] = False\n",
    "    if Dunder is None:\n",
    "        geo['under'] = False\n",
    "    if wt is None:\n",
    "        geo['wt'] = False\n",
    "    else:\n",
    "        geo['wt'] = geo['ymax'] - wt"
   ]
  },
  {
   "cell_type": "code",
   "execution_count": 217,
   "metadata": {
    "code_folding": [
     0,
     62
    ]
   },
   "outputs": [],
   "source": [
    "def get_geometry(B, D, fill_angle, D_x=0.1, B_fill=0.5, nfill=1, wt=None):\n",
    "    geo = {}\n",
    "    geo['B'] = B\n",
    "    geo['D'] = D\n",
    "    geo['fill angle'] = fill_angle\n",
    "    geo['nfill'] = nfill\n",
    "\n",
    "\n",
    "    x_bottom  = B/2 + B_fill\n",
    "    x_top = B/2 + B_fill + D / np.tan(np.radians(fill_angle))\n",
    "    y_bottom = 3 * B\n",
    "    y_top = 3 * B + D\n",
    "    x = np.linspace(x_top, x_bottom, nfill + 1)\n",
    "    y = np.linspace(y_top, y_bottom, nfill + 1)\n",
    "    for idx in range(nfill + 1):\n",
    "        geo['F{:.0f}'.format(idx+1)] = np.array([x[idx], y[idx]])\n",
    "        geo['B{:.0f}'.format(idx+1)] = np.array([0, y[idx]])\n",
    "    geo['B{:.0f}'.format(nfill+2)] = np.array([B/2, 3 * B])\n",
    "    \n",
    "    geo['fill'] = []\n",
    "    for idx in range(nfill):\n",
    "        b_top = 'B{:.0f}'.format(idx + 1)\n",
    "        b_bottom = 'B{:.0f}'.format(idx + 2)\n",
    "        f_top = 'F{:.0f}'.format(idx + 1)\n",
    "        f_bottom = 'F{:.0f}'.format(idx + 2)\n",
    "        geo['fill'].append(np.array([geo[b_top], geo[f_top],\n",
    "                                     geo[f_bottom], geo[b_bottom]]))    \n",
    "    \n",
    "    geo['S1'] = np.array([B/2 + B_fill + D / np.tan(np.radians(fill_angle)) + 0.5 * B, 3 * B + D])\n",
    "    geo['S2'] = np.array([B/2 + B_fill + D / np.tan(np.radians(fill_angle)) + 0.5 * B, 0])\n",
    "    geo['S3'] = np.array([0, 0])\n",
    "    geo['S4'] = np.array([0, 3 * B - D_x])\n",
    "    geo['S5'] = np.array([B/2 + B_fill, 3 * B - D_x])\n",
    "    \n",
    "    geo['chimney'] = np.array([geo['B1'], geo['B{:.0f}'.format(nfill + 1)]])\n",
    "    geo['footing'] = np.array([geo['B{:.0f}'.format(nfill + 1)], geo['B{:.0f}'.format(nfill + 2)]])\n",
    "    geo['soil'] = np.array([geo['S1'], geo['S2'], geo['S3'], geo['S4'], geo['S5'],\n",
    "                            geo['F{:.0f}'.format(nfill+1)], geo['F1']])\n",
    "    geo['under_footing'] = np.array([geo['B{:.0f}'.format(nfill+1)],\n",
    "                                     geo['F{:.0f}'.format(nfill+1)],\n",
    "                                     geo['S5'],\n",
    "                                     geo['S4']])\n",
    "    \n",
    "    geo['fill contour'] = np.array([geo['B1'], geo['F1'],\n",
    "                                    geo['F{:.0f}'.format(nfill+1)],\n",
    "                                    geo['B{:.0f}'.format(nfill+1)],\n",
    "                                    geo['B1']])\n",
    "    geo['soil contour'] = np.array([geo['S1'], geo['S2'], geo['S3'],\n",
    "                                    geo['B{:.0f}'.format(nfill+1)],\n",
    "                                    geo['F{:.0f}'.format(nfill+1)],\n",
    "                                    geo['F1'], geo['S1']])\n",
    "    \n",
    "    geo['xmin'] = 0 \n",
    "    geo['xmax'] = B/2 + B_fill + D / np.tan(np.radians(fill_angle)) + 0.5 * B\n",
    "    geo['ymin'] = 0\n",
    "    geo['ymax'] = 3 * B + D\n",
    "    if wt is None:\n",
    "        geo['wt'] = 0\n",
    "    else:\n",
    "        geo['wt'] = np.max([geo['ymax'] - wt, 0])\n",
    "    return geo\n",
    "\n",
    "def plot_geometry(geo, footing=True):\n",
    "    fig, ax = plt.subplots(1, 1, figsize=(6,6 * geo['ymax']/geo['xmax']))\n",
    "\n",
    "    patches = []\n",
    "    for fill in geo['fill']:\n",
    "        patches.append(Polygon(fill, True))\n",
    "    patches.append(Polygon(geo['soil'], True))\n",
    "    patches.append(Polygon(geo['under_footing'], True))\n",
    "\n",
    "    colors = ['greenyellow'] * geo['nfill'] + ['tan', 'darkolivegreen']\n",
    "    p = PatchCollection(patches, alpha=.4, facecolor=colors, lw=1, edgecolor='k')\n",
    "    ax.add_collection(p)\n",
    "\n",
    "    ax.plot(geo['fill contour'][:, 0], geo['fill contour'][:, 1],'-k', lw=1)\n",
    "    ax.plot(geo['soil contour'][:, 0], geo['soil contour'][:, 1],'-k', lw=1)\n",
    "    if footing:\n",
    "        ax.plot(geo['chimney'][:, 0], geo['chimney'][:, 1],'-', color='grey', lw=10)\n",
    "        ax.plot(geo['footing'][:, 0], geo['footing'][:, 1],'-', color='grey', lw=10)\n",
    "    ax.plot([geo['xmin'], geo['xmax']], [geo['wt'], geo['wt']], '-b', lw=3)\n",
    "\n",
    "    ax.set_xlim([0, 1.2 * geo['xmax']])\n",
    "    ax.set_ylim([0, 1.2 * geo['ymax']])\n",
    "    ax.grid(alpha=0.4)\n",
    "    plt.close(fig)\n",
    "    return fig"
   ]
  },
  {
   "cell_type": "code",
   "execution_count": 216,
   "metadata": {
    "scrolled": false
   },
   "outputs": [
    {
     "data": {
      "image/png": "[encoded data removed]",
      "text/plain": [
       "<Figure size 432x505.187 with 1 Axes>"
      ]
     },
     "execution_count": 216,
     "metadata": {},
     "output_type": "execute_result"
    }
   ],
   "source": [
    "# The model geoemtry is defined by the foundation depth D, widht B\n",
    "# and angle of the fill:\n",
    "B = 2\n",
    "D = 3\n",
    "fill_angle = 30\n",
    "geo = get_geometry(B, D, fill_angle)\n",
    "# By default the model has a depth of 3B below the foundation level\n",
    "# and a width of B/2 after the fill reaches the surface\n",
    "plot_geometry(geo)"
   ]
  },
  {
   "cell_type": "code",
   "execution_count": 208,
   "metadata": {},
   "outputs": [
    {
     "data": {
      "image/png": "[encoded data removed]",
      "text/plain": [
       "<Figure size 432x505.187 with 1 Axes>"
      ]
     },
     "execution_count": 208,
     "metadata": {},
     "output_type": "execute_result"
    }
   ],
   "source": [
    "# The fill can be subdivided in nfill layers to which different materials\n",
    "# are assigned\n",
    "B = 2\n",
    "D = 3\n",
    "fill_angle = 30\n",
    "geo = get_geometry(B, D, fill_angle, nfill=5)\n",
    "plot_geometry(geo)"
   ]
  },
  {
   "cell_type": "code",
   "execution_count": 209,
   "metadata": {},
   "outputs": [
    {
     "data": {
      "image/png": "[encoded data removed]",
      "text/plain": [
       "<Figure size 432x540.289 with 1 Axes>"
      ]
     },
     "execution_count": 209,
     "metadata": {},
     "output_type": "execute_result"
    }
   ],
   "source": [
    "# The distance from the footing edge to the end of the \n",
    "# fill is controlled with the B_fill argument\n",
    "B = 2\n",
    "D = 3\n",
    "fill_angle = 30\n",
    "geo = get_geometry(B, D, fill_angle, B_fill=0)\n",
    "plot_geometry(geo)"
   ]
  },
  {
   "cell_type": "code",
   "execution_count": 212,
   "metadata": {},
   "outputs": [
    {
     "data": {
      "image/png": "[encoded data removed]",
      "text/plain": [
       "<Figure size 432x505.187 with 1 Axes>"
      ]
     },
     "execution_count": 212,
     "metadata": {},
     "output_type": "execute_result"
    }
   ],
   "source": [
    "# A layer of soil is created under the foundation. This\n",
    "# layer can be assigend a different material after uplift\n",
    "# to simulate the effect of xxxxx. The width of this layer\n",
    "# is controlled by the D_x argument\n",
    "B = 2\n",
    "D = 3\n",
    "fill_angle = 30\n",
    "geo = get_geometry(B, D, fill_angle, D_x=.3)\n",
    "# the foundation can be turn off from the plot\n",
    "plot_geometry(geo, footing=False)"
   ]
  },
  {
   "cell_type": "code",
   "execution_count": 221,
   "metadata": {},
   "outputs": [
    {
     "data": {
      "image/png": "[encoded data removed]",
      "text/plain": [
       "<Figure size 432x505.187 with 1 Axes>"
      ]
     },
     "execution_count": 221,
     "metadata": {},
     "output_type": "execute_result"
    }
   ],
   "source": [
    "# The water table depth is specified with the wt argument\n",
    "B = 2\n",
    "D = 3\n",
    "fill_angle = 30\n",
    "geo = get_geometry(B, D, fill_angle, wt=1)\n",
    "plot_geometry(geo)"
   ]
  },
  {
   "cell_type": "code",
   "execution_count": 81,
   "metadata": {
    "code_folding": []
   },
   "outputs": [],
   "source": [
    "def build_geometry(mdl, geo):\n",
    "    g_i.gotostructures()\n",
    "    mdl['nfill'] = geo['nfill']\n",
    "    # fill\n",
    "    for idx, fill in enumerate(geo['fill']):\n",
    "        args = [list(v) for v in fill]\n",
    "        out = g_i.polygon(*args)\n",
    "        mdl['polygon_fill_{:.0f}'.format(idx+1)] = out[0]\n",
    "        mdl['soil_fill_{:.0f}'.format(idx+1)] = out[1]\n",
    "    # soil\n",
    "    args = [list(v) for v in geo['soil']]\n",
    "    out = g_i.polygon(*args)\n",
    "    mdl['polygon_soil'] = out[0]\n",
    "    mdl['soil_sand'] = out[1]\n",
    "    # under footing\n",
    "    args = [list(v) for v in geo['under_footing']]\n",
    "    out = g_i.polygon(*args)\n",
    "    mdl['polygon_under_footing'] = out[0]\n",
    "    mdl['soil_under_footing'] = out[1]\n",
    "    \n",
    "    # chimney\n",
    "    out_plate = g_i.plate(*[list(v) for v in geo['chimney']])\n",
    "    mdl['chimney_point_1'] = out_plate[0]\n",
    "    mdl['chimney_point_2'] = out_plate[1]\n",
    "    mdl['chimney_line'] = out_plate[2]\n",
    "    mdl['chimney_plate'] = out_plate[3]\n",
    "    #mdl['chimney_plate'].set_material(mdl['chimney'])\n",
    "    out_int = g_i.posinterface(*[list(v) for v in geo['chimney']])\n",
    "    mdl['chimney_int_point_1'] = out_int[0]\n",
    "    mdl['chimney_int_point_2'] = out_int[1]\n",
    "    mdl['chimney_int_line'] = out_int[2]\n",
    "    mdl['chimney_int'] = out_int[3]\n",
    "    # footing\n",
    "    out = g_i.plate(*[list(v) for v in geo['footing']])\n",
    "    mdl['footing_point_1'] = out[0]\n",
    "    mdl['footing_point_2'] = out[1]\n",
    "    mdl['footing_line'] = out[2]\n",
    "    mdl['footing_plate'] = out[3]\n",
    "    #mdl['footing_plate'].set_material(mdl['footing'])\n",
    "    out = g_i.posinterface(*[list(v) for v in geo['footing']])\n",
    "    mdl['footing_pos_int_point_1'] = out[0]\n",
    "    mdl['footing_pos_int_point_2'] = out[1]\n",
    "    mdl['footing_pos_int_line'] = out[2]\n",
    "    mdl['footing_pos_int'] = out[3]\n",
    "    out = g_i.neginterface(*[list(v) for v in geo['footing']])\n",
    "    mdl['footing_neg_int_point_1'] = out[0]\n",
    "    mdl['footing_neg_int_point_2'] = out[1]\n",
    "    mdl['footing_neg_int_line'] = out[2]\n",
    "    mdl['footing_neg_int'] = out[3]\n",
    "    # load\n",
    "    mdl['load_point'], mdl['load'] = g_i.pointload(list(geo['B1']))\n",
    "    return mdl"
   ]
  },
  {
   "cell_type": "markdown",
   "metadata": {},
   "source": [
    "## Material properties"
   ]
  },
  {
   "cell_type": "markdown",
   "metadata": {},
   "source": [
    "### Soil materials"
   ]
  },
  {
   "cell_type": "code",
   "execution_count": 195,
   "metadata": {
    "code_folding": [
     0,
     15,
     35,
     63
    ]
   },
   "outputs": [],
   "source": [
    "def set_soil_material(mdl, label, material):\n",
    "    g_i.gotosoil()\n",
    "    if 'soil material' not in mdl:\n",
    "        mdl['soil material'] = {}\n",
    "    if label in mdl['soil material']:\n",
    "        raise RuntimeError(\"Duplicated soil material {}\".format(label))\n",
    "\n",
    "    if material[\"SoilModel\"] == 'elastic':\n",
    "        mdl = set_elastic(mdl, label, material)\n",
    "    elif material[\"SoilModel\"] == 'mohr-coulomb':\n",
    "        mdl = set_mc(mdl, label, material)\n",
    "    elif material[\"SoilModel\"] == 'hardening soil':\n",
    "        mdl = set_hs(mdl, label, material)\n",
    "    return mdl\n",
    "\n",
    "def set_elastic(mdl, label, material):\n",
    "    if 'kx' not in material:\n",
    "        material['kx'] = 0\n",
    "    if 'ky' not in material:\n",
    "        material['ky'] = 0\n",
    "    if 'Rinter' not in material:\n",
    "        material['Rinter'] = 1\n",
    "    \n",
    "    mdl['soil material'][label] = g_i.soilmat(\"MaterialName\",label,\n",
    "                                              \"SoilModel\", 1,\n",
    "                                              \"DrainageType\", material[\"DrainageType\"] ,\n",
    "                                              \"Eref\", material['Eref'],\n",
    "                                              \"nu\", material['nu'],\n",
    "                                              \"gammaSat\", material['gammaSat'],\n",
    "                                              \"gammaUnsat\", material['gammaUnsat'],\n",
    "                                              'perm_primary_horizontal_axis', material['kx'],\n",
    "                                              'perm_vertical_axis', material['ky'],\n",
    "                                              'Rinter', material['Rinter'])\n",
    "    return mdl\n",
    "\n",
    "def set_mc(mdl, label, material):\n",
    "    if 'kx' not in material:\n",
    "        material['kx'] = 0\n",
    "    if 'ky' not in material:\n",
    "        material['ky'] = 0\n",
    "    if 'Rinter' not in material:\n",
    "        material['Rinter'] = 1\n",
    "    if 'OCR' not in material:\n",
    "        material['OCR'] = 1\n",
    "    if 'POP' not in material:\n",
    "        material['POP'] = 0\n",
    "    mdl['soil material'][label] = g_i.soilmat(\"MaterialName\",label,\n",
    "                                              \"SoilModel\", 2,\n",
    "                                              \"DrainageType\", material[\"DrainageType\"] ,\n",
    "                                              \"Eref\", material['Eref'],\n",
    "                                              \"nu\", material['nu'],\n",
    "                                              'cref', material['cref'],\n",
    "                                              'phi', material['phi'],\n",
    "                                              'psi', material['psi'],\n",
    "                                              \"gammaSat\", material['gammaSat'],\n",
    "                                              \"gammaUnsat\", material['gammaUnsat'],\n",
    "                                              'OCR',material['OCR'],\n",
    "                                              'POP',material['POP'],\n",
    "                                              'perm_primary_horizontal_axis', material['kx'],\n",
    "                                              'perm_vertical_axis', material['ky'],\n",
    "                                              'Rinter', material['Rinter'])\n",
    "    return mdl\n",
    "\n",
    "def set_hs(mdl, label, material):\n",
    "    if 'kx' not in material:\n",
    "        material['kx'] = 0\n",
    "    if 'ky' not in material:\n",
    "        material['ky'] = 0\n",
    "    if 'Rinter' not in material:\n",
    "        material['Rinter'] = 1\n",
    "    if 'K0nc' not in material:\n",
    "        material['K0nc'] = 1 - np.sin(np.radians(material['phi']))\n",
    "    if 'OCR' not in material:\n",
    "        material['OCR'] = 1\n",
    "    if 'POP' not in material:\n",
    "        material['POP'] = 0\n",
    "    mdl['soil material'][label] = g_i.soilmat(\"MaterialName\",label, \n",
    "                                              \"SoilModel\", 3,\n",
    "                                              \"DrainageType\", material[\"DrainageType\"] ,\n",
    "                                              \"gammaSat\", material['gammaSat'],\n",
    "                                              \"gammaUnsat\", material['gammaUnsat'],\n",
    "                                              'einit', material['e0'],\n",
    "                                              'E50ref',material['E50ref'],\n",
    "                                              'EoedRef', material['Eoedref'],\n",
    "                                              'EurRef', material['Euref'],\n",
    "                                              'powerm', material['powerm'], \n",
    "                                              'cref', material['c'],\n",
    "                                              'phi', material['phi'],\n",
    "                                              'psi', material['psi'],\n",
    "                                              'nu', material['nu'], \n",
    "                                              'K0nc',material['K0nc'],\n",
    "                                              'OCR',material['OCR'],\n",
    "                                              'POP',material['POP'],\n",
    "                                              'perm_primary_horizontal_axis', material['kx'],\n",
    "                                              'perm_vertical_axis', material['ky'],\n",
    "                                              'Rinter', material['Rinter'])\n",
    "    return mdl"
   ]
  },
  {
   "cell_type": "code",
   "execution_count": 196,
   "metadata": {},
   "outputs": [
    {
     "data": {
      "text/plain": [
       "{'concrete': <SoilMat {57D2EFC2-63D6-43C0-85C4-4458753C905A}>}"
      ]
     },
     "execution_count": 196,
     "metadata": {},
     "output_type": "execute_result"
    }
   ],
   "source": [
    "# example of elastic material\n",
    "concrete = {}\n",
    "concrete['SoilModel'] = 'elastic'\n",
    "concrete[\"DrainageType\"] = 0\n",
    "concrete['Eref'] = 4700 *  np.sqrt(24000) # kPa\n",
    "concrete['nu'] = 0.4 #\n",
    "concrete['gammaSat'] = 17\n",
    "concrete['gammaUnsat'] = 20\n",
    "# optional parameters\n",
    "#sand['kx'] = 1\n",
    "#sand['ky'] =1\n",
    "#sand['Rinter'] = 0.67\n",
    "\n",
    "\n",
    "mdl = {}\n",
    "mdl = set_soil_material(mdl, 'concrete', concrete)\n",
    "# the elastic soil material is sotred in:\n",
    "mdl['soil material']"
   ]
  },
  {
   "cell_type": "code",
   "execution_count": 197,
   "metadata": {
    "scrolled": false
   },
   "outputs": [
    {
     "data": {
      "text/plain": [
       "{'hs': <SoilMat {F1CDFF8A-22AC-4C64-B830-D03F59D10E80}>}"
      ]
     },
     "execution_count": 197,
     "metadata": {},
     "output_type": "execute_result"
    }
   ],
   "source": [
    "# example of Hardening soil material\n",
    "sand = {}\n",
    "sand['SoilModel'] = 'hardening soil'\n",
    "sand[\"DrainageType\"] = 0\n",
    "sand['gammaSat'] = 17\n",
    "sand['gammaUnsat'] = 20\n",
    "sand['e0'] = 0.2\n",
    "sand['E50ref'] = 4e4\n",
    "sand['Eoedref'] = 4e4\n",
    "sand['Euref'] = 1.2e5\n",
    "sand['powerm'] = 0.5\n",
    "sand['c'] = 0\n",
    "sand['phi'] = 32\n",
    "sand['psi'] = 2\n",
    "sand['nu'] = 0.2\n",
    "# optional parameters\n",
    "#sand['K0nc'] = 0.6\n",
    "#sand['kx'] = 1\n",
    "#sand['ky'] =1\n",
    "#sand['Rinter'] = 0.67\n",
    "\n",
    "mdl = {}\n",
    "mdl = set_soil_material(mdl, 'hs', sand)\n",
    "# the Hardening soil material is sotred in:\n",
    "mdl['soil material']"
   ]
  },
  {
   "cell_type": "code",
   "execution_count": 198,
   "metadata": {},
   "outputs": [
    {
     "data": {
      "text/plain": [
       "{'mc': <SoilMat {03B58F92-2BE6-4CA3-B08D-AFE141A4E4DB}>}"
      ]
     },
     "execution_count": 198,
     "metadata": {},
     "output_type": "execute_result"
    }
   ],
   "source": [
    "# example of Mohr-Coulomb soil material\n",
    "sand = {}\n",
    "sand['SoilModel'] = 'mohr-coulomb'\n",
    "sand[\"DrainageType\"] = 0\n",
    "sand['gammaSat'] = 17\n",
    "sand['gammaUnsat'] = 20\n",
    "sand['e0'] = 0.2\n",
    "sand['Eref'] = 4e4\n",
    "sand['nu'] = 0.2\n",
    "sand['cref'] = 0\n",
    "sand['phi'] = 32\n",
    "sand['psi'] = 2\n",
    "# optional parameters\n",
    "#sand['kx'] = 1\n",
    "#sand['ky'] =1\n",
    "#sand['Rinter'] = 0.67\n",
    "\n",
    "mdl = {}\n",
    "mdl = set_soil_material(mdl, 'mc', sand)\n",
    "# the Mohr-Coulbom soil material is sotred in:\n",
    "mdl['soil material']"
   ]
  },
  {
   "cell_type": "markdown",
   "metadata": {},
   "source": [
    "### Plate materials"
   ]
  },
  {
   "cell_type": "code",
   "execution_count": 179,
   "metadata": {
    "code_folding": [
     0,
     18
    ]
   },
   "outputs": [],
   "source": [
    "def set_plate_material(mdl, label, material):\n",
    "    g_i.gotosoil()\n",
    "    if 'plate material' not in mdl:\n",
    "        mdl['plate material'] = {}\n",
    "    if label in mdl['plate material']:\n",
    "        raise RuntimeError(\"Duplicated plate material {}\".format(label))\n",
    "    mdl['plate material'][label] = g_i.platemat(\"MaterialName\", label,\n",
    "                                                \"MaterialNumber\", 0,\n",
    "                                                \"Elasticity\", 0,\n",
    "                                                \"IsIsotropic\", True,\n",
    "                                                 \"EA\", material['EA'],\n",
    "                                                 \"EA2\", material['EA'],\n",
    "                                                 \"EI\", material['EI'],\n",
    "                                                 \"nu\", material['nu'],\n",
    "                                                 \"d\", material['d'],\n",
    "                                                 \"Gref\", material['Gref'])\n",
    "    return mdl\n",
    "    \n",
    "def set_concrete_plate(fc, gamma, d, young_modulus=None, poisson=0.4):\n",
    "    concrete = {}\n",
    "    concrete['fc'] = fc * 1000 # kPa\n",
    "    if young_modulus is None:\n",
    "        concrete['E'] = 4700 *  np.sqrt(concrete['fc']) # kPa\n",
    "    else:\n",
    "        concrete['E'] = young_modulus\n",
    "    concrete['nu'] = poisson \n",
    "    concrete['EA'] = concrete['E'] * d\n",
    "    concrete['EI'] = concrete['E'] * d**3/12\n",
    "    concrete['d'] = np.sqrt(12 * concrete['EI'] / concrete['EA'])\n",
    "    concrete['Gref'] = concrete['EA'] / concrete['d']  / (2 * (1 + concrete['nu'])) # KPa\n",
    "    return concrete"
   ]
  },
  {
   "cell_type": "code",
   "execution_count": 182,
   "metadata": {},
   "outputs": [
    {
     "data": {
      "text/plain": [
       "{'concrete': <PlateMat2D {8C0CD7AA-FF98-4F17-8CED-D4F921118653}>}"
      ]
     },
     "execution_count": 182,
     "metadata": {},
     "output_type": "execute_result"
    }
   ],
   "source": [
    "# Create H30 concrete slab with a 40cm thickness and 24kN/m3 unit weight\n",
    "concrete = set_concrete_plate(30, 24, 0.4)\n",
    "# By default the Young modulus is computed from fc, but it can be user specified, as the poisson ratio\n",
    "# concrete = set_concrete_plate(30, 24, 0.4, young_modulus=85000, poisson=0.3)\n",
    "\n",
    "mdl = {}\n",
    "mdl = set_plate_material(mdl, 'concrete', concrete)\n",
    "# the plate material is sotred in:\n",
    "mdl['plate material']"
   ]
  },
  {
   "cell_type": "markdown",
   "metadata": {},
   "source": [
    "### Model materials"
   ]
  },
  {
   "cell_type": "code",
   "execution_count": 98,
   "metadata": {
    "code_folding": [
     0,
     20
    ]
   },
   "outputs": [],
   "source": [
    "def build_materials(mdl, materials): \n",
    "    set_soil_material(mdl, 'soil', materials['soil'])\n",
    "    if 'under footing' not in materials:\n",
    "        materials['under footing'] = material['soil']\n",
    "    set_soil_material(mdl, 'under footing', materials['under footing'])\n",
    "    \n",
    "    \n",
    "    nfill = mdl['nfill']\n",
    "    if not isintance(material['fill'], list):\n",
    "        materials['fill'] = [materials['fill']] * nfill\n",
    "    if len(materials['fill']) != mdl['nfill']:\n",
    "        raise RuntimeError('{:.0f} must be specified.'.format(mdl['nfill']))\n",
    "    for idx, fill in enumerate(material['fill']):\n",
    "        lbl = \"fill_{:.0f}\".format(idx + 1)\n",
    "        set_soil_material(mdl, lbl, fill)\n",
    "        \n",
    "    set_plate_material(mdl, 'chimney', materials['chimney'])\n",
    "    set_plate_material(mdl, 'footing', materials['footing'])\n",
    "    return mdl\n",
    "\n",
    "def del_materials(mdl):\n",
    "    g_i.gotosoil()\n",
    "    g_i.delete(mdl['plate material']['chimney'])\n",
    "    g_i.delete(mdl['plate material']['footing'])\n",
    "    _ = mdl.pop('plate material')\n",
    "    for soil in mdl['soil material']:\n",
    "        g_i.delete(soil)\n",
    "    _ = mdl.pop('soil material')"
   ]
  },
  {
   "cell_type": "code",
   "execution_count": null,
   "metadata": {},
   "outputs": [],
   "source": []
  },
  {
   "cell_type": "markdown",
   "metadata": {},
   "source": [
    "## Phases"
   ]
  },
  {
   "cell_type": "code",
   "execution_count": 240,
   "metadata": {
    "code_folding": [
     0
    ]
   },
   "outputs": [],
   "source": [
    "def set_load_test(g_i, mdl, testid, start_phase_id, loads):\n",
    "    if 'test ids' not in mdl.keys():\n",
    "        mdl['test ids'] = {}\n",
    "    if testid in mdl['test ids'].keys():\n",
    "        print('Duplicated test id')\n",
    "        return\n",
    "    mdl['test ids'][testid] = []\n",
    "    if isinstance(loads, numbers.Number):\n",
    "        loads = [loads]\n",
    "    phaseids = [testid + '_stage_{:.0f}'.format(idx) for idx in range(len(loads))]\n",
    "    previous_phase = [start_phase_id] + phaseids[:-1]\n",
    "    for load, pidx, previdx in zip(loads, phaseids, previous_phase):\n",
    "        mdl['test ids'][testid].append(pidx)\n",
    "        mdl['iphases'][pidx] = g_i.phase(mdl['iphases'][previdx])\n",
    "        mdl['iphases'][pidx].Identification = pidx\n",
    "        g_i.Model.CurrentPhase = mdl['iphases'][pidx]\n",
    "        g_i.activate(mdl['B1_point'], g_i.Model.CurrentPhase)\n",
    "        g_i.set(g_i.PointLoad_1_1.Fy, g_i.Model.CurrentPhase, load)"
   ]
  },
  {
   "cell_type": "code",
   "execution_count": 239,
   "metadata": {
    "code_folding": [
     0,
     49
    ]
   },
   "outputs": [],
   "source": [
    "def build_initial_phases(mdl):\n",
    "    mdl['iphases'] = {}\n",
    "    g_i.gotostages()\n",
    "    \n",
    "    mdl['iphases']['Initial phase'] = g_i.InitialPhase\n",
    "    g_i.Model.CurrentPhase = g_i.InitialPhase\n",
    "    g_i.activate(mdl['polygon_sand'], g_i.Model.CurrentPhase)\n",
    "    g_i.activate(mdl['polygon_under_footing'], g_i.Model.CurrentPhase)\n",
    "    \n",
    "    for idx in range(mdl['nfill']):\n",
    "        fill = g_i.get_equivalent(mdl['polygon_fill_{:.0f}'.format(idx+1)])\n",
    "        g_i.activate(fill, g_i.Model.CurrentPhase)\n",
    "    g_i.deactivate(mdl['chimney_plate'], g_i.Model.CurrentPhase)\n",
    "    g_i.deactivate(mdl['footing_plate'], g_i.Model.CurrentPhase)\n",
    "\n",
    "    \n",
    "    \n",
    "    g_i.set(g_i.Soil_1_1.Material, g_i.Model.CurrentPhase, mdl['sand'])\n",
    "\n",
    "    g_i.set(g_i.PointLoad_1_1.Fy, g_i.Model.CurrentPhase, 0)\n",
    "    \n",
    "    mdl['iphases']['excavation'] = g_i.phase(g_i.InitialPhase)\n",
    "    mdl['iphases']['excavation'].Identification = \"excavation\"\n",
    "    g_i.Model.CurrentPhase = mdl['iphases']['excavation']\n",
    "    g_i.deactivate(mdl['polygon_fill'], g_i.Model.CurrentPhase)\n",
    "\n",
    "    mdl['iphases']['construction'] = g_i.phase(mdl['iphases']['excavation'])\n",
    "    mdl['iphases']['construction'].Identification = \"construction\"\n",
    "    g_i.Model.CurrentPhase = mdl['iphases']['construction']\n",
    "    g_i.activate(mdl['polygon_fill'], g_i.Model.CurrentPhase)\n",
    "    g_i.activate(mdl['lineB1B2_plate'], g_i.Model.CurrentPhase)\n",
    "    g_i.activate(mdl['lineB2B3_plate'], g_i.Model.CurrentPhase)\n",
    "\n",
    "    g_i.set(g_i.Soil_2_1.Material, g_i.Model.CurrentPhase, mdl['fill'])\n",
    "\n",
    "    '''\n",
    "    mdl['iphases']['loading'] = g_i.phase(mdl['iphases']['construction'])\n",
    "    mdl['iphases']['loading'].Identification = \"loading\"\n",
    "    g_i.Model.CurrentPhase = mdl['iphases']['loading']\n",
    "    g_i.activate(mdl['B1_point'], g_i.Model.CurrentPhase)\n",
    "    g_i.set(g_i.PointLoad_1_1.Fy, g_i.Model.CurrentPhase, -100)\n",
    "    \n",
    "    mdl['iphases']['pullout'] = g_i.phase(mdl['iphases']['loading'])\n",
    "    mdl['iphases']['pullout'].Identification = \"pullout\"\n",
    "    g_i.Model.CurrentPhase = mdl['iphases']['pullout']\n",
    "    g_i.set(g_i.PointLoad_1_1.Fy, g_i.Model.CurrentPhase, 20)\n",
    "    '''\n",
    "    return mdl\n",
    "\n",
    "def del_phases(mdl):\n",
    "    g_i.gotostages()\n",
    "    if 'ophases' in mdl.keys():\n",
    "        _ = mdl.pop('ophases')\n",
    "    if 'iphases' not in mdl.keys():\n",
    "        return\n",
    "    for phase_id in list(mdl['iphases'].keys())[::-1][:-1]:\n",
    "        g_i.delete(mdl['iphases'][phase_id])\n",
    "    _ = mdl.pop('iphases')\n",
    "    if 'test ids' in mdl.keys():\n",
    "        _ = mdl.pop('test ids')\n",
    "    g_i.Model.CurrentPhase = g_i.InitialPhase\n",
    "    g_i.deactivate(mdl['polygon_sand'], g_i.Model.CurrentPhase)\n",
    "    g_i.deactivate(mdl['polygon_fill'], g_i.Model.CurrentPhase)"
   ]
  },
  {
   "cell_type": "code",
   "execution_count": 190,
   "metadata": {
    "code_folding": [
     0
    ]
   },
   "outputs": [],
   "source": [
    "def select_points(geo):\n",
    "    g_i.selectmeshpoints()\n",
    "    g_o.addcurvepoint(\"node\",[0, geo['ymax']])\n",
    "    g_o.update()"
   ]
  },
  {
   "cell_type": "code",
   "execution_count": 191,
   "metadata": {
    "code_folding": [
     0
    ]
   },
   "outputs": [],
   "source": [
    "def build_model(title, comments, B, D, fill_angle, mesh_density, material):\n",
    "    mdl = {}\n",
    "    geo = get_geometry(B, D, fill_angle)\n",
    "    fig = plot_geometry(geo)\n",
    "    set_prop(title, comments)\n",
    "    mdl = build_geometry(mdl, geo)\n",
    "    mdl = build_materials(mdl, material)\n",
    "    g_i.gotomesh()\n",
    "    mesh = g_i.mesh(mesh_density)\n",
    "    mdl = build_phases(mdl)\n",
    "    select_points(geo)  \n",
    "    return mdl, fig"
   ]
  },
  {
   "cell_type": "code",
   "execution_count": 249,
   "metadata": {
    "code_folding": [
     0
    ]
   },
   "outputs": [],
   "source": [
    "def get_results(mdl, g_i, g_o):\n",
    "    # open output\n",
    "    g_i.view(g_i.Phases[0])\n",
    "    # create dictionary with output phases with the same name that input phases\n",
    "    mdl['ophases'] = {}\n",
    "    for phase in g_o.phases:\n",
    "        internal_id = phase.Name.value\n",
    "        user_given_id = phase.Identification.value\n",
    "        user_given_id =  user_given_id[:-(len(internal_id) + 3)]\n",
    "        mdl['ophases'][user_given_id] = phase\n",
    "    \n",
    "    # retrieve data\n",
    "    phases = list(mdl['iphases'].keys())\n",
    "    phases.remove('Initial phase')\n",
    "    phases.remove('excavation')\n",
    "    mdl['results'] = {}\n",
    "    for phaseid in phases:\n",
    "        previous_iphase = mdl['iphases'][phaseid].PreviousPhase\n",
    "        current_iphase = mdl['iphases'][phaseid]\n",
    "        current_ophase = mdl['ophases'][phaseid]\n",
    "        Uy = []\n",
    "        Fy = []\n",
    "        sumMstage = []\n",
    "        load_start = 0\n",
    "        load_end = 0\n",
    "        if g_i.PointLoad_1_1.Active[previous_iphase] is not None:\n",
    "            if g_i.PointLoad_1_1.Active[previous_iphase].value:\n",
    "                load_start = g_i.PointLoad_1_1.Fy[current_iphase].value\n",
    "        if g_i.PointLoad_1_1.Active[current_iphase] is not None:\n",
    "            if g_i.PointLoad_1_1.Active[current_iphase].value:\n",
    "                load_end = g_i.PointLoad_1_1.Fy[current_iphase].value\n",
    "\n",
    "        for step in current_ophase.Steps.value:\n",
    "            Uy.append(g_o.getcurveresults(g_o.Nodes[0], step, g_o.ResultTypes.Plate.Uy))\n",
    "            sumMstage.append(step.Reached.SumMstage.value)\n",
    "        Fy = np.zeros_like(Uy)\n",
    "        sumMstage = np.array(sumMstage)\n",
    "\n",
    "        if g_i.PointLoad_1_1.Active[current_iphase].value:\n",
    "\n",
    "            Fy = load_start + (load_end - load_start) * sumMstage\n",
    "\n",
    "        mdl['results'][phaseid] = {}\n",
    "        mdl['results'][phaseid]['load start'] = [load_start] * len(Uy)\n",
    "        mdl['results'][phaseid]['load end'] = [load_end] * len(Uy)\n",
    "        mdl['results'][phaseid]['uy'] = Uy\n",
    "        mdl['results'][phaseid]['fy'] = Fy\n",
    "        mdl['results'][phaseid]['sumMstage'] = sumMstage\n",
    "    # build df\n",
    "    results_df = pd.DataFrame()\n",
    "    for phaseid in mdl['results']:\n",
    "        df = pd.DataFrame(mdl['results'][phaseid])\n",
    "        df['phase'] = phaseid\n",
    "        df['plx id'] = mdl['iphases'][phaseid].Name.value\n",
    "        df['previous plx id'] = mdl['iphases'][phaseid].PreviousPhase.Name.value\n",
    "        df['previous'] = mdl['iphases'][phaseid].Identification.value\n",
    "        results_df = pd.concat([results_df, df])\n",
    "    \n",
    "    results_df.loc[results_df['phase']=='construction','test'] = 'construction'\n",
    "    for tid in mdl['test ids']:\n",
    "        for stage in mdl['test ids'][tid]:\n",
    "            results_df.loc[results_df['phase']==stage,'test'] = tid\n",
    "    return results_df"
   ]
  },
  {
   "cell_type": "code",
   "execution_count": 301,
   "metadata": {
    "code_folding": [
     0
    ]
   },
   "outputs": [],
   "source": [
    "def plot_test(results_df, testid, figsize=(7, 5), offset_construction=True):\n",
    "    construction_disp = 0\n",
    "    if offset_construction:\n",
    "        construction_disp = results_df.loc[results_df['phase']=='construction', 'uy'].min()\n",
    "    fig, ax = plt.subplots(1, 1, figsize=figsize)\n",
    "    idx = results_df['test']==testid\n",
    "    for sidx, stage in enumerate(results_df.loc[idx, 'phase'].unique()):\n",
    "        idx2 = (idx) & (results_df['phase']==stage)\n",
    "        uy = results_df.loc[idx2,'uy'].to_numpy() - construction_disp\n",
    "        fy = results_df.loc[idx2,'fy'].to_numpy()\n",
    "        ax.plot(-uy, -fy,label='phase {:.0f}'.format(sidx))\n",
    "    ax.grid(alpha=0.2)\n",
    "    ax.set_xlabel('Vertical displacement [m]')\n",
    "    ax.set_ylabel('Vertical force [kN]')\n",
    "    ax.legend()\n",
    "    plt.close(fig)\n",
    "    return fig    "
   ]
  },
  {
   "cell_type": "code",
   "execution_count": 314,
   "metadata": {
    "code_folding": [
     0
    ]
   },
   "outputs": [],
   "source": [
    "def plot_test_compare(results_df, test_id, figsize=(7, 5), offset_construction=True):\n",
    "    construction_disp = 0\n",
    "    if offset_construction:\n",
    "        construction_disp = results_df.loc[results_df['phase']=='construction', 'uy'].min()\n",
    "    if isinstance(test_id, str):\n",
    "        test_id = [test_id]\n",
    "    fig, ax = plt.subplots(1, 1, figsize=figsize)\n",
    "    for tid in test_id:\n",
    "        idx = results_df['test']==tid\n",
    "        uy = results_df.loc[idx,'uy'].to_numpy() - construction_disp\n",
    "        fy = results_df.loc[idx,'fy'].to_numpy()\n",
    "        ax.plot(-uy, -fy,label=tid)\n",
    "    ax.grid(alpha=0.2)\n",
    "    ax.set_xlabel('Vertical displacement [m]')\n",
    "    ax.set_ylabel('Vertical force [kN]')\n",
    "    ax.legend()\n",
    "    plt.close(fig)\n",
    "    return fig  "
   ]
  },
  {
   "cell_type": "code",
   "execution_count": 119,
   "metadata": {},
   "outputs": [],
   "source": [
    "title = \"Embedded footing in sand\"\n",
    "comments = \"\"\n",
    "\n",
    "B0 = 4000\n",
    "B = 1.5\n",
    "D0 = 4000\n",
    "D = 2\n",
    "fill_angle = 32\n",
    "\n",
    "mesh_density = 0.06\n",
    "\n",
    "material = {}\n",
    "material['chimney'] = {}\n",
    "material['chimney']['fc'] = 24 # kPa\n",
    "material['chimney']['E'] = 4700 *  np.sqrt(material['chimney']['fc']) # kPa\n",
    "material['chimney']['nu'] = 0.4 # \n",
    "material['chimney']['EA'] = np.pi * B0**2/4 * material['chimney']['E']\n",
    "material['chimney']['EI'] = np.pi * B0**4/64 * material['chimney']['E']\n",
    "material['chimney']['d'] = np.sqrt(12 * material['chimney']['EI'] / material['chimney']['EA'])\n",
    "material['chimney']['Gref'] = material['chimney']['EA'] / material['chimney']['d']  / (2 * (1 + material['chimney']['nu'])) # KPa\n",
    "\n",
    "\n",
    "material['chimney']['gamma'] = 24 # kN/m3\n",
    "\n",
    "material['footing'] = {}\n",
    "material['footing']['fc'] = 24 # kPa\n",
    "material['footing']['E'] = 4700 *  np.sqrt(material['footing']['fc']) # kPa\n",
    "material['footing']['nu'] = 0.4 #\n",
    "material['footing']['EA'] = np.pi * B0**2/4 * material['footing']['E']\n",
    "material['footing']['EI'] = np.pi * B0**4/64 * material['footing']['E']\n",
    "material['footing']['d'] = np.sqrt(12 * material['footing']['EI'] / material['footing']['EA'])\n",
    "material['footing']['Gref'] = material['footing']['EA'] / material['footing']['d']  / (2 * (1 + material['footing']['nu'])) # KPa\n",
    "\n",
    "material['sand'] = {}\n",
    "material['sand']['gamma_unsat'] = 17\n",
    "material['sand']['gamma_sat'] = 20\n",
    "material['sand']['e0'] = 0.2\n",
    "material['sand']['E50ref'] = 4e4\n",
    "material['sand']['Eoedref'] = 4e4\n",
    "material['sand']['Euref'] = 1.2e5\n",
    "material['sand']['powerm'] = 0.5\n",
    "material['sand']['c'] = 0\n",
    "material['sand']['phi'] = 32\n",
    "material['sand']['psi'] = 2\n",
    "material['sand']['nu'] = 0.2\n",
    "material['sand']['K0nc'] = 0.4701\n",
    "material['sand']['kx'] = 1\n",
    "material['sand']['ky'] =1\n",
    "material['sand']['Rinter'] = 0.67\n",
    "\n",
    "material['fill'] = {}\n",
    "material['fill']['gamma_unsat'] = 17\n",
    "material['fill']['gamma_sat'] = 20\n",
    "material['fill']['e0'] = 0.2\n",
    "material['fill']['E50ref'] = 4e4\n",
    "material['fill']['Eoedref'] = 4e4\n",
    "material['fill']['Euref'] = 1.2e5\n",
    "material['fill']['powerm'] = 0.5\n",
    "material['fill']['c'] = 0\n",
    "material['fill']['phi'] = 32\n",
    "material['fill']['psi'] = 2\n",
    "material['fill']['nu'] = 0.2\n",
    "material['fill']['K0nc'] = 0.4701\n",
    "material['fill']['kx'] = 1\n",
    "material['fill']['ky'] = 1\n",
    "material['fill']['Rinter'] = 0.67"
   ]
  },
  {
   "cell_type": "code",
   "execution_count": 309,
   "metadata": {},
   "outputs": [
    {
     "data": {
      "image/png": "[encoded data removed]",
      "text/plain": [
       "<Figure size 432x492.574 with 1 Axes>"
      ]
     },
     "execution_count": 309,
     "metadata": {},
     "output_type": "execute_result"
    }
   ],
   "source": [
    "mdl, fig = build_model(title, comments, B, D, fill_angle, mesh_density, material)\n",
    "fig"
   ]
  },
  {
   "cell_type": "code",
   "execution_count": 310,
   "metadata": {},
   "outputs": [],
   "source": [
    "set_load_test(g_i, mdl, 'pullout5', 'construction', 5)\n",
    "set_load_test(g_i, mdl, 'pullout10', 'construction', 10)\n",
    "set_load_test(g_i, mdl, 'pullout15', 'construction', 25)\n",
    "set_load_test(g_i, mdl, 'pullout20', 'construction', 20)\n",
    "\n",
    "g_i.calculate()\n",
    "results_df = get_results(mdl, g_i, g_o)"
   ]
  },
  {
   "cell_type": "code",
   "execution_count": 303,
   "metadata": {},
   "outputs": [
    {
     "data": {
      "text/plain": [
       "array(['construction', 'pullout_stage_0'], dtype=object)"
      ]
     },
     "execution_count": 303,
     "metadata": {},
     "output_type": "execute_result"
    }
   ],
   "source": [
    "results_df['phase'].unique()"
   ]
  },
  {
   "cell_type": "code",
   "execution_count": 312,
   "metadata": {},
   "outputs": [
    {
     "data": {
      "image/png": "[encoded data removed]",
      "text/plain": [
       "<Figure size 504x360 with 1 Axes>"
      ]
     },
     "execution_count": 312,
     "metadata": {},
     "output_type": "execute_result"
    }
   ],
   "source": [
    "plot_test(results_df, 'pullout5')"
   ]
  },
  {
   "cell_type": "code",
   "execution_count": 316,
   "metadata": {},
   "outputs": [
    {
     "data": {
      "image/png": "[encoded data removed]",
      "text/plain": [
       "<Figure size 504x360 with 1 Axes>"
      ]
     },
     "execution_count": 316,
     "metadata": {},
     "output_type": "execute_result"
    }
   ],
   "source": [
    "plot_test_compare(results_df, ['pullout15', 'pullout10', 'pullout5'])"
   ]
  },
  {
   "cell_type": "code",
   "execution_count": 294,
   "metadata": {},
   "outputs": [],
   "source": [
    "set_load_test(g_i, mdl, 'bearing', 'construction', -100)\n",
    "set_load_test(g_i, mdl, 'pullout', 'construction', [-20, 5])\n",
    "set_load_test(g_i, mdl, 'pullout_cycles', 'construction', [-20, 5, -30, 5])\n",
    "\n",
    "g_i.calculate()\n",
    "results_df = get_results(mdl, g_i, g_o)"
   ]
  },
  {
   "cell_type": "code",
   "execution_count": 295,
   "metadata": {
    "code_folding": [
     0
    ]
   },
   "outputs": [],
   "source": []
  },
  {
   "cell_type": "code",
   "execution_count": 300,
   "metadata": {
    "scrolled": false
   },
   "outputs": [
    {
     "name": "stderr",
     "output_type": "stream",
     "text": [
      "No handles with labels found to put in legend.\n"
     ]
    },
    {
     "data": {
      "image/png": "[encoded data removed]",
      "text/plain": [
       "<Figure size 504x360 with 1 Axes>"
      ]
     },
     "execution_count": 300,
     "metadata": {},
     "output_type": "execute_result"
    }
   ],
   "source": []
  },
  {
   "cell_type": "code",
   "execution_count": 297,
   "metadata": {},
   "outputs": [
    {
     "data": {
      "image/png": "[encoded data removed]",
      "text/plain": [
       "<Figure size 504x360 with 1 Axes>"
      ]
     },
     "execution_count": 297,
     "metadata": {},
     "output_type": "execute_result"
    }
   ],
   "source": [
    "plot_test(results_df, 'pullout_cycles')"
   ]
  },
  {
   "cell_type": "code",
   "execution_count": 290,
   "metadata": {},
   "outputs": [
    {
     "data": {
      "text/plain": [
       "array(['construction', 'bearing_stage_0', 'pullout_stage_0',\n",
       "       'pullout_stage_1', 'pullout_cycles_stage_0',\n",
       "       'pullout_cycles_stage_1', 'pullout_cycles_stage_2',\n",
       "       'pullout_cycles_stage_3'], dtype=object)"
      ]
     },
     "execution_count": 290,
     "metadata": {},
     "output_type": "execute_result"
    }
   ],
   "source": [
    "results_df['phase'].unique()"
   ]
  },
  {
   "cell_type": "code",
   "execution_count": 291,
   "metadata": {},
   "outputs": [
    {
     "data": {
      "text/html": [
       "<div>\n",
       "<style scoped>\n",
       "    .dataframe tbody tr th:only-of-type {\n",
       "        vertical-align: middle;\n",
       "    }\n",
       "\n",
       "    .dataframe tbody tr th {\n",
       "        vertical-align: top;\n",
       "    }\n",
       "\n",
       "    .dataframe thead th {\n",
       "        text-align: right;\n",
       "    }\n",
       "</style>\n",
       "<table border=\"1\" class=\"dataframe\">\n",
       "  <thead>\n",
       "    <tr style=\"text-align: right;\">\n",
       "      <th></th>\n",
       "      <th>load start</th>\n",
       "      <th>load end</th>\n",
       "      <th>uy</th>\n",
       "      <th>fy</th>\n",
       "      <th>sumMstage</th>\n",
       "      <th>phase</th>\n",
       "      <th>plx id</th>\n",
       "      <th>previous plx id</th>\n",
       "      <th>previous</th>\n",
       "      <th>test</th>\n",
       "    </tr>\n",
       "  </thead>\n",
       "  <tbody>\n",
       "    <tr>\n",
       "      <th>0</th>\n",
       "      <td>0</td>\n",
       "      <td>-20</td>\n",
       "      <td>-0.002243</td>\n",
       "      <td>-2.270633</td>\n",
       "      <td>0.113532</td>\n",
       "      <td>pullout_stage_0</td>\n",
       "      <td>Phase_4</td>\n",
       "      <td>Phase_2</td>\n",
       "      <td>pullout_stage_0</td>\n",
       "      <td>pullout</td>\n",
       "    </tr>\n",
       "    <tr>\n",
       "      <th>1</th>\n",
       "      <td>0</td>\n",
       "      <td>-20</td>\n",
       "      <td>-0.002318</td>\n",
       "      <td>-4.132485</td>\n",
       "      <td>0.206624</td>\n",
       "      <td>pullout_stage_0</td>\n",
       "      <td>Phase_4</td>\n",
       "      <td>Phase_2</td>\n",
       "      <td>pullout_stage_0</td>\n",
       "      <td>pullout</td>\n",
       "    </tr>\n",
       "    <tr>\n",
       "      <th>2</th>\n",
       "      <td>0</td>\n",
       "      <td>-20</td>\n",
       "      <td>-0.002472</td>\n",
       "      <td>-7.168377</td>\n",
       "      <td>0.358419</td>\n",
       "      <td>pullout_stage_0</td>\n",
       "      <td>Phase_4</td>\n",
       "      <td>Phase_2</td>\n",
       "      <td>pullout_stage_0</td>\n",
       "      <td>pullout</td>\n",
       "    </tr>\n",
       "    <tr>\n",
       "      <th>3</th>\n",
       "      <td>0</td>\n",
       "      <td>-20</td>\n",
       "      <td>-0.002633</td>\n",
       "      <td>-9.660704</td>\n",
       "      <td>0.483035</td>\n",
       "      <td>pullout_stage_0</td>\n",
       "      <td>Phase_4</td>\n",
       "      <td>Phase_2</td>\n",
       "      <td>pullout_stage_0</td>\n",
       "      <td>pullout</td>\n",
       "    </tr>\n",
       "    <tr>\n",
       "      <th>4</th>\n",
       "      <td>0</td>\n",
       "      <td>-20</td>\n",
       "      <td>-0.002801</td>\n",
       "      <td>-11.823309</td>\n",
       "      <td>0.591165</td>\n",
       "      <td>pullout_stage_0</td>\n",
       "      <td>Phase_4</td>\n",
       "      <td>Phase_2</td>\n",
       "      <td>pullout_stage_0</td>\n",
       "      <td>pullout</td>\n",
       "    </tr>\n",
       "    <tr>\n",
       "      <th>5</th>\n",
       "      <td>0</td>\n",
       "      <td>-20</td>\n",
       "      <td>-0.002972</td>\n",
       "      <td>-13.724881</td>\n",
       "      <td>0.686244</td>\n",
       "      <td>pullout_stage_0</td>\n",
       "      <td>Phase_4</td>\n",
       "      <td>Phase_2</td>\n",
       "      <td>pullout_stage_0</td>\n",
       "      <td>pullout</td>\n",
       "    </tr>\n",
       "    <tr>\n",
       "      <th>6</th>\n",
       "      <td>0</td>\n",
       "      <td>-20</td>\n",
       "      <td>-0.003141</td>\n",
       "      <td>-15.424122</td>\n",
       "      <td>0.771206</td>\n",
       "      <td>pullout_stage_0</td>\n",
       "      <td>Phase_4</td>\n",
       "      <td>Phase_2</td>\n",
       "      <td>pullout_stage_0</td>\n",
       "      <td>pullout</td>\n",
       "    </tr>\n",
       "    <tr>\n",
       "      <th>7</th>\n",
       "      <td>0</td>\n",
       "      <td>-20</td>\n",
       "      <td>-0.003301</td>\n",
       "      <td>-16.993235</td>\n",
       "      <td>0.849662</td>\n",
       "      <td>pullout_stage_0</td>\n",
       "      <td>Phase_4</td>\n",
       "      <td>Phase_2</td>\n",
       "      <td>pullout_stage_0</td>\n",
       "      <td>pullout</td>\n",
       "    </tr>\n",
       "    <tr>\n",
       "      <th>8</th>\n",
       "      <td>0</td>\n",
       "      <td>-20</td>\n",
       "      <td>-0.003450</td>\n",
       "      <td>-18.469673</td>\n",
       "      <td>0.923484</td>\n",
       "      <td>pullout_stage_0</td>\n",
       "      <td>Phase_4</td>\n",
       "      <td>Phase_2</td>\n",
       "      <td>pullout_stage_0</td>\n",
       "      <td>pullout</td>\n",
       "    </tr>\n",
       "    <tr>\n",
       "      <th>9</th>\n",
       "      <td>0</td>\n",
       "      <td>-20</td>\n",
       "      <td>-0.003590</td>\n",
       "      <td>-19.881788</td>\n",
       "      <td>0.994089</td>\n",
       "      <td>pullout_stage_0</td>\n",
       "      <td>Phase_4</td>\n",
       "      <td>Phase_2</td>\n",
       "      <td>pullout_stage_0</td>\n",
       "      <td>pullout</td>\n",
       "    </tr>\n",
       "    <tr>\n",
       "      <th>10</th>\n",
       "      <td>0</td>\n",
       "      <td>-20</td>\n",
       "      <td>-0.003599</td>\n",
       "      <td>-20.000000</td>\n",
       "      <td>1.000000</td>\n",
       "      <td>pullout_stage_0</td>\n",
       "      <td>Phase_4</td>\n",
       "      <td>Phase_2</td>\n",
       "      <td>pullout_stage_0</td>\n",
       "      <td>pullout</td>\n",
       "    </tr>\n",
       "  </tbody>\n",
       "</table>\n",
       "</div>"
      ],
      "text/plain": [
       "    load start  load end        uy         fy  sumMstage            phase  \\\n",
       "0            0       -20 -0.002243  -2.270633   0.113532  pullout_stage_0   \n",
       "1            0       -20 -0.002318  -4.132485   0.206624  pullout_stage_0   \n",
       "2            0       -20 -0.002472  -7.168377   0.358419  pullout_stage_0   \n",
       "3            0       -20 -0.002633  -9.660704   0.483035  pullout_stage_0   \n",
       "4            0       -20 -0.002801 -11.823309   0.591165  pullout_stage_0   \n",
       "5            0       -20 -0.002972 -13.724881   0.686244  pullout_stage_0   \n",
       "6            0       -20 -0.003141 -15.424122   0.771206  pullout_stage_0   \n",
       "7            0       -20 -0.003301 -16.993235   0.849662  pullout_stage_0   \n",
       "8            0       -20 -0.003450 -18.469673   0.923484  pullout_stage_0   \n",
       "9            0       -20 -0.003590 -19.881788   0.994089  pullout_stage_0   \n",
       "10           0       -20 -0.003599 -20.000000   1.000000  pullout_stage_0   \n",
       "\n",
       "     plx id previous plx id         previous     test  \n",
       "0   Phase_4         Phase_2  pullout_stage_0  pullout  \n",
       "1   Phase_4         Phase_2  pullout_stage_0  pullout  \n",
       "2   Phase_4         Phase_2  pullout_stage_0  pullout  \n",
       "3   Phase_4         Phase_2  pullout_stage_0  pullout  \n",
       "4   Phase_4         Phase_2  pullout_stage_0  pullout  \n",
       "5   Phase_4         Phase_2  pullout_stage_0  pullout  \n",
       "6   Phase_4         Phase_2  pullout_stage_0  pullout  \n",
       "7   Phase_4         Phase_2  pullout_stage_0  pullout  \n",
       "8   Phase_4         Phase_2  pullout_stage_0  pullout  \n",
       "9   Phase_4         Phase_2  pullout_stage_0  pullout  \n",
       "10  Phase_4         Phase_2  pullout_stage_0  pullout  "
      ]
     },
     "execution_count": 291,
     "metadata": {},
     "output_type": "execute_result"
    }
   ],
   "source": [
    "results_df.loc[results_df['phase']=='pullout_stage_0']"
   ]
  },
  {
   "cell_type": "code",
   "execution_count": 292,
   "metadata": {},
   "outputs": [
    {
     "data": {
      "text/html": [
       "<div>\n",
       "<style scoped>\n",
       "    .dataframe tbody tr th:only-of-type {\n",
       "        vertical-align: middle;\n",
       "    }\n",
       "\n",
       "    .dataframe tbody tr th {\n",
       "        vertical-align: top;\n",
       "    }\n",
       "\n",
       "    .dataframe thead th {\n",
       "        text-align: right;\n",
       "    }\n",
       "</style>\n",
       "<table border=\"1\" class=\"dataframe\">\n",
       "  <thead>\n",
       "    <tr style=\"text-align: right;\">\n",
       "      <th></th>\n",
       "      <th>load start</th>\n",
       "      <th>load end</th>\n",
       "      <th>uy</th>\n",
       "      <th>fy</th>\n",
       "      <th>sumMstage</th>\n",
       "      <th>phase</th>\n",
       "      <th>plx id</th>\n",
       "      <th>previous plx id</th>\n",
       "      <th>previous</th>\n",
       "      <th>test</th>\n",
       "    </tr>\n",
       "  </thead>\n",
       "  <tbody>\n",
       "    <tr>\n",
       "      <th>0</th>\n",
       "      <td>0</td>\n",
       "      <td>5</td>\n",
       "      <td>-0.003415</td>\n",
       "      <td>1.978441</td>\n",
       "      <td>0.395688</td>\n",
       "      <td>pullout_stage_1</td>\n",
       "      <td>Phase_5</td>\n",
       "      <td>Phase_4</td>\n",
       "      <td>pullout_stage_1</td>\n",
       "      <td>pullout</td>\n",
       "    </tr>\n",
       "    <tr>\n",
       "      <th>1</th>\n",
       "      <td>0</td>\n",
       "      <td>5</td>\n",
       "      <td>-0.003233</td>\n",
       "      <td>3.883438</td>\n",
       "      <td>0.776688</td>\n",
       "      <td>pullout_stage_1</td>\n",
       "      <td>Phase_5</td>\n",
       "      <td>Phase_4</td>\n",
       "      <td>pullout_stage_1</td>\n",
       "      <td>pullout</td>\n",
       "    </tr>\n",
       "    <tr>\n",
       "      <th>2</th>\n",
       "      <td>0</td>\n",
       "      <td>5</td>\n",
       "      <td>-0.003125</td>\n",
       "      <td>5.000000</td>\n",
       "      <td>1.000000</td>\n",
       "      <td>pullout_stage_1</td>\n",
       "      <td>Phase_5</td>\n",
       "      <td>Phase_4</td>\n",
       "      <td>pullout_stage_1</td>\n",
       "      <td>pullout</td>\n",
       "    </tr>\n",
       "  </tbody>\n",
       "</table>\n",
       "</div>"
      ],
      "text/plain": [
       "   load start  load end        uy        fy  sumMstage            phase  \\\n",
       "0           0         5 -0.003415  1.978441   0.395688  pullout_stage_1   \n",
       "1           0         5 -0.003233  3.883438   0.776688  pullout_stage_1   \n",
       "2           0         5 -0.003125  5.000000   1.000000  pullout_stage_1   \n",
       "\n",
       "    plx id previous plx id         previous     test  \n",
       "0  Phase_5         Phase_4  pullout_stage_1  pullout  \n",
       "1  Phase_5         Phase_4  pullout_stage_1  pullout  \n",
       "2  Phase_5         Phase_4  pullout_stage_1  pullout  "
      ]
     },
     "execution_count": 292,
     "metadata": {},
     "output_type": "execute_result"
    }
   ],
   "source": [
    "results_df.loc[results_df['phase']=='pullout_stage_1']"
   ]
  },
  {
   "cell_type": "code",
   "execution_count": null,
   "metadata": {},
   "outputs": [],
   "source": []
  }
 ],
 "metadata": {
  "hide_input": false,
  "kernelspec": {
   "display_name": "PLAXIS Python 3",
   "language": "python",
   "name": "plaxis_python3"
  },
  "language_info": {
   "codemirror_mode": {
    "name": "ipython",
    "version": 3
   },
   "file_extension": ".py",
   "mimetype": "text/x-python",
   "name": "python",
   "nbconvert_exporter": "python",
   "pygments_lexer": "ipython3",
   "version": "3.7.4"
  },
  "toc": {
   "base_numbering": 1,
   "nav_menu": {},
   "number_sections": false,
   "sideBar": true,
   "skip_h1_title": false,
   "title_cell": "Table of Contents",
   "title_sidebar": "Contents",
   "toc_cell": false,
   "toc_position": {
    "height": "calc(100% - 180px)",
    "left": "10px",
    "top": "150px",
    "width": "165px"
   },
   "toc_section_display": true,
   "toc_window_display": true
  },
  "varInspector": {
   "cols": {
    "lenName": 16,
    "lenType": 16,
    "lenVar": 40
   },
   "kernels_config": {
    "python": {
     "delete_cmd_postfix": "",
     "delete_cmd_prefix": "del ",
     "library": "var_list.py",
     "varRefreshCmd": "print(var_dic_list())"
    },
    "r": {
     "delete_cmd_postfix": ") ",
     "delete_cmd_prefix": "rm(",
     "library": "var_list.r",
     "varRefreshCmd": "cat(var_dic_list()) "
    }
   },
   "types_to_exclude": [
    "module",
    "function",
    "builtin_function_or_method",
    "instance",
    "_Feature"
   ],
   "window_display": false
  }
 },
 "nbformat": 4,
 "nbformat_minor": 2
}
