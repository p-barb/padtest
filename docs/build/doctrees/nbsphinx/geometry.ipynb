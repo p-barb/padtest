{
 "cells": [
  {
   "cell_type": "markdown",
   "metadata": {},
   "source": [
    "# Geometry"
   ]
  },
  {
   "cell_type": "markdown",
   "metadata": {},
   "source": [
    "## Model types"
   ]
  },
  {
   "cell_type": "markdown",
   "metadata": {},
   "source": [
    "There are 4 model types classified by the way in which the foundation structure is modeled (plate elements or solid polygons) and the geometry (symmetric and non-symmetric models):\n",
    "\n",
    "- ``Plate``: Non-symetric plate model.\n",
    "- ``SPlate``: Symetric plate model.\n",
    "- ``Solid``: : Non-symetric solid model.\n",
    "- ``SSolid``: : Symetric solid model.\n",
    "\n",
    "In a symmetric model only half of the foundation is build in Plaxis, with the other half assumed to be a mirror image. Consequently in symmetric models the column is always centered in the foundation, and only vertical loads can be applied. The following code creates four models in Plaxis. These four models represent the same strip foundation with a centered column with either plates or a solid and in full or only half:"
   ]
  },
  {
   "cell_type": "code",
   "execution_count": 1,
   "metadata": {},
   "outputs": [],
   "source": [
    "from plxscripting.easy import *\n",
    "import padtest\n",
    "\n",
    "# start server\n",
    "password = \"nicFgr^TtsFm~h~M\"\n",
    "localhostport_input = 10000 \n",
    "localhostport_output = 10001\n",
    "s_i, g_i = new_server('localhost', localhostport_input, password=password) \n",
    "s_o, g_o = new_server('localhost', localhostport_output, password=password)\n",
    "\n",
    "# Geoemtry\n",
    "d = 1.2 # Foundation depth\n",
    "b = 2 # Foundation width\n",
    "b1 = 0.5 # Foundation column width\n",
    "d1 = 0.5 # Foundation width\n",
    "\n",
    "# Mohr-Coulomb soil material\n",
    "soil = {}\n",
    "soil['SoilModel'] = 'mohr-coulomb'\n",
    "soil[\"DrainageType\"] = 0\n",
    "soil['gammaSat'] = 20 # kN/m3\n",
    "soil['gammaUnsat'] = 17 # kN/m3\n",
    "soil['e0'] = 0.2\n",
    "soil['Eref'] = 4e4 # kN\n",
    "soil['nu'] = 0.2\n",
    "soil['cref'] = 0 # kPa\n",
    "soil['phi'] = 35 # deg\n",
    "soil['psi'] = 0 # deg\n",
    "\n",
    "\n",
    "# Plate material for a f'c=30MPa concrete slab with a 40cm thickness and 24kN/m3 unit weight\n",
    "column = padtest.concrete(30, 24, b1)\n",
    "# Plate material for a f'c=30MPa concrete slab with a 60cm thickness and 24kN/m3 unit weight\n",
    "footing = padtest.concrete(30, 24, d1)\n",
    "\n",
    "# elastic material for concrete with equivalent stiffness than the column and footing\n",
    "concrete = {}\n",
    "concrete['SoilModel'] = 'elastic'\n",
    "concrete[\"DrainageType\"] = 0\n",
    "concrete['Eref'] =  30e6  # kPa\n",
    "concrete['nu'] = 0.4 #\n",
    "concrete['gammaSat'] = 20 # kN/m3\n",
    "concrete['gammaUnsat'] = 17 # kN/m3\n",
    "\n",
    "# Model creation (run one at the time)\n",
    "model1 = padtest.SPlate(s_i, g_i, g_o, b, d, soil, footing, column, model_type='planestrain')\n",
    "model2 = padtest.Plate(s_i, g_i, g_o, b, d, soil, footing, column, model_type='planestrain')\n",
    "model3 = padtest.SSolid(s_i, g_i, g_o, b, d, b1, d1, soil, concrete, model_type='planestrain')\n",
    "model4 = padtest.Solid(s_i, g_i, g_o, b, d, b1, d1, soil, concrete, model_type='planestrain')"
   ]
  },
  {
   "cell_type": "markdown",
   "metadata": {},
   "source": [
    "The resulting models look like:\n",
    "\n",
    "<img src=\"images/models.png\" alt=\"Model types.\" width=\"700\">"
   ]
  },
  {
   "cell_type": "markdown",
   "metadata": {},
   "source": [
    "Both symmetric and non-symmetric model can be [plane-strain or axisymmetric in Plaxis](workflow.ipynb#General-model-settings). A symmetric plane-strain model represents a strip foundation with centered column. A symmetric axisymmetric model represents a circular foundation also with a centered column. Non-symmetric plane-strain model represents a strip foundation, with the advantage that [the column does not need to be centered](#Column-offset) in the foundation and that not only vertical, but also [horizontal and moment loads](test.ipynb#Load-test) can be applied to the foundation. A non-symmetric axisymmetric model represents a ring foundation, for example under a tank or silo. As with the plane-strain case, not only vertical, but horizontal and moment loads can be applied, and the column does not need to be centered.\n",
    "\n",
    "When the column is centered in the foundation and only vertical loads are of interest, the ``SPlate`` and ``SSolid`` are preferable as they required half the number of elements and thus are much faster to run. Although [shake tests](test.ipynb#Shake-test) can be performed in ``SPlate`` and ``SSolid`` models, they do not have a valid physical interpretation as they would imply the soil stretching outwards and contracting from the axis of the foundation. The same happens in ``Plate`` and ``Solid`` models if they are axisymmetric."
   ]
  },
  {
   "cell_type": "markdown",
   "metadata": {},
   "source": [
    "## Solid foundations"
   ]
  },
  {
   "cell_type": "markdown",
   "metadata": {},
   "source": [
    "Solid foundations model the foundation structure as a solid polygon instead of a plate. A soil material must be provided for the foundation material."
   ]
  },
  {
   "cell_type": "code",
   "execution_count": 2,
   "metadata": {
    "code_folding": []
   },
   "outputs": [],
   "source": [
    "# Geometry\n",
    "d = 3 # Foundation depth\n",
    "b = 2 # Foundation width\n",
    "b1 = 0.5 # Foundation column width\n",
    "d1 = 0.5 # Foundation width\n",
    "\n",
    "# Mohr-Coulomb soil material\n",
    "soil = {}\n",
    "soil['SoilModel'] = 'mohr-coulomb'\n",
    "soil[\"DrainageType\"] = 0\n",
    "soil['gammaSat'] = 20 # kN/m3\n",
    "soil['gammaUnsat'] = 17 # kN/m3\n",
    "soil['e0'] = 0.2\n",
    "soil['Eref'] = 4e4 # kN\n",
    "soil['nu'] = 0.2\n",
    "soil['cref'] = 0 # kPa\n",
    "soil['phi'] = 35 # deg\n",
    "soil['psi'] = 0 # deg\n",
    "\n",
    "# elastic material for concrete\n",
    "concrete = {}\n",
    "concrete['SoilModel'] = 'elastic'\n",
    "concrete[\"DrainageType\"] = 0\n",
    "concrete['Eref'] =  30e6  # kPa\n",
    "concrete['nu'] = 0.4 #\n",
    "concrete['gammaSat'] = 20 # kN/m3\n",
    "concrete['gammaUnsat'] = 17 # kN/m3\n",
    "\n",
    "# build model\n",
    "model = padtest.Solid(s_i, g_i, g_o, b, d, b1, d1, soil, concrete)"
   ]
  },
  {
   "cell_type": "markdown",
   "metadata": {},
   "source": [
    "The resulting model is:"
   ]
  },
  {
   "cell_type": "code",
   "execution_count": 3,
   "metadata": {},
   "outputs": [
    {
     "data": {
      "image/png": "[encoded data removed]",
      "text/plain": [
       "<Figure size 400x400 with 1 Axes>"
      ]
     },
     "execution_count": 3,
     "metadata": {},
     "output_type": "execute_result"
    }
   ],
   "source": [
    "model.plot()"
   ]
  },
  {
   "cell_type": "markdown",
   "metadata": {},
   "source": [
    "## Column offset"
   ]
  },
  {
   "cell_type": "markdown",
   "metadata": {},
   "source": [
    "The column offset in ``Plate`` and ``Solid`` models is controlled with the ``b2`` argument that represents the distance from the left edge of the footing to the column axis. In ``Solid`` models the column width ``b1`` is included in the geometry, which limits ``b2`` in  $b_1 /\\ 2 \\leq b_2 \\leq b - b_1 /\\ 2$. In ``Plate`` models the axis of the column can be located at the edge of the footing plate, so $0 \\leq b_2 \\leq b$."
   ]
  },
  {
   "cell_type": "code",
   "execution_count": 4,
   "metadata": {},
   "outputs": [
    {
     "data": {
      "image/png": "[encoded data removed]",
      "text/plain": [
       "<Figure size 400x400 with 1 Axes>"
      ]
     },
     "execution_count": 4,
     "metadata": {},
     "output_type": "execute_result"
    }
   ],
   "source": [
    "# Geometry\n",
    "d = 3 # Foundation depth\n",
    "b = 2 # Foundation width\n",
    "b1 = 0.5 # Foundation column width\n",
    "d1 = 0.5 # Foundation width\n",
    "b2 = 0.25 # distance from the left edge of the footing to the center of the column\n",
    "\n",
    "# Mohr-Coulomb soil material\n",
    "soil = {}\n",
    "soil['SoilModel'] = 'mohr-coulomb'\n",
    "soil[\"DrainageType\"] = 0\n",
    "soil['gammaSat'] = 20 # kN/m3\n",
    "soil['gammaUnsat'] = 17 # kN/m3\n",
    "soil['e0'] = 0.2\n",
    "soil['Eref'] = 4e4 # kN\n",
    "soil['nu'] = 0.2\n",
    "soil['cref'] = 0 # kPa\n",
    "soil['phi'] = 35 # deg\n",
    "soil['psi'] = 0 # deg\n",
    "\n",
    "# elastic material for concrete\n",
    "concrete = {}\n",
    "concrete['SoilModel'] = 'elastic'\n",
    "concrete[\"DrainageType\"] = 0\n",
    "concrete['Eref'] =  30e6  # kPa\n",
    "concrete['nu'] = 0.4 #\n",
    "concrete['gammaSat'] = 20 # kN/m3\n",
    "concrete['gammaUnsat'] = 17 # kN/m3\n",
    "\n",
    "# build model\n",
    "model = padtest.Solid(s_i, g_i, g_o, b, d, b1, d1, soil, concrete, b2=b2)\n",
    "model.plot()"
   ]
  },
  {
   "cell_type": "markdown",
   "metadata": {},
   "source": [
    "The same model with plate structure is created with:"
   ]
  },
  {
   "cell_type": "code",
   "execution_count": 5,
   "metadata": {},
   "outputs": [
    {
     "data": {
      "image/png": "[encoded data removed]",
      "text/plain": [
       "<Figure size 400x400 with 1 Axes>"
      ]
     },
     "execution_count": 5,
     "metadata": {},
     "output_type": "execute_result"
    }
   ],
   "source": [
    "# Plate material for a f'c=30MPa concrete slab with a 40cm thickness and 24kN/m3 unit weight\n",
    "column = padtest.concrete(30, 24, b1)\n",
    "# Plate material for a f'c=30MPa concrete slab with a 60cm thickness and 24kN/m3 unit weight\n",
    "footing = padtest.concrete(30, 24, d1)\n",
    "\n",
    "# build model\n",
    "model = padtest.Plate(s_i, g_i, g_o, b, d, soil, footing, column, b2=b2)\n",
    "model.plot()"
   ]
  },
  {
   "cell_type": "markdown",
   "metadata": {},
   "source": [
    "## Surface foundations"
   ]
  },
  {
   "cell_type": "markdown",
   "metadata": {},
   "source": [
    "A surface foundation is created by setting the depth to 0. If the foundation is modeled by plate elements, no material need to be provided for the column:"
   ]
  },
  {
   "cell_type": "code",
   "execution_count": 6,
   "metadata": {},
   "outputs": [
    {
     "data": {
      "image/png": "[encoded data removed]",
      "text/plain": [
       "<Figure size 400x300 with 1 Axes>"
      ]
     },
     "execution_count": 6,
     "metadata": {},
     "output_type": "execute_result"
    }
   ],
   "source": [
    "d = 0 # Foundation depth\n",
    "b = 2 # Foundation width\n",
    "d1 = 0.5 # Foundation width\n",
    "\n",
    "# Mohr-Coulomb soil material\n",
    "soil = {}\n",
    "soil['SoilModel'] = 'mohr-coulomb'\n",
    "soil[\"DrainageType\"] = 0\n",
    "soil['gammaSat'] = 20 # kN/m3\n",
    "soil['gammaUnsat'] = 17 # kN/m3\n",
    "soil['e0'] = 0.2\n",
    "soil['Eref'] = 4e4 # kN\n",
    "soil['nu'] = 0.2\n",
    "soil['cref'] = 0 # kPa\n",
    "soil['phi'] = 35 # deg\n",
    "soil['psi'] = 0 # deg\n",
    "\n",
    "# Create with f'c=30MPa concrete slab with a 60cm thickness and 24kN/m3 unit weight\n",
    "footing = padtest.concrete(30, 24, d1)\n",
    "column = None\n",
    "\n",
    "# Create model\n",
    "model = padtest.Plate(s_i, g_i, g_o, b, d, soil, footing, column)\n",
    "model.plot()"
   ]
  },
  {
   "cell_type": "markdown",
   "metadata": {},
   "source": [
    "If the foundation is modeled as a solid, the column width is still required as the width of the applied uniform load on top of the foundation."
   ]
  },
  {
   "cell_type": "code",
   "execution_count": 7,
   "metadata": {},
   "outputs": [
    {
     "data": {
      "image/png": "[encoded data removed]",
      "text/plain": [
       "<Figure size 400x300 with 1 Axes>"
      ]
     },
     "execution_count": 7,
     "metadata": {},
     "output_type": "execute_result"
    }
   ],
   "source": [
    "# Geometry\n",
    "d = 0 # Foundation depth\n",
    "b = 2 # Foundation width\n",
    "b1 = 0.6 # Load width\n",
    "d1 = 0.3 # Foundation width\n",
    "\n",
    "# Mohr-Coulomb soil material\n",
    "soil = {}\n",
    "soil['SoilModel'] = 'mohr-coulomb'\n",
    "soil[\"DrainageType\"] = 0\n",
    "soil['gammaSat'] = 20 # kN/m3\n",
    "soil['gammaUnsat'] = 17 # kN/m3\n",
    "soil['e0'] = 0.2\n",
    "soil['Eref'] = 4e4 # kN\n",
    "soil['nu'] = 0.2\n",
    "soil['cref'] = 0 # kPa\n",
    "soil['phi'] = 35 # deg\n",
    "soil['psi'] = 0 # deg\n",
    "\n",
    "# elastic material for concrete\n",
    "concrete = {}\n",
    "concrete['SoilModel'] = 'elastic'\n",
    "concrete[\"DrainageType\"] = 0\n",
    "concrete['Eref'] =  30e6  # kPa\n",
    "concrete['nu'] = 0.4 #\n",
    "concrete['gammaSat'] = 20 # kN/m3\n",
    "concrete['gammaUnsat'] = 17 # kN/m3\n",
    "\n",
    "# build model\n",
    "model = padtest.Solid(s_i, g_i, g_o, b, d, b1, d1, soil, concrete)\n",
    "model.plot()"
   ]
  },
  {
   "cell_type": "markdown",
   "metadata": {},
   "source": [
    "Solid foundations can be partially embedded:"
   ]
  },
  {
   "cell_type": "code",
   "execution_count": 8,
   "metadata": {},
   "outputs": [
    {
     "data": {
      "image/png": "[encoded data removed]",
      "text/plain": [
       "<Figure size 400x630 with 1 Axes>"
      ]
     },
     "execution_count": 8,
     "metadata": {},
     "output_type": "execute_result"
    }
   ],
   "source": [
    "# Geometry\n",
    "d = 0.3 # Foundation depth\n",
    "b = 2 # Foundation width\n",
    "b1 = 0.6 # Load width\n",
    "d1 = 0.5 # Foundation width\n",
    "\n",
    "# build model\n",
    "model = padtest.SSolid(s_i, g_i, g_o, b, d, b1, d1, soil, concrete)\n",
    "model.plot()"
   ]
  },
  {
   "cell_type": "markdown",
   "metadata": {},
   "source": [
    "## Stratification"
   ]
  },
  {
   "cell_type": "markdown",
   "metadata": {},
   "source": [
    "Multiple soil layers are defined by providing a soil material for each layer and specify each layer thickness with the `dstrata` parameter. If the model height exceeds the combined height of the individual layers, the bottom layer is extended."
   ]
  },
  {
   "cell_type": "code",
   "execution_count": 9,
   "metadata": {},
   "outputs": [
    {
     "data": {
      "image/png": "[encoded data removed]",
      "text/plain": [
       "<Figure size 400x800 with 1 Axes>"
      ]
     },
     "execution_count": 9,
     "metadata": {},
     "output_type": "execute_result"
    }
   ],
   "source": [
    "d = 3 # Foundation depth\n",
    "b = 2 # Foundation width\n",
    "b1 = 0.5 # Foundation column width\n",
    "d1 = 0.5 # Foundation width\n",
    "\n",
    "# Mohr-Coulomb top soil material\n",
    "top_layer = {}\n",
    "top_layer['SoilModel'] = 'mohr-coulomb'\n",
    "top_layer[\"DrainageType\"] = 0\n",
    "top_layer['gammaSat'] = 20 # kN/m3\n",
    "top_layer['gammaUnsat'] = 17 # kN/m3\n",
    "top_layer['e0'] = 0.2\n",
    "top_layer['Eref'] = 4e4 # kN\n",
    "top_layer['nu'] = 0.2\n",
    "top_layer['cref'] = 0 # kPa\n",
    "top_layer['phi'] = 30 # deg\n",
    "top_layer['psi'] = 0 # deg\n",
    "\n",
    "# Mohr-Coulomb second soil material\n",
    "mid_layer = {}\n",
    "mid_layer['SoilModel'] = 'mohr-coulomb'\n",
    "mid_layer[\"DrainageType\"] = 0\n",
    "mid_layer['gammaSat'] = 20 # kN/m3\n",
    "mid_layer['gammaUnsat'] = 17 # kN/m3\n",
    "mid_layer['e0'] = 0.2\n",
    "mid_layer['Eref'] = 4e4 # kN\n",
    "mid_layer['nu'] = 0.2\n",
    "mid_layer['cref'] = 0 # kPa\n",
    "mid_layer['phi'] = 32 # deg\n",
    "mid_layer['psi'] = 0 # deg\n",
    "\n",
    "# Mohr-Coulomb second soil material\n",
    "bottom_layer = {}\n",
    "bottom_layer['SoilModel'] = 'mohr-coulomb'\n",
    "bottom_layer[\"DrainageType\"] = 0\n",
    "bottom_layer['gammaSat'] = 20 # kN/m3\n",
    "bottom_layer['gammaUnsat'] = 17 # kN/m3\n",
    "bottom_layer['e0'] = 0.2\n",
    "bottom_layer['Eref'] = 4e4 # kN\n",
    "bottom_layer['nu'] = 0.2\n",
    "bottom_layer['cref'] = 0 # kPa\n",
    "bottom_layer['phi'] = 39 # deg\n",
    "bottom_layer['psi'] = 0 # deg\n",
    "\n",
    "# Plate material for a f'c=30MPa concrete slab with a 40cm thickness and 24kN/m3 unit weight\n",
    "column = padtest.concrete(30, 24, b1)\n",
    "# Plate material for a f'c=30MPa concrete slab with a 60cm thickness and 24kN/m3 unit weight\n",
    "footing = padtest.concrete(30, 24, d1)\n",
    "\n",
    "# build model\n",
    "model = padtest.SPlate(s_i, g_i, g_o, b, d,\n",
    "                       [top_layer, mid_layer, bottom_layer], footing, column,\n",
    "                       dstrata=[1, 2, 3])\n",
    "model.plot()"
   ]
  },
  {
   "cell_type": "markdown",
   "metadata": {},
   "source": [
    "## Fill"
   ]
  },
  {
   "cell_type": "markdown",
   "metadata": {},
   "source": [
    "The fill material used in buried foundations is included in the model by provided a soil material in the `fill` argument and the excavation slope (in degrees) in the `fill_angle` argument. The model includes the initial phase with only the original stratigraphy, an excavation phase where the soil material is removed, and a construction phase where the foundation and the fill are activated."
   ]
  },
  {
   "cell_type": "code",
   "execution_count": 10,
   "metadata": {},
   "outputs": [
    {
     "data": {
      "image/png": "[encoded data removed]",
      "text/plain": [
       "<Figure size 400x213.434 with 1 Axes>"
      ]
     },
     "execution_count": 10,
     "metadata": {},
     "output_type": "execute_result"
    }
   ],
   "source": [
    "d = 3 # Foundation depth\n",
    "b = 2 # Foundation width\n",
    "b1 = 0.5 # Foundation column width\n",
    "d1 = 0.5 # Foundation width\n",
    "\n",
    "# Mohr-Coulomb top soil material\n",
    "soil = {}\n",
    "soil['SoilModel'] = 'mohr-coulomb'\n",
    "soil[\"DrainageType\"] = 0\n",
    "soil['gammaSat'] = 20 # kN/m3\n",
    "soil['gammaUnsat'] = 17 # kN/m3\n",
    "soil['e0'] = 0.2\n",
    "soil['Eref'] = 4e4 # kN\n",
    "soil['nu'] = 0.2\n",
    "soil['cref'] = 0 # kPa\n",
    "soil['phi'] = 30 # deg\n",
    "soil['psi'] = 0 # deg\n",
    "\n",
    "# Mohr-Coulomb second soil material\n",
    "fill = {}\n",
    "fill['SoilModel'] = 'mohr-coulomb'\n",
    "fill[\"DrainageType\"] = 0\n",
    "fill['gammaSat'] = 20 # kN/m3\n",
    "fill['gammaUnsat'] = 17 # kN/m3\n",
    "fill['e0'] = 0.2\n",
    "fill['Eref'] = 4e4 # kN\n",
    "fill['nu'] = 0.2\n",
    "fill['cref'] = 0 # kPa\n",
    "fill['phi'] = 32 # deg\n",
    "fill['psi'] = 0 # deg\n",
    "\n",
    "\n",
    "# Plate material for a f'c=30MPa concrete slab with a 40cm thickness and 24kN/m3 unit weight\n",
    "column = padtest.concrete(30, 24, b1)\n",
    "# Plate material for a f'c=30MPa concrete slab with a 60cm thickness and 24kN/m3 unit weight\n",
    "footing = padtest.concrete(30, 24, d1)\n",
    "\n",
    "# build model\n",
    "model = padtest.Plate(s_i, g_i, g_o, b, d, soil, column, footing, fill=fill, fill_angle=25)\n",
    "\n",
    "model.plot()"
   ]
  },
  {
   "cell_type": "markdown",
   "metadata": {},
   "source": [
    "The `nfill` parameter generates multiple fill layers of equal thickness. A list of soil materials for each layer must be provided, from top to bottom. "
   ]
  },
  {
   "cell_type": "code",
   "execution_count": 11,
   "metadata": {},
   "outputs": [
    {
     "data": {
      "image/png": "[encoded data removed]",
      "text/plain": [
       "<Figure size 400x426.868 with 1 Axes>"
      ]
     },
     "execution_count": 11,
     "metadata": {},
     "output_type": "execute_result"
    }
   ],
   "source": [
    "model = padtest.SPlate(s_i, g_i, g_o, b, d, soil, footing, column,\n",
    "                       nfill=4, fill=[fill,fill,fill,fill],\n",
    "                       fill_angle=25)\n",
    "model.plot()"
   ]
  },
  {
   "cell_type": "markdown",
   "metadata": {},
   "source": [
    "The `dfill` parameter generates fill layers of the requested thickness. If the cumulative thickness of the fill layers is below the foundation depth, and additional layer is added."
   ]
  },
  {
   "cell_type": "code",
   "execution_count": 12,
   "metadata": {},
   "outputs": [
    {
     "data": {
      "image/png": "[encoded data removed]",
      "text/plain": [
       "<Figure size 400x426.868 with 1 Axes>"
      ]
     },
     "execution_count": 12,
     "metadata": {},
     "output_type": "execute_result"
    }
   ],
   "source": [
    "model = padtest.SPlate(s_i, g_i, g_o, b, d, soil, footing, column,\n",
    "                       dfill=[0.5, 1], fill=[fill,fill,fill], fill_angle=25)\n",
    "model.plot()"
   ]
  },
  {
   "cell_type": "markdown",
   "metadata": {},
   "source": [
    "The `bfill` parameter controls the distance between the edge of the foundation and the start of the fill slope."
   ]
  },
  {
   "cell_type": "code",
   "execution_count": 13,
   "metadata": {},
   "outputs": [
    {
     "data": {
      "image/png": "[encoded data removed]",
      "text/plain": [
       "<Figure size 400x329.263 with 1 Axes>"
      ]
     },
     "execution_count": 13,
     "metadata": {},
     "output_type": "execute_result"
    }
   ],
   "source": [
    "model = padtest.SPlate(s_i, g_i, g_o, b, d, soil, footing, column,\n",
    "                       fill=[fill], fill_angle=25, bfill=3)\n",
    "model.plot()"
   ]
  },
  {
   "cell_type": "markdown",
   "metadata": {},
   "source": [
    "## Water table"
   ]
  },
  {
   "cell_type": "markdown",
   "metadata": {},
   "source": [
    "The `wt` parameter specifies the global water table of the model, which is applied to all stages."
   ]
  },
  {
   "cell_type": "code",
   "execution_count": 14,
   "metadata": {},
   "outputs": [
    {
     "data": {
      "image/png": "[encoded data removed]",
      "text/plain": [
       "<Figure size 400x400 with 1 Axes>"
      ]
     },
     "execution_count": 14,
     "metadata": {},
     "output_type": "execute_result"
    }
   ],
   "source": [
    "d = 3 # Foundation depth\n",
    "b = 2 # Foundation width\n",
    "b1 = 0.5 # Foundation column width\n",
    "d1 = 0.5 # Foundation width\n",
    "\n",
    "# Mohr-Coulomb soil material\n",
    "soil = {}\n",
    "soil['SoilModel'] = 'mohr-coulomb'\n",
    "soil[\"DrainageType\"] = 0\n",
    "soil['gammaSat'] = 20 # kN/m3\n",
    "soil['gammaUnsat'] = 17 # kN/m3\n",
    "soil['e0'] = 0.2\n",
    "soil['Eref'] = 4e4 # kN\n",
    "soil['nu'] = 0.2\n",
    "soil['cref'] = 0 # kPa\n",
    "soil['phi'] = 35 # deg\n",
    "soil['psi'] = 0 # deg\n",
    "\n",
    "# Plate material for a f'c=30MPa concrete slab with a 40cm thickness and 24kN/m3 unit weight\n",
    "column = padtest.concrete(30, 24, b1)\n",
    "# Plate material for a f'c=30MPa concrete slab with a 60cm thickness and 24kN/m3 unit weight\n",
    "footing = padtest.concrete(30, 24, d1)\n",
    "\n",
    "# initialize model\n",
    "model = padtest.Plate(s_i, g_i, g_o, b, d, soil, footing, column, wt=2)\n",
    "\n",
    "# plot\n",
    "model.plot()"
   ]
  },
  {
   "cell_type": "markdown",
   "metadata": {},
   "source": [
    "## Output locations"
   ]
  },
  {
   "cell_type": "markdown",
   "metadata": {},
   "source": [
    "When a [test](test.ipynb) is conducted, displacements are retrieved at several points in the foundation. These locations include the top of the column (or the top of the slab in a surface foundation) and several points in the bottom of the footing. The location of these points in the model is defined with the `location` parameter. Values between -1 and 1 are admitted, with -1 representing the left edge of the foundation, 0 the column axis and 1 the right edge. The default output locations at the bottom of the foundation are `[-1, -0.75, -0.5, -0.25, 0, 0.25, 0.5, 0.75, 1]`.\n",
    "\n",
    "The position of the output locations can be seen in the foundation plot:"
   ]
  },
  {
   "cell_type": "code",
   "execution_count": 15,
   "metadata": {},
   "outputs": [
    {
     "data": {
      "image/png": "[encoded data removed]",
      "text/plain": [
       "<Figure size 500x500 with 1 Axes>"
      ]
     },
     "execution_count": 15,
     "metadata": {},
     "output_type": "execute_result"
    }
   ],
   "source": [
    "# Geometry\n",
    "d = 3 # Foundation depth\n",
    "b = 2 # Foundation width\n",
    "b1 = 0.5 # Foundation column width\n",
    "d1 = 0.5 # Foundation width\n",
    "b2 = 0.7 # column location\n",
    "\n",
    "# Mohr-Coulomb soil material\n",
    "soil = {}\n",
    "soil['SoilModel'] = 'mohr-coulomb'\n",
    "soil[\"DrainageType\"] = 0\n",
    "soil['gammaSat'] = 20 # kN/m3\n",
    "soil['gammaUnsat'] = 17 # kN/m3\n",
    "soil['e0'] = 0.2\n",
    "soil['Eref'] = 4e4 # kN\n",
    "soil['nu'] = 0.2\n",
    "soil['cref'] = 0 # kPa\n",
    "soil['phi'] = 35 # deg\n",
    "soil['psi'] = 0 # deg\n",
    "\n",
    "# elastic material for concrete\n",
    "concrete = {}\n",
    "concrete['SoilModel'] = 'elastic'\n",
    "concrete[\"DrainageType\"] = 0\n",
    "concrete['Eref'] =  30e6  # kPa\n",
    "concrete['nu'] = 0.4 #\n",
    "concrete['gammaSat'] = 20 # kN/m3\n",
    "concrete['gammaUnsat'] = 17 # kN/m3\n",
    "\n",
    "# build model\n",
    "self = padtest.Solid(s_i, g_i, g_o, b, d, b1, d1, soil, concrete, build=False,\n",
    "                     b2=b2, locations=[-1, -0.5, 0, 0.5, 1])\n",
    "\n",
    "self.plot(output_location=True, figsize=5)"
   ]
  },
  {
   "cell_type": "markdown",
   "metadata": {},
   "source": [
    "## Interfaces"
   ]
  },
  {
   "cell_type": "markdown",
   "metadata": {},
   "source": [
    "Interfaces can be included between the footing and the soil by setting the ``interface`` parameter to ``True``. The interface strength is controlled by the ``'Rinter'`` parameter of the adjacent soil or by assigning them a [soil material](materials.ipynb#Soil-materials). Interfaces can be shown in the model plot by setting the ``interface`` parameter to ``True``. The interfaces are shown as red lines in the foundation perimeter."
   ]
  },
  {
   "cell_type": "code",
   "execution_count": 16,
   "metadata": {},
   "outputs": [
    {
     "data": {
      "image/png": "[encoded data removed]",
      "text/plain": [
       "<Figure size 400x400 with 1 Axes>"
      ]
     },
     "execution_count": 16,
     "metadata": {},
     "output_type": "execute_result"
    }
   ],
   "source": [
    "d = 3 # Foundation depth\n",
    "b = 2 # Foundation width\n",
    "b1 = 0.5 # Foundation column width\n",
    "d1 = 0.5 # Foundation width\n",
    "\n",
    "# Mohr-Coulomb soil material\n",
    "soil = {}\n",
    "soil['SoilModel'] = 'mohr-coulomb'\n",
    "soil[\"DrainageType\"] = 0\n",
    "soil['gammaSat'] = 20 # kN/m3\n",
    "soil['gammaUnsat'] = 17 # kN/m3\n",
    "soil['e0'] = 0.2\n",
    "soil['Eref'] = 4e4 # kN\n",
    "soil['nu'] = 0.2\n",
    "soil['cref'] = 0 # kPa\n",
    "soil['phi'] = 35 # deg\n",
    "soil['psi'] = 0 # deg\n",
    "soil['Rinter'] = 0.5 # interface strength\n",
    "\n",
    "# Plate material for a f'c=30MPa concrete slab with a 40cm thickness and 24kN/m3 unit weight\n",
    "# elastic material for concrete\n",
    "concrete = {}\n",
    "concrete['SoilModel'] = 'elastic'\n",
    "concrete[\"DrainageType\"] = 0\n",
    "concrete['Eref'] =  30e6  # kPa\n",
    "concrete['nu'] = 0.4 #\n",
    "concrete['gammaSat'] = 20 # kN/m3\n",
    "concrete['gammaUnsat'] = 17 # kN/m3\n",
    "\n",
    "# build model\n",
    "model = padtest.Solid(s_i, g_i, g_o, b, d, b1, d1, soil, concrete,\n",
    "                      interface=True)\n",
    "\n",
    "# plot\n",
    "model.plot(interface=True)"
   ]
  },
  {
   "cell_type": "markdown",
   "metadata": {},
   "source": [
    "Individual interfaces can be activated or deactivated using a dictionary with keys ``'column'``, ``'top'``, ``'latera'`` and ``'bottom'``."
   ]
  },
  {
   "cell_type": "code",
   "execution_count": 17,
   "metadata": {},
   "outputs": [
    {
     "data": {
      "image/png": "[encoded data removed]",
      "text/plain": [
       "<Figure size 400x400 with 1 Axes>"
      ]
     },
     "execution_count": 17,
     "metadata": {},
     "output_type": "execute_result"
    }
   ],
   "source": [
    "# build model\n",
    "model = padtest.Solid(s_i, g_i, g_o, b, d, b1, d1, soil, concrete,\n",
    "                      interface={'column':True, 'top':False, 'lateral':True, 'bottom':False})\n",
    "\n",
    "# plot\n",
    "model.plot(interface=True)"
   ]
  },
  {
   "cell_type": "markdown",
   "metadata": {},
   "source": [
    "[Soil materials](materials.ipynb#Soil-materials) can be assigned to each interface:"
   ]
  },
  {
   "cell_type": "code",
   "execution_count": 18,
   "metadata": {},
   "outputs": [
    {
     "data": {
      "image/png": "[encoded data removed]",
      "text/plain": [
       "<Figure size 400x400 with 1 Axes>"
      ]
     },
     "execution_count": 18,
     "metadata": {},
     "output_type": "execute_result"
    }
   ],
   "source": [
    "# Mohr-Coulomb material for the interface\n",
    "interface = {}\n",
    "interface['SoilModel'] = 'mohr-coulomb'\n",
    "interface[\"DrainageType\"] = 0\n",
    "interface['gammaSat'] = 20 # kN/m3\n",
    "interface['gammaUnsat'] = 17 # kN/m3\n",
    "interface['e0'] = 0.2\n",
    "interface['Eref'] = 4e4 # kN\n",
    "interface['nu'] = 0.2\n",
    "interface['cref'] = 0 # kPa\n",
    "interface['phi'] = 35 # deg\n",
    "interface['psi'] = 0 # deg\n",
    "\n",
    "# build model\n",
    "model = padtest.Solid(s_i, g_i, g_o, b, d, b1, d1, soil, concrete,\n",
    "                      interface={'column':interface, 'top':False,\n",
    "                                 'lateral':interface, 'bottom':False})\n",
    "\n",
    "# plot\n",
    "model.plot(interface=True)"
   ]
  },
  {
   "cell_type": "markdown",
   "metadata": {},
   "source": [
    "## Model size"
   ]
  },
  {
   "cell_type": "markdown",
   "metadata": {},
   "source": [
    "The `model_width` and  `model_depth` parameters control the extent of the model."
   ]
  },
  {
   "cell_type": "code",
   "execution_count": 19,
   "metadata": {},
   "outputs": [
    {
     "data": {
      "image/png": "[encoded data removed]",
      "text/plain": [
       "<Figure size 400x160 with 1 Axes>"
      ]
     },
     "execution_count": 19,
     "metadata": {},
     "output_type": "execute_result"
    }
   ],
   "source": [
    "d = 3 # Foundation depth\n",
    "b = 2 # Foundation width\n",
    "b1 = 0.5 # Foundation column width\n",
    "d1 = 0.5 # Foundation width\n",
    "\n",
    "# Mohr-Coulomb soil material\n",
    "soil = {}\n",
    "soil['SoilModel'] = 'mohr-coulomb'\n",
    "soil[\"DrainageType\"] = 0\n",
    "soil['gammaSat'] = 20 # kN/m3\n",
    "soil['gammaUnsat'] = 17 # kN/m3\n",
    "soil['e0'] = 0.2\n",
    "soil['Eref'] = 4e4 # kN\n",
    "soil['nu'] = 0.2\n",
    "soil['cref'] = 0 # kPa\n",
    "soil['phi'] = 35 # deg\n",
    "soil['psi'] = 0 # deg\n",
    "\n",
    "# Plate material for a f'c=30MPa concrete slab with a 40cm thickness and 24kN/m3 unit weight\n",
    "# elastic material for concrete\n",
    "concrete = {}\n",
    "concrete['SoilModel'] = 'elastic'\n",
    "concrete[\"DrainageType\"] = 0\n",
    "concrete['Eref'] =  30e6  # kPa\n",
    "concrete['nu'] = 0.4 #\n",
    "concrete['gammaSat'] = 20 # kN/m3\n",
    "concrete['gammaUnsat'] = 17 # kN/m3\n",
    "\n",
    "# build model\n",
    "model = padtest.Solid(s_i, g_i, g_o, b, d, b1, d1, soil, concrete,\n",
    "                      model_width=10, model_depth=4)\n",
    "\n",
    "# plot\n",
    "model.plot()"
   ]
  },
  {
   "cell_type": "code",
   "execution_count": null,
   "metadata": {},
   "outputs": [],
   "source": []
  }
 ],
 "metadata": {
  "hide_input": false,
  "kernelspec": {
   "display_name": "padtestenv",
   "language": "python",
   "name": "python3"
  },
  "language_info": {
   "codemirror_mode": {
    "name": "ipython",
    "version": 3
   },
   "file_extension": ".py",
   "mimetype": "text/x-python",
   "name": "python",
   "nbconvert_exporter": "python",
   "pygments_lexer": "ipython3",
   "version": "3.7.16"
  },
  "toc": {
   "base_numbering": 1,
   "nav_menu": {},
   "number_sections": true,
   "sideBar": true,
   "skip_h1_title": true,
   "title_cell": "Table of Contents",
   "title_sidebar": "Contents",
   "toc_cell": false,
   "toc_position": {
    "height": "calc(100% - 180px)",
    "left": "10px",
    "top": "150px",
    "width": "301.4px"
   },
   "toc_section_display": true,
   "toc_window_display": true
  },
  "varInspector": {
   "cols": {
    "lenName": 16,
    "lenType": 16,
    "lenVar": 40
   },
   "kernels_config": {
    "python": {
     "delete_cmd_postfix": "",
     "delete_cmd_prefix": "del ",
     "library": "var_list.py",
     "varRefreshCmd": "print(var_dic_list())"
    },
    "r": {
     "delete_cmd_postfix": ") ",
     "delete_cmd_prefix": "rm(",
     "library": "var_list.r",
     "varRefreshCmd": "cat(var_dic_list()) "
    }
   },
   "types_to_exclude": [
    "module",
    "function",
    "builtin_function_or_method",
    "instance",
    "_Feature"
   ],
   "window_display": false
  }
 },
 "nbformat": 4,
 "nbformat_minor": 2
}
