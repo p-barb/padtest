{
 "cells": [
  {
   "cell_type": "markdown",
   "metadata": {},
   "source": [
    "# Usage"
   ]
  },
  {
   "cell_type": "markdown",
   "metadata": {},
   "source": [
    "## Plaxis connection"
   ]
  },
  {
   "cell_type": "markdown",
   "metadata": {},
   "source": [
    "Along with ``padtest`` you will need to import ``plxscripting`` and connect with Plaxis following [these instructions](https://communities.bentley.com/products/geotech-analysis/w/wiki/46005/using-plaxis-remote-scripting-with-the-python-wrapper)."
   ]
  },
  {
   "cell_type": "code",
   "execution_count": 1,
   "metadata": {},
   "outputs": [],
   "source": [
    "from plxscripting.easy import *\n",
    "import padtest\n",
    "\n",
    "password = \"nicFgr^TtsFm~h~M\"\n",
    "localhostport_input = 10000 \n",
    "localhostport_output = 10001\n",
    "s_i, g_i = new_server('localhost', localhostport_input, password=password) \n",
    "s_o, g_o = new_server('localhost', localhostport_output, password=password)"
   ]
  },
  {
   "cell_type": "markdown",
   "metadata": {},
   "source": [
    "<div class=\"alert alert-warning\">\n",
    "\n",
    "**WARNING**\n",
    "\n",
    "This code will not be repeated in every example, but it is assumed it was executed.\n",
    "\n",
    "</div>\n"
   ]
  },
  {
   "cell_type": "markdown",
   "metadata": {},
   "source": [
    "## Create foundation model"
   ]
  },
  {
   "cell_type": "markdown",
   "metadata": {},
   "source": [
    "<div class=\"alert alert-warning\">\n",
    "\n",
    "**WARNING**\n",
    "\n",
    "``padtest`` employs units of **kN** and **m** by default.\n",
    "\n",
    "</div>"
   ]
  },
  {
   "cell_type": "markdown",
   "metadata": {},
   "source": [
    "The [geometry](geometry.ipynb) of the foundation is given by:"
   ]
  },
  {
   "cell_type": "code",
   "execution_count": 2,
   "metadata": {},
   "outputs": [],
   "source": [
    "d = 1.2 # Foundation depth\n",
    "b = 2 # Foundation width\n",
    "b1 = 0.5 # Foundation column width\n",
    "d1 = 0.5 # Foundation width"
   ]
  },
  {
   "cell_type": "markdown",
   "metadata": {},
   "source": [
    "[Materials](materials.ipynb) are defined by dictionaries containing the properties required in each case by Plaxis. [Linear-Elastic](materials.ipynb#Linear-elastic), [Mohr-Coulomb](materials.ipynb#Mohr-Coulomb) and [Hardening Soil (HS)](materials.ipynb#Hardening-soil) soil materials are supported. A Mohr-Coulomb material is used for the soil:"
   ]
  },
  {
   "cell_type": "code",
   "execution_count": 3,
   "metadata": {},
   "outputs": [],
   "source": [
    "# Mohr-Coulomb soil material\n",
    "soil = {}\n",
    "soil['SoilModel'] = 'mohr-coulomb'\n",
    "soil[\"DrainageType\"] = 'Drained'\n",
    "soil['gammaSat'] = 20 # kN/m3\n",
    "soil['gammaUnsat'] = 17 # kN/m3\n",
    "soil['e0'] = 0.2\n",
    "soil['Eref'] = 4e4 # kN\n",
    "soil['nu'] = 0.2\n",
    "soil['cref'] = 0 # kPa\n",
    "soil['phi'] = 35 # deg\n",
    "soil['psi'] = 0 # deg"
   ]
  },
  {
   "cell_type": "markdown",
   "metadata": {},
   "source": [
    "The foundation itself is modeled by plate elements. The `concrete` method generates the dictionary with the [plate material](materials.ipynb#Plate-materials) properties from the desired compressive strength, unit weight and plate thickness."
   ]
  },
  {
   "cell_type": "code",
   "execution_count": 4,
   "metadata": {},
   "outputs": [],
   "source": [
    "# Plate material for a f'c=30MPa concrete slab with a 40cm thickness and 24kN/m3 unit weight\n",
    "column = padtest.concrete(24, b1, fc=30)\n",
    "# Plate material for a f'c=30MPa concrete slab with a 60cm thickness and 24kN/m3 unit weight\n",
    "footing = padtest.concrete(24, d1, fc=30)"
   ]
  },
  {
   "cell_type": "markdown",
   "metadata": {},
   "source": [
    "Create an [axisymmetric foundation](geometry.ipynb#Model-types) model using plate elements for the column and footing:"
   ]
  },
  {
   "cell_type": "code",
   "execution_count": 5,
   "metadata": {
    "scrolled": false
   },
   "outputs": [],
   "source": [
    "model = padtest.SPlate(s_i, g_i, g_o, b, d, soil, footing, column)"
   ]
  },
  {
   "cell_type": "markdown",
   "metadata": {},
   "source": [
    "The resulting model geometry can be inspected visually in python:"
   ]
  },
  {
   "cell_type": "code",
   "execution_count": 6,
   "metadata": {
    "scrolled": false
   },
   "outputs": [
    {
     "data": {
      "image/png": "[encoded data removed]",
      "text/plain": [
       "<Figure size 400x720 with 1 Axes>"
      ]
     },
     "execution_count": 6,
     "metadata": {},
     "output_type": "execute_result"
    }
   ],
   "source": [
    "model.plot()"
   ]
  },
  {
   "cell_type": "markdown",
   "metadata": {},
   "source": [
    "## Test"
   ]
  },
  {
   "cell_type": "markdown",
   "metadata": {},
   "source": [
    "[Static](test.ipynb#Load-test), [failure](test.ipynb#Failure-test), [safety](test.ipynb#Safety-test), [dynamic loading](test.ipynb#Dynamic-load-test) and [earthquake shake](test.ipynb#Shake-test) tests are available. A static load test is conducted using the ``load_test`` method. The test consist in consecutive load levels being applied to the foundation. Negative loads imply compression, while positive pull-out. Each load level is a phase where the load is set to the provided value."
   ]
  },
  {
   "cell_type": "code",
   "execution_count": 7,
   "metadata": {},
   "outputs": [],
   "source": [
    "testid = 'test A'\n",
    "load = [-60, 0, -60] #kN\n",
    "model.load_test(testid, load)"
   ]
  },
  {
   "cell_type": "markdown",
   "metadata": {},
   "source": [
    "Calculation results are stored in a dataframe:"
   ]
  },
  {
   "cell_type": "code",
   "execution_count": 8,
   "metadata": {},
   "outputs": [
    {
     "data": {
      "text/html": [
       "<div>\n",
       "<style scoped>\n",
       "    .dataframe tbody tr th:only-of-type {\n",
       "        vertical-align: middle;\n",
       "    }\n",
       "\n",
       "    .dataframe tbody tr th {\n",
       "        vertical-align: top;\n",
       "    }\n",
       "\n",
       "    .dataframe thead th {\n",
       "        text-align: right;\n",
       "    }\n",
       "</style>\n",
       "<table border=\"1\" class=\"dataframe\">\n",
       "  <thead>\n",
       "    <tr style=\"text-align: right;\">\n",
       "      <th></th>\n",
       "      <th>test</th>\n",
       "      <th>phase</th>\n",
       "      <th>previous</th>\n",
       "      <th>plx id</th>\n",
       "      <th>previous plx id</th>\n",
       "      <th>location</th>\n",
       "      <th>step</th>\n",
       "      <th>time</th>\n",
       "      <th>sumMstage</th>\n",
       "      <th>SumMsf</th>\n",
       "      <th>...</th>\n",
       "      <th>M</th>\n",
       "      <th>qy0</th>\n",
       "      <th>qy1</th>\n",
       "      <th>qx</th>\n",
       "      <th>agx</th>\n",
       "      <th>agy</th>\n",
       "      <th>Fy target</th>\n",
       "      <th>Fx target</th>\n",
       "      <th>M target</th>\n",
       "      <th>ratchetting</th>\n",
       "    </tr>\n",
       "  </thead>\n",
       "  <tbody>\n",
       "    <tr>\n",
       "      <th>0</th>\n",
       "      <td>None</td>\n",
       "      <td>construction</td>\n",
       "      <td>None</td>\n",
       "      <td>Phase_1</td>\n",
       "      <td>None</td>\n",
       "      <td>top</td>\n",
       "      <td>1.0</td>\n",
       "      <td>None</td>\n",
       "      <td>0.198850</td>\n",
       "      <td>None</td>\n",
       "      <td>...</td>\n",
       "      <td>0.0</td>\n",
       "      <td>0.0</td>\n",
       "      <td>0.0</td>\n",
       "      <td>0.0</td>\n",
       "      <td>0.0</td>\n",
       "      <td>0.0</td>\n",
       "      <td>0.000000</td>\n",
       "      <td>0.0</td>\n",
       "      <td>0.0</td>\n",
       "      <td>False</td>\n",
       "    </tr>\n",
       "    <tr>\n",
       "      <th>1</th>\n",
       "      <td>None</td>\n",
       "      <td>construction</td>\n",
       "      <td>None</td>\n",
       "      <td>Phase_1</td>\n",
       "      <td>None</td>\n",
       "      <td>top</td>\n",
       "      <td>2.0</td>\n",
       "      <td>None</td>\n",
       "      <td>0.397699</td>\n",
       "      <td>None</td>\n",
       "      <td>...</td>\n",
       "      <td>0.0</td>\n",
       "      <td>0.0</td>\n",
       "      <td>0.0</td>\n",
       "      <td>0.0</td>\n",
       "      <td>0.0</td>\n",
       "      <td>0.0</td>\n",
       "      <td>0.000000</td>\n",
       "      <td>0.0</td>\n",
       "      <td>0.0</td>\n",
       "      <td>False</td>\n",
       "    </tr>\n",
       "    <tr>\n",
       "      <th>2</th>\n",
       "      <td>None</td>\n",
       "      <td>construction</td>\n",
       "      <td>None</td>\n",
       "      <td>Phase_1</td>\n",
       "      <td>None</td>\n",
       "      <td>top</td>\n",
       "      <td>3.0</td>\n",
       "      <td>None</td>\n",
       "      <td>0.596549</td>\n",
       "      <td>None</td>\n",
       "      <td>...</td>\n",
       "      <td>0.0</td>\n",
       "      <td>0.0</td>\n",
       "      <td>0.0</td>\n",
       "      <td>0.0</td>\n",
       "      <td>0.0</td>\n",
       "      <td>0.0</td>\n",
       "      <td>0.000000</td>\n",
       "      <td>0.0</td>\n",
       "      <td>0.0</td>\n",
       "      <td>False</td>\n",
       "    </tr>\n",
       "    <tr>\n",
       "      <th>3</th>\n",
       "      <td>None</td>\n",
       "      <td>construction</td>\n",
       "      <td>None</td>\n",
       "      <td>Phase_1</td>\n",
       "      <td>None</td>\n",
       "      <td>top</td>\n",
       "      <td>4.0</td>\n",
       "      <td>None</td>\n",
       "      <td>0.994248</td>\n",
       "      <td>None</td>\n",
       "      <td>...</td>\n",
       "      <td>0.0</td>\n",
       "      <td>0.0</td>\n",
       "      <td>0.0</td>\n",
       "      <td>0.0</td>\n",
       "      <td>0.0</td>\n",
       "      <td>0.0</td>\n",
       "      <td>0.000000</td>\n",
       "      <td>0.0</td>\n",
       "      <td>0.0</td>\n",
       "      <td>False</td>\n",
       "    </tr>\n",
       "    <tr>\n",
       "      <th>4</th>\n",
       "      <td>None</td>\n",
       "      <td>construction</td>\n",
       "      <td>None</td>\n",
       "      <td>Phase_1</td>\n",
       "      <td>None</td>\n",
       "      <td>top</td>\n",
       "      <td>5.0</td>\n",
       "      <td>None</td>\n",
       "      <td>1.000000</td>\n",
       "      <td>None</td>\n",
       "      <td>...</td>\n",
       "      <td>0.0</td>\n",
       "      <td>0.0</td>\n",
       "      <td>0.0</td>\n",
       "      <td>0.0</td>\n",
       "      <td>0.0</td>\n",
       "      <td>0.0</td>\n",
       "      <td>0.000000</td>\n",
       "      <td>0.0</td>\n",
       "      <td>0.0</td>\n",
       "      <td>False</td>\n",
       "    </tr>\n",
       "    <tr>\n",
       "      <th>...</th>\n",
       "      <td>...</td>\n",
       "      <td>...</td>\n",
       "      <td>...</td>\n",
       "      <td>...</td>\n",
       "      <td>...</td>\n",
       "      <td>...</td>\n",
       "      <td>...</td>\n",
       "      <td>...</td>\n",
       "      <td>...</td>\n",
       "      <td>...</td>\n",
       "      <td>...</td>\n",
       "      <td>...</td>\n",
       "      <td>...</td>\n",
       "      <td>...</td>\n",
       "      <td>...</td>\n",
       "      <td>...</td>\n",
       "      <td>...</td>\n",
       "      <td>...</td>\n",
       "      <td>...</td>\n",
       "      <td>...</td>\n",
       "      <td>...</td>\n",
       "    </tr>\n",
       "    <tr>\n",
       "      <th>2257</th>\n",
       "      <td>test A</td>\n",
       "      <td>test A_stage_2</td>\n",
       "      <td>test A_stage_1</td>\n",
       "      <td>Phase_4</td>\n",
       "      <td>Phase_3</td>\n",
       "      <td>1.0</td>\n",
       "      <td>121.0</td>\n",
       "      <td>0.0</td>\n",
       "      <td>0.939505</td>\n",
       "      <td>1.0</td>\n",
       "      <td>...</td>\n",
       "      <td>0.0</td>\n",
       "      <td>0.0</td>\n",
       "      <td>0.0</td>\n",
       "      <td>0.0</td>\n",
       "      <td>0.0</td>\n",
       "      <td>0.0</td>\n",
       "      <td>-56.373698</td>\n",
       "      <td>0.0</td>\n",
       "      <td>0.0</td>\n",
       "      <td>False</td>\n",
       "    </tr>\n",
       "    <tr>\n",
       "      <th>2258</th>\n",
       "      <td>test A</td>\n",
       "      <td>test A_stage_2</td>\n",
       "      <td>test A_stage_1</td>\n",
       "      <td>Phase_4</td>\n",
       "      <td>Phase_3</td>\n",
       "      <td>1.0</td>\n",
       "      <td>122.0</td>\n",
       "      <td>0.0</td>\n",
       "      <td>0.953538</td>\n",
       "      <td>1.0</td>\n",
       "      <td>...</td>\n",
       "      <td>0.0</td>\n",
       "      <td>0.0</td>\n",
       "      <td>0.0</td>\n",
       "      <td>0.0</td>\n",
       "      <td>0.0</td>\n",
       "      <td>0.0</td>\n",
       "      <td>-57.214849</td>\n",
       "      <td>0.0</td>\n",
       "      <td>0.0</td>\n",
       "      <td>False</td>\n",
       "    </tr>\n",
       "    <tr>\n",
       "      <th>2259</th>\n",
       "      <td>test A</td>\n",
       "      <td>test A_stage_2</td>\n",
       "      <td>test A_stage_1</td>\n",
       "      <td>Phase_4</td>\n",
       "      <td>Phase_3</td>\n",
       "      <td>1.0</td>\n",
       "      <td>123.0</td>\n",
       "      <td>0.0</td>\n",
       "      <td>0.981585</td>\n",
       "      <td>1.0</td>\n",
       "      <td>...</td>\n",
       "      <td>0.0</td>\n",
       "      <td>0.0</td>\n",
       "      <td>0.0</td>\n",
       "      <td>0.0</td>\n",
       "      <td>0.0</td>\n",
       "      <td>0.0</td>\n",
       "      <td>-58.896135</td>\n",
       "      <td>0.0</td>\n",
       "      <td>0.0</td>\n",
       "      <td>False</td>\n",
       "    </tr>\n",
       "    <tr>\n",
       "      <th>2260</th>\n",
       "      <td>test A</td>\n",
       "      <td>test A_stage_2</td>\n",
       "      <td>test A_stage_1</td>\n",
       "      <td>Phase_4</td>\n",
       "      <td>Phase_3</td>\n",
       "      <td>1.0</td>\n",
       "      <td>124.0</td>\n",
       "      <td>0.0</td>\n",
       "      <td>0.991979</td>\n",
       "      <td>1.0</td>\n",
       "      <td>...</td>\n",
       "      <td>0.0</td>\n",
       "      <td>0.0</td>\n",
       "      <td>0.0</td>\n",
       "      <td>0.0</td>\n",
       "      <td>0.0</td>\n",
       "      <td>0.0</td>\n",
       "      <td>-59.519203</td>\n",
       "      <td>0.0</td>\n",
       "      <td>0.0</td>\n",
       "      <td>False</td>\n",
       "    </tr>\n",
       "    <tr>\n",
       "      <th>2261</th>\n",
       "      <td>test A</td>\n",
       "      <td>test A_stage_2</td>\n",
       "      <td>test A_stage_1</td>\n",
       "      <td>Phase_4</td>\n",
       "      <td>Phase_3</td>\n",
       "      <td>1.0</td>\n",
       "      <td>125.0</td>\n",
       "      <td>0.0</td>\n",
       "      <td>1.000000</td>\n",
       "      <td>1.0</td>\n",
       "      <td>...</td>\n",
       "      <td>0.0</td>\n",
       "      <td>0.0</td>\n",
       "      <td>0.0</td>\n",
       "      <td>0.0</td>\n",
       "      <td>0.0</td>\n",
       "      <td>0.0</td>\n",
       "      <td>-60.000000</td>\n",
       "      <td>0.0</td>\n",
       "      <td>0.0</td>\n",
       "      <td>False</td>\n",
       "    </tr>\n",
       "  </tbody>\n",
       "</table>\n",
       "<p>2262 rows × 24 columns</p>\n",
       "</div>"
      ],
      "text/plain": [
       "        test           phase        previous   plx id previous plx id  \\\n",
       "0       None    construction            None  Phase_1            None   \n",
       "1       None    construction            None  Phase_1            None   \n",
       "2       None    construction            None  Phase_1            None   \n",
       "3       None    construction            None  Phase_1            None   \n",
       "4       None    construction            None  Phase_1            None   \n",
       "...      ...             ...             ...      ...             ...   \n",
       "2257  test A  test A_stage_2  test A_stage_1  Phase_4         Phase_3   \n",
       "2258  test A  test A_stage_2  test A_stage_1  Phase_4         Phase_3   \n",
       "2259  test A  test A_stage_2  test A_stage_1  Phase_4         Phase_3   \n",
       "2260  test A  test A_stage_2  test A_stage_1  Phase_4         Phase_3   \n",
       "2261  test A  test A_stage_2  test A_stage_1  Phase_4         Phase_3   \n",
       "\n",
       "     location   step  time  sumMstage SumMsf  ...    M  qy0  qy1   qx  agx  \\\n",
       "0         top    1.0  None   0.198850   None  ...  0.0  0.0  0.0  0.0  0.0   \n",
       "1         top    2.0  None   0.397699   None  ...  0.0  0.0  0.0  0.0  0.0   \n",
       "2         top    3.0  None   0.596549   None  ...  0.0  0.0  0.0  0.0  0.0   \n",
       "3         top    4.0  None   0.994248   None  ...  0.0  0.0  0.0  0.0  0.0   \n",
       "4         top    5.0  None   1.000000   None  ...  0.0  0.0  0.0  0.0  0.0   \n",
       "...       ...    ...   ...        ...    ...  ...  ...  ...  ...  ...  ...   \n",
       "2257      1.0  121.0   0.0   0.939505    1.0  ...  0.0  0.0  0.0  0.0  0.0   \n",
       "2258      1.0  122.0   0.0   0.953538    1.0  ...  0.0  0.0  0.0  0.0  0.0   \n",
       "2259      1.0  123.0   0.0   0.981585    1.0  ...  0.0  0.0  0.0  0.0  0.0   \n",
       "2260      1.0  124.0   0.0   0.991979    1.0  ...  0.0  0.0  0.0  0.0  0.0   \n",
       "2261      1.0  125.0   0.0   1.000000    1.0  ...  0.0  0.0  0.0  0.0  0.0   \n",
       "\n",
       "      agy  Fy target  Fx target  M target  ratchetting  \n",
       "0     0.0   0.000000        0.0       0.0        False  \n",
       "1     0.0   0.000000        0.0       0.0        False  \n",
       "2     0.0   0.000000        0.0       0.0        False  \n",
       "3     0.0   0.000000        0.0       0.0        False  \n",
       "4     0.0   0.000000        0.0       0.0        False  \n",
       "...   ...        ...        ...       ...          ...  \n",
       "2257  0.0 -56.373698        0.0       0.0        False  \n",
       "2258  0.0 -57.214849        0.0       0.0        False  \n",
       "2259  0.0 -58.896135        0.0       0.0        False  \n",
       "2260  0.0 -59.519203        0.0       0.0        False  \n",
       "2261  0.0 -60.000000        0.0       0.0        False  \n",
       "\n",
       "[2262 rows x 24 columns]"
      ]
     },
     "execution_count": 8,
     "metadata": {},
     "output_type": "execute_result"
    }
   ],
   "source": [
    "model.results"
   ]
  },
  {
   "cell_type": "markdown",
   "metadata": {},
   "source": [
    "By default 6 points are selected surveyed. The load application point at the surface, and points located at the foundation level at a distance of 0, 0.25, 0.5, 0.75 and 1 times b/2. The load test results can be inspected using the ``plot_test`` function."
   ]
  },
  {
   "cell_type": "code",
   "execution_count": 9,
   "metadata": {},
   "outputs": [
    {
     "data": {
      "image/png": "[encoded data removed]",
      "text/plain": [
       "<Figure size 400x300 with 1 Axes>"
      ]
     },
     "execution_count": 9,
     "metadata": {},
     "output_type": "execute_result"
    }
   ],
   "source": [
    "model.plot_test('test A', location=0, legend=True)"
   ]
  },
  {
   "cell_type": "markdown",
   "metadata": {},
   "source": [
    "Multiple load tests can be performed in the same model.Each load test will start from the construction phase. **"
   ]
  },
  {
   "cell_type": "markdown",
   "metadata": {},
   "source": [
    "## Save/Load"
   ]
  },
  {
   "cell_type": "markdown",
   "metadata": {},
   "source": [
    "Saving a model wipes out the Plaxis objects stored in it. This prevents the load test object from further communicating with Plaxis, so no additional can be performed. The information regarding the model geometry, material properties and test results is preserved."
   ]
  },
  {
   "cell_type": "code",
   "execution_count": 10,
   "metadata": {},
   "outputs": [
    {
     "name": "stdout",
     "output_type": "stream",
     "text": [
      "WARNIGN: Saving the load test to memory whipes out the Plaxis objects. Test results and input parameters will still be avaiable, but no further interaction with Plaxis will be possible. The model can be restored with the <regen> method, but load tests will have to be recalculated to access the results whitin Plaxis.\n",
      "\n",
      " Do you whish to proceed: [Y/n] "
     ]
    }
   ],
   "source": [
    "model.save('exmaple_model.mdl')"
   ]
  },
  {
   "cell_type": "markdown",
   "metadata": {},
   "source": [
    "The `regen` method regenerates the Plaxis model from a saved model so it can be used to calculate new tests. It can also recalculate the saved tests by setting the argument `test` to `True`. "
   ]
  },
  {
   "cell_type": "code",
   "execution_count": 11,
   "metadata": {},
   "outputs": [],
   "source": [
    "model = padtest.load('exmaple_model.mdl')\n",
    "model.regen(s_i, g_i, g_o, test=True)"
   ]
  },
  {
   "cell_type": "markdown",
   "metadata": {},
   "source": [
    "## General model settings"
   ]
  },
  {
   "cell_type": "markdown",
   "metadata": {},
   "source": [
    "The `model_type` argument can be set to `'axisymmetry'` (default) or `'planestrain'`. Also, the title and comments of the model in Plaxis can be set with the `title` and `comments` arguments."
   ]
  },
  {
   "cell_type": "code",
   "execution_count": 12,
   "metadata": {},
   "outputs": [],
   "source": [
    "model = padtest.Plate(s_i, g_i, g_o, b, d, soil, footing, column,\n",
    "                      model_type='planestrain', title='plane strain',\n",
    "                      comments='This is a plane strain model example.')"
   ]
  },
  {
   "cell_type": "markdown",
   "metadata": {},
   "source": [
    "## Plaxis license"
   ]
  },
  {
   "cell_type": "markdown",
   "metadata": {},
   "source": [
    "The `license` argument indicates the type of Plaxis license being used: `'advanced'` or `'ultimate'`. Under the* *advanced* license, dynamic calculations cannot be carried out, nor the material properties related to them defined. By default the *ultiamte* license is assumed."
   ]
  },
  {
   "cell_type": "code",
   "execution_count": 13,
   "metadata": {},
   "outputs": [],
   "source": [
    "model = padtest.Plate(s_i, g_i, g_o, b, d, soil, footing, column, license='advanced')"
   ]
  },
  {
   "cell_type": "markdown",
   "metadata": {},
   "source": [
    "## Boundary conditions"
   ]
  },
  {
   "cell_type": "markdown",
   "metadata": {},
   "source": [
    "The `deformation_boundary_condition` argument imposes user defined deformation boundary conditions to the model. A dictionary must be provided with some, or all, of the fields `'XMin'`, `'XMax'`, `'YMin'` or `'YMax'`. Supported values are `\"Free\"`, `\"Normally fixed\"`, `\"Horizontally fixed\"`, `\"Vertically fixed\"` and `\"Fully fixed\"`. If a boundary is not specified by the user, the default value is adopted.\n",
    "\n",
    "The `dynamic_boundary_condtions` argument imposes user defined dynamic boundary conditions to the model to be used in a [dynamic load test](test.ipynb#Dynamic-load-test). A dictionary must be provided with some, or all, of the fields `'XMin'`, `'XMax'`, `'YMin'` or `'YMax'`. Supported values are `\"None\"` and `\"Viscous\"`. If a boundary is not specified by the user, the default value is adopted.\n",
    "\n",
    "The `shake_boundary_condtions` argument imposes user defined dynamic boundary conditions to the model to be used in a [shake test](test.ipynb#Shake-test). A dictionary must be provided with some, or all, of the fields `'XMin'`, `'XMax'`, `'YMin'` or `'YMax'`. Supported values are `\"None\"`, `\"Viscous\"` and `\"Free-field\"`. If a boundary is not specified by the user, the default value is adopted."
   ]
  },
  {
   "cell_type": "code",
   "execution_count": 14,
   "metadata": {},
   "outputs": [],
   "source": [
    "model = padtest.Plate(s_i, g_i, g_o, b, d, soil, footing, column,\n",
    "                      deformation_boundary_condition={'XMin':'Fully fixed',\n",
    "                                                      'YMax':'Horizontally fixed'},\n",
    "                      dynamic_boundary_condtions={'XMin':'Viscous'})"
   ]
  },
  {
   "cell_type": "markdown",
   "metadata": {},
   "source": [
    "## Element type"
   ]
  },
  {
   "cell_type": "markdown",
   "metadata": {},
   "source": [
    "The `element_type` argument controls the type of elements used in the model. It can be set to `'6-Noded'` or `'15-Noded'`. By default, 15-noded elements are used."
   ]
  },
  {
   "cell_type": "code",
   "execution_count": 15,
   "metadata": {},
   "outputs": [],
   "source": [
    "model = padtest.Plate(s_i, g_i, g_o, b, d, soil, footing, column,\n",
    "                      element_type='6-Noded')"
   ]
  },
  {
   "cell_type": "markdown",
   "metadata": {},
   "source": [
    "## Preliminary model check"
   ]
  },
  {
   "cell_type": "markdown",
   "metadata": {},
   "source": [
    "Waiting for Plaxis to build and run the initial phases can be time consuming only to check that the model has the correct geometry. The `build` attribute controls whether the Plaxis model gets build. By setting it to `False` the geometry can be inspecting with `plot()`."
   ]
  },
  {
   "cell_type": "code",
   "execution_count": 16,
   "metadata": {},
   "outputs": [
    {
     "data": {
      "image/png": "[encoded data removed]",
      "text/plain": [
       "<Figure size 400x360 with 1 Axes>"
      ]
     },
     "execution_count": 16,
     "metadata": {},
     "output_type": "execute_result"
    }
   ],
   "source": [
    "model = padtest.Plate(s_i, g_i, g_o, b, d, soil, footing, column, build=False)\n",
    "model.plot()"
   ]
  },
  {
   "cell_type": "markdown",
   "metadata": {},
   "source": [
    "The `build()` method creates the model in Plaxis so it can be used. "
   ]
  },
  {
   "cell_type": "code",
   "execution_count": 17,
   "metadata": {},
   "outputs": [],
   "source": [
    "model.build()"
   ]
  }
 ],
 "metadata": {
  "hide_input": false,
  "kernelspec": {
   "display_name": "padtestenv",
   "language": "python",
   "name": "python3"
  },
  "language_info": {
   "codemirror_mode": {
    "name": "ipython",
    "version": 3
   },
   "file_extension": ".py",
   "mimetype": "text/x-python",
   "name": "python",
   "nbconvert_exporter": "python",
   "pygments_lexer": "ipython3",
   "version": "3.7.16"
  },
  "toc": {
   "base_numbering": 1,
   "nav_menu": {},
   "number_sections": true,
   "sideBar": true,
   "skip_h1_title": true,
   "title_cell": "Table of Contents",
   "title_sidebar": "Contents",
   "toc_cell": false,
   "toc_position": {
    "height": "calc(100% - 180px)",
    "left": "10px",
    "top": "150px",
    "width": "301.4px"
   },
   "toc_section_display": true,
   "toc_window_display": true
  },
  "varInspector": {
   "cols": {
    "lenName": 16,
    "lenType": 16,
    "lenVar": 40
   },
   "kernels_config": {
    "python": {
     "delete_cmd_postfix": "",
     "delete_cmd_prefix": "del ",
     "library": "var_list.py",
     "varRefreshCmd": "print(var_dic_list())"
    },
    "r": {
     "delete_cmd_postfix": ") ",
     "delete_cmd_prefix": "rm(",
     "library": "var_list.r",
     "varRefreshCmd": "cat(var_dic_list()) "
    }
   },
   "types_to_exclude": [
    "module",
    "function",
    "builtin_function_or_method",
    "instance",
    "_Feature"
   ],
   "window_display": false
  }
 },
 "nbformat": 4,
 "nbformat_minor": 2
}
