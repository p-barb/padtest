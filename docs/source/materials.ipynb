{
 "cells": [
  {
   "cell_type": "markdown",
   "metadata": {
    "heading_collapsed": true
   },
   "source": [
    "# Materials"
   ]
  },
  {
   "cell_type": "markdown",
   "metadata": {
    "hidden": true
   },
   "source": [
    "## Soil materials"
   ]
  },
  {
   "cell_type": "markdown",
   "metadata": {
    "hidden": true
   },
   "source": [
    "### Linear elastic"
   ]
  },
  {
   "cell_type": "markdown",
   "metadata": {
    "hidden": true
   },
   "source": [
    "Linear elastic soil materials are specified by a dictionary whit the following fields:"
   ]
  },
  {
   "cell_type": "code",
   "execution_count": 1,
   "metadata": {
    "hidden": true
   },
   "outputs": [],
   "source": [
    "material = {}\n",
    "material['SoilModel'] = 'elastic'\n",
    "material[\"DrainageType\"] = 0\n",
    "material['Eref'] = 728e3 # kPa\n",
    "material['nu'] = 0.4 # Poisson\n",
    "material['gammaSat'] = 20 # kN/m3\n",
    "material['gammaUnsat'] = 17 # kN/m3"
   ]
  },
  {
   "cell_type": "markdown",
   "metadata": {
    "hidden": true
   },
   "source": [
    "There are optional parameters that, if not provided, the default value calculated by Plaxis is assigned:"
   ]
  },
  {
   "cell_type": "code",
   "execution_count": 2,
   "metadata": {
    "code_folding": [
     0
    ],
    "hidden": true
   },
   "outputs": [],
   "source": [
    "material['Rinter'] = 0.5  # interface strength, default value 1\n",
    "material['kx'] = 0.02 # [m/day] Permeability in the horizontal direction, default value 0\n",
    "material['ky'] = 0.04 # [m/day] Permeability in the vertical direction, default value 0\n",
    "material['RayleighAlpha'] = 0.57 # Rayleight damping alpha parameter, default value 0\n",
    "material['RayleighBeta'] = 0.2  # Rayleight damping beta parameter, default value 0"
   ]
  },
  {
   "cell_type": "markdown",
   "metadata": {
    "hidden": true
   },
   "source": [
    "### Mohr-Coulomb"
   ]
  },
  {
   "cell_type": "markdown",
   "metadata": {
    "hidden": true
   },
   "source": [
    "Mohr-Coulomb soil materials are specified by a dictionary whit the following fields:"
   ]
  },
  {
   "cell_type": "code",
   "execution_count": 3,
   "metadata": {
    "hidden": true
   },
   "outputs": [],
   "source": [
    "# Mohr-Coulomb soil material\n",
    "material = {}\n",
    "material['SoilModel'] = 'mohr-coulomb'\n",
    "material[\"DrainageType\"] = 0\n",
    "material['gammaSat'] = 20 # kN/m3\n",
    "material['gammaUnsat'] = 17 # kN/m3\n",
    "material['e0'] = 0.2\n",
    "material['Eref'] = 4e4 # kN\n",
    "material['nu'] = 0.2\n",
    "material['cref'] = 0 # kPa\n",
    "material['phi'] = 35 # deg\n",
    "material['psi'] = 0 # deg"
   ]
  },
  {
   "cell_type": "markdown",
   "metadata": {
    "hidden": true
   },
   "source": [
    "There are optional parameters that, if not provided, the default value calculated by Plaxis is assigned:"
   ]
  },
  {
   "cell_type": "code",
   "execution_count": 5,
   "metadata": {
    "hidden": true
   },
   "outputs": [],
   "source": [
    "material['Rinter'] = 0.5 # interface strength, default value 1\n",
    "material['K0nc'] = 0.6 # default value sin(45 - phi / 2)\n",
    "material['kx'] = 0.02 # [m/day] Permeability in the horizontal direction, default value 0\n",
    "material['ky'] = 0.04 # [m/day] Permeability in the vertical direction, default value 0\n",
    "material['RayleighAlpha'] = 0.57 # Rayleight damping alpha parameter, default value 0\n",
    "material['RayleighBeta'] = 0.2  # Rayleight damping beta parameter, default value 0"
   ]
  },
  {
   "cell_type": "markdown",
   "metadata": {
    "hidden": true
   },
   "source": [
    "### Hardening soil"
   ]
  },
  {
   "cell_type": "markdown",
   "metadata": {
    "hidden": true
   },
   "source": [
    "Hardening soil materials are specified by a dictionary whit the following fields:"
   ]
  },
  {
   "cell_type": "code",
   "execution_count": 6,
   "metadata": {
    "hidden": true
   },
   "outputs": [],
   "source": [
    "material = {}\n",
    "material['SoilModel'] = 'hardening soil'\n",
    "material[\"DrainageType\"] = 0\n",
    "material['gammaSat'] = 17\n",
    "material['gammaUnsat'] = 20\n",
    "material['e0'] = 0.2\n",
    "material['E50ref'] = 4e4\n",
    "material['Eoedref'] = 4e4\n",
    "material['Euref'] = 1.2e5\n",
    "material['powerm'] = 0.5\n",
    "material['c'] = 0\n",
    "material['phi'] = 32\n",
    "material['psi'] = 2\n",
    "material['nu'] = 0.2"
   ]
  },
  {
   "cell_type": "markdown",
   "metadata": {
    "hidden": true
   },
   "source": [
    "There are optional parameters that, if not provided, the default value calculated by Plaxis is assigned:"
   ]
  },
  {
   "cell_type": "code",
   "execution_count": 7,
   "metadata": {
    "hidden": true
   },
   "outputs": [],
   "source": [
    "material['Rinter'] = 0.5 # interface strength, default value 1\n",
    "material['K0nc'] = 0.6 # default value sin(45 - phi / 2)\n",
    "material['kx'] = 0.02 # [m/day] Permeability in the horizontal direction, default value 0\n",
    "material['ky'] = 0.04 # [m/day] Permeability in the vertical direction, default value 0\n",
    "material['RayleighAlpha'] = 0.57 # Rayleight damping alpha parameter, default value 0\n",
    "material['RayleighBeta'] = 0.2  # Rayleight damping beta parameter, default value 0"
   ]
  },
  {
   "cell_type": "markdown",
   "metadata": {
    "hidden": true
   },
   "source": [
    "## Plate materials"
   ]
  },
  {
   "cell_type": "markdown",
   "metadata": {
    "hidden": true
   },
   "source": [
    "Plate materials are specified by a dictionary whit the following fields:"
   ]
  },
  {
   "cell_type": "code",
   "execution_count": 8,
   "metadata": {
    "hidden": true
   },
   "outputs": [],
   "source": [
    "plate_material = {}\n",
    "plate_material['nu'] = 0.4\n",
    "plate_material['EA'] = 7.73e6 # KPa m\n",
    "plate_material['EI'] = 0.3**2 / 12 * 7.73e6 # KPa m\n",
    "plate_material['d'] = 0.3 # m\n",
    "plate_material['Gref'] = 7.73e6 / (2 * 0.3 * (1 + 0.4)) # KPa"
   ]
  },
  {
   "cell_type": "markdown",
   "metadata": {
    "hidden": true
   },
   "source": [
    "There are optional parameters that, if not provided, the default value calculated by Plaxis is assigned:"
   ]
  },
  {
   "cell_type": "code",
   "execution_count": 9,
   "metadata": {
    "hidden": true
   },
   "outputs": [],
   "source": [
    "plate_material['RayleighAlpha'] = 0.57 # Rayleight damping alpha parameter, default value 0\n",
    "plate_material['RayleighBeta'] = 0.2  # Rayleight damping beta parameter, default value 0"
   ]
  },
  {
   "cell_type": "markdown",
   "metadata": {
    "hidden": true
   },
   "source": [
    "Plates material are specified per m of cross-section width. Therefore, the stiffness parameters must comply with the following relations. The equivalent thickness `d` is related to the axial and flexural stiffness by:\n",
    "\n",
    "$$d=\\sqrt{12 \\frac{EI}{EA}}$$\n",
    "\n",
    "The reference shear modulus:\n",
    "\n",
    "$$G_{ref} = \\frac{EA}{2 \\ d \\ \\left(1 + \\nu \\right)}$$"
   ]
  },
  {
   "cell_type": "markdown",
   "metadata": {
    "hidden": true
   },
   "source": [
    "An alternative way to define a plate material is using the `concrete` function, where the properties of the plate are computed form the compressive strength of concrete as:\n",
    "\n",
    "$$E \\left[kPa\\right] = 4700 \\ \\sqrt{f'_c \\left[MPa\\right]} \\ 10^3$$\n",
    "\n",
    "$$EA = E \\ d \\ 1m$$\n",
    "\n",
    "$$EI = E \\ \\frac{d^3 \\ 1m}{12}$$\n",
    "\n",
    "$$w = \\gamma \\ d \\ 1m $$"
   ]
  },
  {
   "cell_type": "markdown",
   "metadata": {
    "hidden": true
   },
   "source": [
    "The default value for the Poisson modulus can be modified when calling the function:"
   ]
  },
  {
   "cell_type": "code",
   "execution_count": 10,
   "metadata": {
    "hidden": true
   },
   "outputs": [
    {
     "data": {
      "text/plain": [
       "{'fc': 30,\n",
       " 'E': 25742960.202742808,\n",
       " 'nu': 0.3,\n",
       " 'EA': 10297184.081097124,\n",
       " 'EI': 137295.78774796167,\n",
       " 'd': 0.4,\n",
       " 'Gref': 9901138.539516464,\n",
       " 'gamma': 24,\n",
       " 'w': 9.600000000000001}"
      ]
     },
     "execution_count": 10,
     "metadata": {},
     "output_type": "execute_result"
    }
   ],
   "source": [
    "import padtest\n",
    "fc = 30 # MPa\n",
    "gamma = 24 #kN/m3\n",
    "d = 0.4\n",
    "padtest.concrete(fc, gamma, d, poisson=0.3)"
   ]
  }
 ],
 "metadata": {
  "hide_input": false,
  "kernelspec": {
   "display_name": "padtestenv",
   "language": "python",
   "name": "python3"
  },
  "language_info": {
   "codemirror_mode": {
    "name": "ipython",
    "version": 3
   },
   "file_extension": ".py",
   "mimetype": "text/x-python",
   "name": "python",
   "nbconvert_exporter": "python",
   "pygments_lexer": "ipython3",
   "version": "3.7.16"
  },
  "toc": {
   "base_numbering": 1,
   "nav_menu": {},
   "number_sections": true,
   "sideBar": true,
   "skip_h1_title": true,
   "title_cell": "Table of Contents",
   "title_sidebar": "Contents",
   "toc_cell": false,
   "toc_position": {
    "height": "calc(100% - 180px)",
    "left": "10px",
    "top": "150px",
    "width": "301.4px"
   },
   "toc_section_display": true,
   "toc_window_display": true
  },
  "varInspector": {
   "cols": {
    "lenName": 16,
    "lenType": 16,
    "lenVar": 40
   },
   "kernels_config": {
    "python": {
     "delete_cmd_postfix": "",
     "delete_cmd_prefix": "del ",
     "library": "var_list.py",
     "varRefreshCmd": "print(var_dic_list())"
    },
    "r": {
     "delete_cmd_postfix": ") ",
     "delete_cmd_prefix": "rm(",
     "library": "var_list.r",
     "varRefreshCmd": "cat(var_dic_list()) "
    }
   },
   "types_to_exclude": [
    "module",
    "function",
    "builtin_function_or_method",
    "instance",
    "_Feature"
   ],
   "window_display": false
  }
 },
 "nbformat": 4,
 "nbformat_minor": 2
}
