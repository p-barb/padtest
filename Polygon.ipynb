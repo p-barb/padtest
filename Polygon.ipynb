{
 "cells": [
  {
   "cell_type": "code",
   "execution_count": 2,
   "id": "b16ff5a6",
   "metadata": {},
   "outputs": [],
   "source": [
    "import numpy as np\n",
    "import matplotlib.pyplot as plt"
   ]
  },
  {
   "cell_type": "code",
   "execution_count": 76,
   "id": "b7de8260",
   "metadata": {},
   "outputs": [],
   "source": [
    "class Polygon():\n",
    "    \n",
    "    def __init__(self, vertex):\n",
    "        vertex = np.array(vertex)\n",
    "        if np.array_equal(vertex[-1], vertex[0]):\n",
    "            vertex = vertex[:-1]\n",
    "        self._vertex = vertex\n",
    "        self._nvertex = len(self._vertex)\n",
    "        self._set_area()\n",
    "        self._set_box()\n",
    "    \n",
    "    def _closed_vertex(self):\n",
    "        return np.vstack([self._vertex, self._vertex[0]])\n",
    "        \n",
    "    def _set_area(self):\n",
    "        vertex = self._closed_vertex()\n",
    "        self._area = 0\n",
    "        for idx in range(self._nvertex):\n",
    "            self._area += vertex[idx, 0] * vertex[idx + 1, 1] - vertex[idx + 1, 0] * vertex[idx, 1]\n",
    "        self._area /= 2\n",
    "        if self._area == 0:\n",
    "            raise RuntimeError('Polygon has 0 area.')\n",
    "        \n",
    "        self._centroid = np.array([0, 0])\n",
    "        for idx in range(self._nvertex - 1):\n",
    "            self._centroid[0] += (vertex[idx, 0] + vertex[idx + 1, 0]) * (vertex[idx, 0] * vertex[idx + 1, 1] - vertex[idx + 1, 0] * vertex[idx, 1])\n",
    "            self._centroid[1] += (vertex[idx, 1] + vertex[idx + 1, 1]) * (vertex[idx, 0] * vertex[idx + 1, 1] - vertex[idx + 1, 0] * vertex[idx, 1])\n",
    "        self._centroid = self._centroid / (6 * self._area)\n",
    "        self._area = np.abs(self._area)\n",
    "\n",
    "    def _set_box(self):\n",
    "        xmin = np.min(self._vertex[:, 0])\n",
    "        xmax = np.max(self._vertex[:, 0])\n",
    "        ymin = np.min(self._vertex[:, 1])\n",
    "        ymax = np.max(self._vertex[:, 1])\n",
    "        self._bounding_box = np.array([[xmin, ymin], [xmin, ymax], [xmax, ymax], [xmax, ymin]])\n",
    "        self._width = xmax - xmin\n",
    "        self._height = ymax - ymin\n",
    "    \n",
    "    def plot(self, figsize=3):\n",
    "        fig, ax = plt.subplots(1, 1, figsize=(figsize, figsize * self._height / self._width))\n",
    "        vertex = self._closed_vertex()\n",
    "        ax.plot(vertex[:,0], vertex[:,1], '-ok')\n",
    "        ax.plot(self._centroid[0], self._centroid[1], 'xk', ms=8)\n",
    "        ax.grid(alpha=0.2)\n",
    "        ax.set_xlabel('x')\n",
    "        ax.set_ylabel('y')\n",
    "        plt.close()\n",
    "        return fig\n",
    "        "
   ]
  },
  {
   "cell_type": "code",
   "execution_count": 77,
   "id": "5efd7c57",
   "metadata": {},
   "outputs": [],
   "source": [
    "def Geometry():\n",
    "    def __init__(self, b, d, foundation_type='plate', b1=None, d0=0, d1=None,\n",
    "                 dstrata=None, wt=None, fill_angle=None, bfill=0.5,\n",
    "                 nfill=None, dfill=None, dunder=None):"
   ]
  },
  {
   "cell_type": "code",
   "execution_count": 78,
   "id": "d8b80b25",
   "metadata": {},
   "outputs": [
    {
     "data": {
      "text/plain": [
       "array([1., 1.])"
      ]
     },
     "execution_count": 78,
     "metadata": {},
     "output_type": "execute_result"
    }
   ],
   "source": [
    "poly._centroid"
   ]
  },
  {
   "cell_type": "code",
   "execution_count": 79,
   "id": "32444eb4",
   "metadata": {},
   "outputs": [
    {
     "data": {
      "image/png": "[encoded data removed]",
      "text/plain": [
       "<Figure size 300x300 with 1 Axes>"
      ]
     },
     "execution_count": 79,
     "metadata": {},
     "output_type": "execute_result"
    }
   ],
   "source": [
    "poly.plot()"
   ]
  },
  {
   "cell_type": "code",
   "execution_count": 80,
   "id": "818c9480",
   "metadata": {},
   "outputs": [
    {
     "data": {
      "image/png": "[encoded data removed]",
      "text/plain": [
       "<Figure size 300x300 with 1 Axes>"
      ]
     },
     "execution_count": 80,
     "metadata": {},
     "output_type": "execute_result"
    }
   ],
   "source": [
    "vertex = np.array([[0,1], [0, 2], [2,2], [2, 0], [1, 0], [1, 1]])\n",
    "poly = Polygon(vertex)\n",
    "poly.plot()"
   ]
  },
  {
   "cell_type": "code",
   "execution_count": 81,
   "id": "28650922",
   "metadata": {},
   "outputs": [
    {
     "data": {
      "text/plain": [
       "array([1.22222222, 1.27777778])"
      ]
     },
     "execution_count": 81,
     "metadata": {},
     "output_type": "execute_result"
    }
   ],
   "source": [
    "poly._centroid"
   ]
  },
  {
   "cell_type": "code",
   "execution_count": 82,
   "id": "c3deb377",
   "metadata": {},
   "outputs": [
    {
     "data": {
      "text/plain": [
       "2"
      ]
     },
     "execution_count": 82,
     "metadata": {},
     "output_type": "execute_result"
    }
   ],
   "source": [
    "poly._width"
   ]
  },
  {
   "cell_type": "code",
   "execution_count": 87,
   "id": "56d1717c",
   "metadata": {},
   "outputs": [
    {
     "data": {
      "text/plain": [
       "0.0"
      ]
     },
     "execution_count": 87,
     "metadata": {},
     "output_type": "execute_result"
    }
   ],
   "source": [
    "dfill = [3]\n",
    "np.sum(dfill[:-1])"
   ]
  },
  {
   "cell_type": "code",
   "execution_count": 92,
   "id": "9dffebd2",
   "metadata": {},
   "outputs": [
    {
     "data": {
      "text/plain": [
       "{}"
      ]
     },
     "execution_count": 92,
     "metadata": {},
     "output_type": "execute_result"
    }
   ],
   "source": [
    "nfill = 0\n",
    "dict(zip(list(range(nfill)), [[]]*nfill))"
   ]
  },
  {
   "cell_type": "code",
   "execution_count": 107,
   "id": "fd21697c",
   "metadata": {},
   "outputs": [],
   "source": [
    "dstrata = np.array([1,2,3])\n",
    "d=0.5"
   ]
  },
  {
   "cell_type": "code",
   "execution_count": 108,
   "id": "6e870b7d",
   "metadata": {},
   "outputs": [
    {
     "data": {
      "text/plain": [
       "array([0.5])"
      ]
     },
     "execution_count": 108,
     "metadata": {},
     "output_type": "execute_result"
    }
   ],
   "source": [
    "dexcavated = dstrata[np.cumsum(dstrata)<=d]\n",
    "if np.sum(dexcavated) < d:\n",
    "    dexcavated = np.hstack([dexcavated, [d - np.sum(dexcavated)]])\n",
    "dexcavated"
   ]
  },
  {
   "cell_type": "code",
   "execution_count": 98,
   "id": "61c91f65",
   "metadata": {},
   "outputs": [
    {
     "data": {
      "text/plain": [
       "0"
      ]
     },
     "execution_count": 98,
     "metadata": {},
     "output_type": "execute_result"
    }
   ],
   "source": [
    "len(dexcavated)"
   ]
  },
  {
   "cell_type": "code",
   "execution_count": 112,
   "id": "89980fb7",
   "metadata": {},
   "outputs": [
    {
     "data": {
      "text/plain": [
       "array([ 0, -1, -2, -3, -4])"
      ]
     },
     "execution_count": 112,
     "metadata": {},
     "output_type": "execute_result"
    }
   ],
   "source": [
    "zexcavated = [-1, -2, -4]\n",
    "zfill = [-3]\n",
    "z = np.flip(np.unique(np.hstack([[0], zexcavated, zfill])))\n",
    "z"
   ]
  },
  {
   "cell_type": "code",
   "execution_count": 113,
   "id": "68e5b918",
   "metadata": {},
   "outputs": [
    {
     "data": {
      "text/plain": [
       "array([-1, -3, -4, -7], dtype=int32)"
      ]
     },
     "execution_count": 113,
     "metadata": {},
     "output_type": "execute_result"
    }
   ],
   "source": [
    "dstrata = [1, 2, 1, 3]\n",
    "zstrata = -np.cumsum(dstrata)\n",
    "zstrata"
   ]
  },
  {
   "cell_type": "code",
   "execution_count": 123,
   "id": "0e6a411e",
   "metadata": {},
   "outputs": [
    {
     "ename": "ValueError",
     "evalue": "True is not in list",
     "output_type": "error",
     "traceback": [
      "\u001b[1;31m---------------------------------------------------------------------------\u001b[0m",
      "\u001b[1;31mValueError\u001b[0m                                Traceback (most recent call last)",
      "Input \u001b[1;32mIn [123]\u001b[0m, in \u001b[0;36m<cell line: 1>\u001b[1;34m()\u001b[0m\n\u001b[1;32m----> 1\u001b[0m \u001b[38;5;28;43mlist\u001b[39;49m\u001b[43m(\u001b[49m\u001b[38;5;241;43m-\u001b[39;49m\u001b[38;5;241;43m10\u001b[39;49m\u001b[43m \u001b[49m\u001b[38;5;241;43m>\u001b[39;49m\u001b[43m \u001b[49m\u001b[43mzstrata\u001b[49m\u001b[43m)\u001b[49m\u001b[38;5;241;43m.\u001b[39;49m\u001b[43mindex\u001b[49m\u001b[43m(\u001b[49m\u001b[38;5;28;43;01mTrue\u001b[39;49;00m\u001b[43m)\u001b[49m\n",
      "\u001b[1;31mValueError\u001b[0m: True is not in list"
     ]
    }
   ],
   "source": [
    "list(-10 > zstrata).index(True)"
   ]
  },
  {
   "cell_type": "code",
   "execution_count": null,
   "id": "e2971e31",
   "metadata": {},
   "outputs": [],
   "source": []
  }
 ],
 "metadata": {
  "hide_input": false,
  "kernelspec": {
   "display_name": "Python 3 (ipykernel)",
   "language": "python",
   "name": "python3"
  },
  "language_info": {
   "codemirror_mode": {
    "name": "ipython",
    "version": 3
   },
   "file_extension": ".py",
   "mimetype": "text/x-python",
   "name": "python",
   "nbconvert_exporter": "python",
   "pygments_lexer": "ipython3",
   "version": "3.9.12"
  },
  "toc": {
   "base_numbering": 1,
   "nav_menu": {},
   "number_sections": true,
   "sideBar": true,
   "skip_h1_title": false,
   "title_cell": "Table of Contents",
   "title_sidebar": "Contents",
   "toc_cell": false,
   "toc_position": {},
   "toc_section_display": true,
   "toc_window_display": false
  },
  "varInspector": {
   "cols": {
    "lenName": 16,
    "lenType": 16,
    "lenVar": 40
   },
   "kernels_config": {
    "python": {
     "delete_cmd_postfix": "",
     "delete_cmd_prefix": "del ",
     "library": "var_list.py",
     "varRefreshCmd": "print(var_dic_list())"
    },
    "r": {
     "delete_cmd_postfix": ") ",
     "delete_cmd_prefix": "rm(",
     "library": "var_list.r",
     "varRefreshCmd": "cat(var_dic_list()) "
    }
   },
   "types_to_exclude": [
    "module",
    "function",
    "builtin_function_or_method",
    "instance",
    "_Feature"
   ],
   "window_display": false
  }
 },
 "nbformat": 4,
 "nbformat_minor": 5
}
