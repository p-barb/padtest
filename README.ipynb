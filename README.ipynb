{
 "cells": [
  {
   "cell_type": "markdown",
   "metadata": {},
   "source": [
    "# ltest"
   ]
  },
  {
   "cell_type": "markdown",
   "metadata": {},
   "source": [
    "Load test axisymmetric or strip shallow foundation in [Plaxis 2D](https://www.bentley.com/software/plaxis-2d/#:~:text=PLAXIS%20is%20a%20computer%20application,code%20of%20the%20software%20application.)."
   ]
  },
  {
   "cell_type": "markdown",
   "metadata": {
    "heading_collapsed": true
   },
   "source": [
    "## License"
   ]
  },
  {
   "cell_type": "markdown",
   "metadata": {
    "hidden": true
   },
   "source": [
    "Distributed under the MIT License. See LICENSE.txt for more information."
   ]
  },
  {
   "cell_type": "markdown",
   "metadata": {
    "heading_collapsed": true
   },
   "source": [
    "## Acknowledgments"
   ]
  },
  {
   "cell_type": "markdown",
   "metadata": {
    "hidden": true
   },
   "source": [
    "`ltest` is developed by Pablo Barbieri. Professor Timothy Newson provides the technical overview of the project.\n",
    "\n",
    "This work was supported by the Natural Sciences and Engineering Research Council of Canada (Grant #: RGPIN-2020-06713)."
   ]
  },
  {
   "cell_type": "markdown",
   "metadata": {
    "heading_collapsed": true,
    "hidden": true
   },
   "source": [
    "### Contact"
   ]
  },
  {
   "cell_type": "markdown",
   "metadata": {
    "hidden": true
   },
   "source": [
    "You can reach Pablo Barbieri at pbarbie2@uwo.ca."
   ]
  },
  {
   "cell_type": "markdown",
   "metadata": {},
   "source": [
    "## Change log"
   ]
  },
  {
   "cell_type": "markdown",
   "metadata": {},
   "source": [
    "- 2023-10-31 -- 0.0.1:\n",
    "    - First release.\n",
    "- 2023-11-05 -- 0.0.2: \n",
    "    - Added model_type to README. \n",
    "    - Complete docstrings.\n",
    "    - Fixed compression positive, pull-out positive flags in test plot.\n",
    "    - 5-node elements supported.\n",
    "    - Model size set at creation in Plaxis."
   ]
  },
  {
   "cell_type": "markdown",
   "metadata": {},
   "source": [
    "## Getting started"
   ]
  },
  {
   "cell_type": "markdown",
   "metadata": {},
   "source": [
    "### Requirements"
   ]
  },
  {
   "cell_type": "markdown",
   "metadata": {},
   "source": [
    "``ltest`` can either be used within the Plaxis [remote scripting Python wrap](https://communities.bentley.com/products/geotech-analysis/w/wiki/46005/using-plaxis-remote-scripting-with-the-python-wrapper) or in a regular Python environment. ``ltest`` requires [pandas](https://pandas.pydata.org/docs/index.html) which is not included by default in Plaxis Python environment. To install it, or any other package, follow the instructions listed on [Plaxis site](https://communities.bentley.com/products/geotech-analysis/w/wiki/51822/how-to-install-additional-python-modules-in-plaxis).\n",
    "\n",
    "To use ``ltest`` in a custom Python environment, the ``plxscripting`` package must be installed in that environment along all other required packages. ``plxscripting`` cannot be installed using conda or pip. Instead, it must be installed following the [these instructions](https://communities.bentley.com/products/geotech-analysis/w/wiki/51822/how-to-install-additional-python-modules-in-plaxis)."
   ]
  },
  {
   "cell_type": "markdown",
   "metadata": {},
   "source": [
    "<div class=\"alert alert-info\">\n",
    "  \n",
    "Beware that ``plxscripting`` requires Python 3.7. **It will crash with later versions.**\n",
    "\n",
    "</div>"
   ]
  },
  {
   "cell_type": "markdown",
   "metadata": {
    "heading_collapsed": true
   },
   "source": [
    "### Installation"
   ]
  },
  {
   "cell_type": "markdown",
   "metadata": {
    "hidden": true
   },
   "source": [
    "Clone the repo:\n",
    "\n",
    "`git clone https://github.com/p-barb/ltest`"
   ]
  },
  {
   "cell_type": "markdown",
   "metadata": {},
   "source": [
    "## Usage"
   ]
  },
  {
   "cell_type": "markdown",
   "metadata": {},
   "source": [
    "### Plaxis connection"
   ]
  },
  {
   "cell_type": "markdown",
   "metadata": {},
   "source": [
    "Along with ``ltest`` you will need to import ``plxscripting`` and connect with Plaxis following [these instructions](https://communities.bentley.com/products/geotech-analysis/w/wiki/46005/using-plaxis-remote-scripting-with-the-python-wrapper)."
   ]
  },
  {
   "cell_type": "code",
   "execution_count": 1,
   "metadata": {},
   "outputs": [],
   "source": [
    "from plxscripting.easy import *\n",
    "import ltest \n",
    "\n",
    "password = \"nicFgr^TtsFm~h~M\"\n",
    "localhostport_input = 10000 \n",
    "localhostport_output = 10001\n",
    "s_i, g_i = new_server('localhost', localhostport_input, password=password) \n",
    "s_o, g_o = new_server('localhost', localhostport_output, password=password)"
   ]
  },
  {
   "cell_type": "markdown",
   "metadata": {},
   "source": [
    "### Create foundation model"
   ]
  },
  {
   "cell_type": "markdown",
   "metadata": {},
   "source": [
    "<div class=\"alert alert-info\">\n",
    "  \n",
    "The model units are **kN** and **m** by default.\n",
    "\n",
    "</div>"
   ]
  },
  {
   "cell_type": "markdown",
   "metadata": {},
   "source": [
    "The geometry of the foundation is given by:"
   ]
  },
  {
   "cell_type": "code",
   "execution_count": 2,
   "metadata": {},
   "outputs": [],
   "source": [
    "d = 1.2 # Foundation depth\n",
    "b = 2 # Foundation width\n",
    "b1 = 0.5 # Foundation column width\n",
    "d1 = 0.5 # Foundation width"
   ]
  },
  {
   "cell_type": "markdown",
   "metadata": {},
   "source": [
    "Materials are defined by dictionaries containing the properties required in each case by Plaxis. Liner-Elastic, Mohr-Coulomb and Hardening Soil (HS) soil materials are supported. A Mohr-Coulomb material is used for the soil:"
   ]
  },
  {
   "cell_type": "code",
   "execution_count": 3,
   "metadata": {},
   "outputs": [],
   "source": [
    "# Mohr-Coulomb soil material\n",
    "soil = {}\n",
    "soil['SoilModel'] = 'mohr-coulomb'\n",
    "soil[\"DrainageType\"] = 0\n",
    "soil['gammaSat'] = 20 # kN/m3\n",
    "soil['gammaUnsat'] = 17 # kN/m3\n",
    "soil['e0'] = 0.2\n",
    "soil['Eref'] = 4e4 # kN\n",
    "soil['nu'] = 0.2\n",
    "soil['cref'] = 0 # kPa\n",
    "soil['phi'] = 35 # deg\n",
    "soil['psi'] = 0 # deg"
   ]
  },
  {
   "cell_type": "markdown",
   "metadata": {},
   "source": [
    "The foundation itself is modeled by plate elements. The `concrete` methods generates the dictionary with the plate material properties from the desired compressive strength, unit weight and plate thickness."
   ]
  },
  {
   "cell_type": "code",
   "execution_count": 4,
   "metadata": {},
   "outputs": [],
   "source": [
    "# Plate material for a f'c=30MPa concrete slab with a 40cm thickness and 24kN/m3 unit weight\n",
    "column = ltest.concrete(30, 24, b1)\n",
    "# Plate material for a f'c=30MPa concrete slab with a 60cm thickness and 24kN/m3 unit weight\n",
    "footing = ltest.concrete(30, 24, d1)"
   ]
  },
  {
   "cell_type": "markdown",
   "metadata": {},
   "source": [
    "Create a foundation model using plate elements for the column and footing:"
   ]
  },
  {
   "cell_type": "code",
   "execution_count": 5,
   "metadata": {
    "scrolled": false
   },
   "outputs": [],
   "source": [
    "model = ltest.PlateModel(s_i, g_i, g_o, b, d, soil, footing, column)"
   ]
  },
  {
   "cell_type": "markdown",
   "metadata": {},
   "source": [
    "The resulting model geometry can be inspected visually:"
   ]
  },
  {
   "cell_type": "code",
   "execution_count": 6,
   "metadata": {
    "scrolled": false
   },
   "outputs": [
    {
     "data": {
      "image/png": "[encoded data removed]",
      "text/plain": [
       "<Figure size 250x450 with 1 Axes>"
      ]
     },
     "execution_count": 6,
     "metadata": {},
     "output_type": "execute_result"
    }
   ],
   "source": [
    "model.plot()"
   ]
  },
  {
   "cell_type": "markdown",
   "metadata": {},
   "source": [
    "### Load test"
   ]
  },
  {
   "cell_type": "markdown",
   "metadata": {},
   "source": [
    "A load test is conducted using the ``load_test`` method. A test consist in consecutive load levels being applied to the foundation. Negative loads imply compression, while positive pull-out. Each load level is a phase where the load is set to the provided value."
   ]
  },
  {
   "cell_type": "code",
   "execution_count": 7,
   "metadata": {},
   "outputs": [],
   "source": [
    "testid = 'test A'\n",
    "load = [-60, 0, -60] #kN\n",
    "model.load_test(testid, load)"
   ]
  },
  {
   "cell_type": "markdown",
   "metadata": {},
   "source": [
    "Calculation results are stored in a dataframe:"
   ]
  },
  {
   "cell_type": "code",
   "execution_count": 8,
   "metadata": {},
   "outputs": [
    {
     "data": {
      "text/html": [
       "<div>\n",
       "<style scoped>\n",
       "    .dataframe tbody tr th:only-of-type {\n",
       "        vertical-align: middle;\n",
       "    }\n",
       "\n",
       "    .dataframe tbody tr th {\n",
       "        vertical-align: top;\n",
       "    }\n",
       "\n",
       "    .dataframe thead th {\n",
       "        text-align: right;\n",
       "    }\n",
       "</style>\n",
       "<table border=\"1\" class=\"dataframe\">\n",
       "  <thead>\n",
       "    <tr style=\"text-align: right;\">\n",
       "      <th></th>\n",
       "      <th>test</th>\n",
       "      <th>phase</th>\n",
       "      <th>previous</th>\n",
       "      <th>plx id</th>\n",
       "      <th>previous plx id</th>\n",
       "      <th>location</th>\n",
       "      <th>step</th>\n",
       "      <th>load start</th>\n",
       "      <th>load end</th>\n",
       "      <th>load</th>\n",
       "      <th>sumMstage</th>\n",
       "      <th>fy</th>\n",
       "      <th>qy</th>\n",
       "      <th>uy</th>\n",
       "      <th>ratchetting</th>\n",
       "    </tr>\n",
       "  </thead>\n",
       "  <tbody>\n",
       "    <tr>\n",
       "      <th>0</th>\n",
       "      <td>None</td>\n",
       "      <td>construction</td>\n",
       "      <td>None</td>\n",
       "      <td>Phase_1</td>\n",
       "      <td>None</td>\n",
       "      <td>top</td>\n",
       "      <td>1.0</td>\n",
       "      <td>0</td>\n",
       "      <td>0</td>\n",
       "      <td>0</td>\n",
       "      <td>0.500000</td>\n",
       "      <td>0.000000</td>\n",
       "      <td>0.0</td>\n",
       "      <td>2.102337e-14</td>\n",
       "      <td>False</td>\n",
       "    </tr>\n",
       "    <tr>\n",
       "      <th>1</th>\n",
       "      <td>None</td>\n",
       "      <td>construction</td>\n",
       "      <td>None</td>\n",
       "      <td>Phase_1</td>\n",
       "      <td>None</td>\n",
       "      <td>top</td>\n",
       "      <td>2.0</td>\n",
       "      <td>0</td>\n",
       "      <td>0</td>\n",
       "      <td>0</td>\n",
       "      <td>1.000000</td>\n",
       "      <td>0.000000</td>\n",
       "      <td>0.0</td>\n",
       "      <td>4.205183e-14</td>\n",
       "      <td>False</td>\n",
       "    </tr>\n",
       "    <tr>\n",
       "      <th>2</th>\n",
       "      <td>None</td>\n",
       "      <td>construction</td>\n",
       "      <td>None</td>\n",
       "      <td>Phase_1</td>\n",
       "      <td>None</td>\n",
       "      <td>0</td>\n",
       "      <td>1.0</td>\n",
       "      <td>0</td>\n",
       "      <td>0</td>\n",
       "      <td>0</td>\n",
       "      <td>0.500000</td>\n",
       "      <td>0.000000</td>\n",
       "      <td>0.0</td>\n",
       "      <td>2.102337e-14</td>\n",
       "      <td>False</td>\n",
       "    </tr>\n",
       "    <tr>\n",
       "      <th>3</th>\n",
       "      <td>None</td>\n",
       "      <td>construction</td>\n",
       "      <td>None</td>\n",
       "      <td>Phase_1</td>\n",
       "      <td>None</td>\n",
       "      <td>0</td>\n",
       "      <td>2.0</td>\n",
       "      <td>0</td>\n",
       "      <td>0</td>\n",
       "      <td>0</td>\n",
       "      <td>1.000000</td>\n",
       "      <td>0.000000</td>\n",
       "      <td>0.0</td>\n",
       "      <td>4.205183e-14</td>\n",
       "      <td>False</td>\n",
       "    </tr>\n",
       "    <tr>\n",
       "      <th>4</th>\n",
       "      <td>None</td>\n",
       "      <td>construction</td>\n",
       "      <td>None</td>\n",
       "      <td>Phase_1</td>\n",
       "      <td>None</td>\n",
       "      <td>0.25</td>\n",
       "      <td>1.0</td>\n",
       "      <td>0</td>\n",
       "      <td>0</td>\n",
       "      <td>0</td>\n",
       "      <td>0.500000</td>\n",
       "      <td>0.000000</td>\n",
       "      <td>0.0</td>\n",
       "      <td>2.101860e-14</td>\n",
       "      <td>False</td>\n",
       "    </tr>\n",
       "    <tr>\n",
       "      <th>...</th>\n",
       "      <td>...</td>\n",
       "      <td>...</td>\n",
       "      <td>...</td>\n",
       "      <td>...</td>\n",
       "      <td>...</td>\n",
       "      <td>...</td>\n",
       "      <td>...</td>\n",
       "      <td>...</td>\n",
       "      <td>...</td>\n",
       "      <td>...</td>\n",
       "      <td>...</td>\n",
       "      <td>...</td>\n",
       "      <td>...</td>\n",
       "      <td>...</td>\n",
       "      <td>...</td>\n",
       "    </tr>\n",
       "    <tr>\n",
       "      <th>1579</th>\n",
       "      <td>test A</td>\n",
       "      <td>test A_stage_2</td>\n",
       "      <td>test A_stage_1</td>\n",
       "      <td>Phase_4</td>\n",
       "      <td>Phase_3</td>\n",
       "      <td>1</td>\n",
       "      <td>57.0</td>\n",
       "      <td>0</td>\n",
       "      <td>-60</td>\n",
       "      <td>-60</td>\n",
       "      <td>0.933058</td>\n",
       "      <td>-55.983485</td>\n",
       "      <td>0.0</td>\n",
       "      <td>-5.571149e-03</td>\n",
       "      <td>False</td>\n",
       "    </tr>\n",
       "    <tr>\n",
       "      <th>1580</th>\n",
       "      <td>test A</td>\n",
       "      <td>test A_stage_2</td>\n",
       "      <td>test A_stage_1</td>\n",
       "      <td>Phase_4</td>\n",
       "      <td>Phase_3</td>\n",
       "      <td>1</td>\n",
       "      <td>58.0</td>\n",
       "      <td>0</td>\n",
       "      <td>-60</td>\n",
       "      <td>-60</td>\n",
       "      <td>0.950746</td>\n",
       "      <td>-57.044785</td>\n",
       "      <td>0.0</td>\n",
       "      <td>-5.652880e-03</td>\n",
       "      <td>False</td>\n",
       "    </tr>\n",
       "    <tr>\n",
       "      <th>1581</th>\n",
       "      <td>test A</td>\n",
       "      <td>test A_stage_2</td>\n",
       "      <td>test A_stage_1</td>\n",
       "      <td>Phase_4</td>\n",
       "      <td>Phase_3</td>\n",
       "      <td>1</td>\n",
       "      <td>59.0</td>\n",
       "      <td>0</td>\n",
       "      <td>-60</td>\n",
       "      <td>-60</td>\n",
       "      <td>0.968435</td>\n",
       "      <td>-58.106081</td>\n",
       "      <td>0.0</td>\n",
       "      <td>-5.735502e-03</td>\n",
       "      <td>False</td>\n",
       "    </tr>\n",
       "    <tr>\n",
       "      <th>1582</th>\n",
       "      <td>test A</td>\n",
       "      <td>test A_stage_2</td>\n",
       "      <td>test A_stage_1</td>\n",
       "      <td>Phase_4</td>\n",
       "      <td>Phase_3</td>\n",
       "      <td>1</td>\n",
       "      <td>60.0</td>\n",
       "      <td>0</td>\n",
       "      <td>-60</td>\n",
       "      <td>-60</td>\n",
       "      <td>0.986123</td>\n",
       "      <td>-59.167382</td>\n",
       "      <td>0.0</td>\n",
       "      <td>-5.819989e-03</td>\n",
       "      <td>False</td>\n",
       "    </tr>\n",
       "    <tr>\n",
       "      <th>1583</th>\n",
       "      <td>test A</td>\n",
       "      <td>test A_stage_2</td>\n",
       "      <td>test A_stage_1</td>\n",
       "      <td>Phase_4</td>\n",
       "      <td>Phase_3</td>\n",
       "      <td>1</td>\n",
       "      <td>61.0</td>\n",
       "      <td>0</td>\n",
       "      <td>-60</td>\n",
       "      <td>-60</td>\n",
       "      <td>1.000000</td>\n",
       "      <td>-60.000000</td>\n",
       "      <td>0.0</td>\n",
       "      <td>-5.891037e-03</td>\n",
       "      <td>False</td>\n",
       "    </tr>\n",
       "  </tbody>\n",
       "</table>\n",
       "<p>1584 rows × 15 columns</p>\n",
       "</div>"
      ],
      "text/plain": [
       "        test           phase        previous   plx id previous plx id  \\\n",
       "0       None    construction            None  Phase_1            None   \n",
       "1       None    construction            None  Phase_1            None   \n",
       "2       None    construction            None  Phase_1            None   \n",
       "3       None    construction            None  Phase_1            None   \n",
       "4       None    construction            None  Phase_1            None   \n",
       "...      ...             ...             ...      ...             ...   \n",
       "1579  test A  test A_stage_2  test A_stage_1  Phase_4         Phase_3   \n",
       "1580  test A  test A_stage_2  test A_stage_1  Phase_4         Phase_3   \n",
       "1581  test A  test A_stage_2  test A_stage_1  Phase_4         Phase_3   \n",
       "1582  test A  test A_stage_2  test A_stage_1  Phase_4         Phase_3   \n",
       "1583  test A  test A_stage_2  test A_stage_1  Phase_4         Phase_3   \n",
       "\n",
       "     location  step  load start  load end  load  sumMstage         fy   qy  \\\n",
       "0         top   1.0           0         0     0   0.500000   0.000000  0.0   \n",
       "1         top   2.0           0         0     0   1.000000   0.000000  0.0   \n",
       "2           0   1.0           0         0     0   0.500000   0.000000  0.0   \n",
       "3           0   2.0           0         0     0   1.000000   0.000000  0.0   \n",
       "4        0.25   1.0           0         0     0   0.500000   0.000000  0.0   \n",
       "...       ...   ...         ...       ...   ...        ...        ...  ...   \n",
       "1579        1  57.0           0       -60   -60   0.933058 -55.983485  0.0   \n",
       "1580        1  58.0           0       -60   -60   0.950746 -57.044785  0.0   \n",
       "1581        1  59.0           0       -60   -60   0.968435 -58.106081  0.0   \n",
       "1582        1  60.0           0       -60   -60   0.986123 -59.167382  0.0   \n",
       "1583        1  61.0           0       -60   -60   1.000000 -60.000000  0.0   \n",
       "\n",
       "                uy  ratchetting  \n",
       "0     2.102337e-14        False  \n",
       "1     4.205183e-14        False  \n",
       "2     2.102337e-14        False  \n",
       "3     4.205183e-14        False  \n",
       "4     2.101860e-14        False  \n",
       "...            ...          ...  \n",
       "1579 -5.571149e-03        False  \n",
       "1580 -5.652880e-03        False  \n",
       "1581 -5.735502e-03        False  \n",
       "1582 -5.819989e-03        False  \n",
       "1583 -5.891037e-03        False  \n",
       "\n",
       "[1584 rows x 15 columns]"
      ]
     },
     "execution_count": 8,
     "metadata": {},
     "output_type": "execute_result"
    }
   ],
   "source": [
    "model._results"
   ]
  },
  {
   "cell_type": "markdown",
   "metadata": {},
   "source": [
    "By default 6 points are selected surveyed. The load application point at the surface, and points located at the foundation level at a distance of 0, 0.25, 0.5, 0.75 and 1 times b/2. The load test results can be inspected using the ``plot_test`` function."
   ]
  },
  {
   "cell_type": "code",
   "execution_count": 9,
   "metadata": {},
   "outputs": [
    {
     "data": {
      "image/png": "[encoded data removed]",
      "text/plain": [
       "<Figure size 600x400 with 1 Axes>"
      ]
     },
     "execution_count": 9,
     "metadata": {},
     "output_type": "execute_result"
    }
   ],
   "source": [
    "model.plot_test('test A', location=0, legend=True)"
   ]
  },
  {
   "cell_type": "markdown",
   "metadata": {},
   "source": [
    "Multiple load tests can be performed in the same model.Each load test will start from the construction phase. **"
   ]
  },
  {
   "cell_type": "markdown",
   "metadata": {},
   "source": [
    "### Failure test"
   ]
  },
  {
   "cell_type": "markdown",
   "metadata": {},
   "source": [
    "The `failure_test` method applies tests the foundation until the model does not converge. A first trial is done using the the `start_load`. If lack of convergence is not achieved, the load is incremented as `load = load_factor * load + load_increment`. The fourth argument controls whether a '`compression'` or `'pull out'` test is performed."
   ]
  },
  {
   "cell_type": "code",
   "execution_count": 10,
   "metadata": {},
   "outputs": [],
   "source": [
    "testid = 'compression'\n",
    "model.failure_test(testid, 'compression')"
   ]
  },
  {
   "cell_type": "code",
   "execution_count": 11,
   "metadata": {},
   "outputs": [
    {
     "data": {
      "image/png": "[encoded data removed]",
      "text/plain": [
       "<Figure size 600x400 with 1 Axes>"
      ]
     },
     "execution_count": 11,
     "metadata": {},
     "output_type": "execute_result"
    }
   ],
   "source": [
    "model.plot_test('compression', location=0, legend=True)"
   ]
  },
  {
   "cell_type": "code",
   "execution_count": 12,
   "metadata": {},
   "outputs": [],
   "source": [
    "testid = 'pull out'\n",
    "model.failure_test(testid, 'pull out', start_load=60, load_factor=3)"
   ]
  },
  {
   "cell_type": "code",
   "execution_count": 13,
   "metadata": {},
   "outputs": [
    {
     "data": {
      "image/png": "[encoded data removed]",
      "text/plain": [
       "<Figure size 600x400 with 1 Axes>"
      ]
     },
     "execution_count": 13,
     "metadata": {},
     "output_type": "execute_result"
    }
   ],
   "source": [
    "model.plot_test('pull out', location=0, legend=True)"
   ]
  },
  {
   "cell_type": "markdown",
   "metadata": {},
   "source": [
    "Test results are stored in the results dataframe and can be plotted using the `plot_test` method."
   ]
  },
  {
   "cell_type": "markdown",
   "metadata": {},
   "source": [
    "### General model settings"
   ]
  },
  {
   "cell_type": "markdown",
   "metadata": {},
   "source": [
    "The `model_type` argument can be set to `'axisymmetry'` (default) or `'planestrain'`. Also, the title and comments of the model in Plaxis can be set with the `title` and `comments` arguments."
   ]
  },
  {
   "cell_type": "code",
   "execution_count": 14,
   "metadata": {},
   "outputs": [],
   "source": [
    "model = ltest.PlateModel(s_i, g_i, g_o, b, d, soil, footing, column,\n",
    "                        model_type='planestrain', title='Plain strain',\n",
    "                        comments='This is a plain strain model example.')"
   ]
  },
  {
   "cell_type": "markdown",
   "metadata": {},
   "source": [
    "### Element type"
   ]
  },
  {
   "cell_type": "markdown",
   "metadata": {},
   "source": [
    "The `element_type` argument controls the type of elements used in the model. It can be set to `'6-Noded'` or `'15-Noded'`. By default 15-noded elements are used."
   ]
  },
  {
   "cell_type": "code",
   "execution_count": 16,
   "metadata": {},
   "outputs": [],
   "source": [
    "model = ltest.PlateModel(s_i, g_i, g_o, b, d, soil, footing, column,\n",
    "                        element_type='6-Noded')"
   ]
  },
  {
   "cell_type": "markdown",
   "metadata": {},
   "source": [
    "### Save/Load"
   ]
  },
  {
   "cell_type": "markdown",
   "metadata": {},
   "source": [
    "Saving a load test wipes out the Plaxis objects stored in it. This prevents the load test object from further communicating with Plaxis, so no additional can be performed. The information regarding the model geometry, material properties and test results is preserved."
   ]
  },
  {
   "cell_type": "code",
   "execution_count": 17,
   "metadata": {},
   "outputs": [
    {
     "name": "stdout",
     "output_type": "stream",
     "text": [
      "WARNIGN: Saving the load test to memory whipes out the Plaxis objects. Test results and input parameters will still be avaiable, but no further interaction with Plaxis will be possible. The model can be restored with the <regen> method, but load tests will have to be recalculated to access the results whitin Plaxis.\n",
      "\n",
      " Do you whish to proceed: [Y/n] y\n"
     ]
    }
   ],
   "source": [
    "model.save('exmaple_model.mdl')"
   ]
  },
  {
   "cell_type": "markdown",
   "metadata": {},
   "source": [
    "The `regen` method regenerates the Plaxis model from a saved model so it can be used to calculate new tests. It can also recalculate the saved tests by setting the argument `test` to `True`. "
   ]
  },
  {
   "cell_type": "code",
   "execution_count": 18,
   "metadata": {},
   "outputs": [],
   "source": [
    "model = ltest.load('exmaple_model.mdl')\n",
    "model.regen(s_i, g_i, g_o)"
   ]
  },
  {
   "cell_type": "markdown",
   "metadata": {},
   "source": [
    "### Preliminary model check"
   ]
  },
  {
   "cell_type": "markdown",
   "metadata": {},
   "source": [
    "Waiting for Plaxis to build and run the initial phases can be time consuming only to check that the model has the correct geometry. The `build` attribute controls whether the Plaxis model gets build. By setting it to `False` the geometry can be inspecting with `plot()`."
   ]
  },
  {
   "cell_type": "code",
   "execution_count": 19,
   "metadata": {},
   "outputs": [
    {
     "data": {
      "image/png": "[encoded data removed]",
      "text/plain": [
       "<Figure size 250x450 with 1 Axes>"
      ]
     },
     "execution_count": 19,
     "metadata": {},
     "output_type": "execute_result"
    }
   ],
   "source": [
    "model = ltest.PlateModel(s_i, g_i, g_o, b, d, soil, footing, column, build=False)\n",
    "model.plot()"
   ]
  },
  {
   "cell_type": "markdown",
   "metadata": {},
   "source": [
    "The `build()` method creates the model in Plaxis so it can be used. "
   ]
  },
  {
   "cell_type": "code",
   "execution_count": 20,
   "metadata": {},
   "outputs": [],
   "source": [
    "model.build()"
   ]
  },
  {
   "cell_type": "markdown",
   "metadata": {},
   "source": [
    "## Foundation geometry"
   ]
  },
  {
   "cell_type": "markdown",
   "metadata": {},
   "source": [
    "### Solid foundations"
   ]
  },
  {
   "cell_type": "markdown",
   "metadata": {},
   "source": [
    "Foundations can be modeled using a solid area instead of plates. A soil material must be provided for the concrete."
   ]
  },
  {
   "cell_type": "code",
   "execution_count": 21,
   "metadata": {
    "code_folding": []
   },
   "outputs": [],
   "source": [
    "# Geometry\n",
    "d = 3 # Foundation depth\n",
    "b = 2 # Foundation width\n",
    "b1 = 0.5 # Foundation column width\n",
    "d1 = 0.5 # Foundation width\n",
    "\n",
    "# Mohr-Coulomb soil material\n",
    "soil = {}\n",
    "soil['SoilModel'] = 'mohr-coulomb'\n",
    "soil[\"DrainageType\"] = 0\n",
    "soil['gammaSat'] = 20 # kN/m3\n",
    "soil['gammaUnsat'] = 17 # kN/m3\n",
    "soil['e0'] = 0.2\n",
    "soil['Eref'] = 4e4 # kN\n",
    "soil['nu'] = 0.2\n",
    "soil['cref'] = 0 # kPa\n",
    "soil['phi'] = 35 # deg\n",
    "soil['psi'] = 0 # deg\n",
    "\n",
    "# elastic material for concrete\n",
    "concrete = {}\n",
    "concrete['SoilModel'] = 'elastic'\n",
    "concrete[\"DrainageType\"] = 0\n",
    "concrete['Eref'] = 730e3  # kPa\n",
    "concrete['nu'] = 0.4 #\n",
    "concrete['gammaSat'] = 20\n",
    "concrete['gammaUnsat'] = 17\n",
    "\n",
    "model = ltest.SolidModel(s_i, g_i, g_o, b, d, b1, d1, soil, concrete)"
   ]
  },
  {
   "cell_type": "markdown",
   "metadata": {},
   "source": [
    "The resulting model is:"
   ]
  },
  {
   "cell_type": "code",
   "execution_count": 22,
   "metadata": {},
   "outputs": [
    {
     "data": {
      "image/png": "[encoded data removed]",
      "text/plain": [
       "<Figure size 250x500 with 1 Axes>"
      ]
     },
     "execution_count": 22,
     "metadata": {},
     "output_type": "execute_result"
    }
   ],
   "source": [
    "model.plot()"
   ]
  },
  {
   "cell_type": "markdown",
   "metadata": {},
   "source": [
    "### Surface foundations"
   ]
  },
  {
   "cell_type": "markdown",
   "metadata": {},
   "source": [
    "A surface foundation is created by setting the depth to 0. If the foundation is modeled by plate elements, no material need to be provided for the column:"
   ]
  },
  {
   "cell_type": "code",
   "execution_count": 23,
   "metadata": {},
   "outputs": [
    {
     "data": {
      "image/png": "[encoded data removed]",
      "text/plain": [
       "<Figure size 250x375 with 1 Axes>"
      ]
     },
     "execution_count": 23,
     "metadata": {},
     "output_type": "execute_result"
    }
   ],
   "source": [
    "d = 0 # Foundation depth\n",
    "b = 2 # Foundation width\n",
    "d1 = 0.5 # Foundation width\n",
    "\n",
    "# Mohr-Coulomb soil material\n",
    "soil = {}\n",
    "soil['SoilModel'] = 'mohr-coulomb'\n",
    "soil[\"DrainageType\"] = 0\n",
    "soil['gammaSat'] = 20 # kN/m3\n",
    "soil['gammaUnsat'] = 17 # kN/m3\n",
    "soil['e0'] = 0.2\n",
    "soil['Eref'] = 4e4 # kN\n",
    "soil['nu'] = 0.2\n",
    "soil['cref'] = 0 # kPa\n",
    "soil['phi'] = 35 # deg\n",
    "soil['psi'] = 0 # deg\n",
    "\n",
    "# Create with f'c=30MPa concrete slab with a 60cm thickness and 24kN/m3 unit weight\n",
    "footing = ltest.concrete(30, 24, d1)\n",
    "column = None\n",
    "\n",
    "# Create model\n",
    "model = ltest.PlateModel(s_i, g_i, g_o, b, d, soil, footing, column)\n",
    "model.plot()"
   ]
  },
  {
   "cell_type": "markdown",
   "metadata": {},
   "source": [
    "If the foundation is modeled as a solid, the column width is still required as the width of the applied uniform load on top of the foundation."
   ]
  },
  {
   "cell_type": "code",
   "execution_count": 24,
   "metadata": {},
   "outputs": [
    {
     "data": {
      "image/png": "[encoded data removed]",
      "text/plain": [
       "<Figure size 600x400 with 1 Axes>"
      ]
     },
     "execution_count": 24,
     "metadata": {},
     "output_type": "execute_result"
    }
   ],
   "source": [
    "# Geometry\n",
    "d = 0 # Foundation depth\n",
    "b = 2 # Foundation width\n",
    "b1 = 0.6 # Load width\n",
    "d1 = 0.3 # Foundation width\n",
    "\n",
    "# Mohr-Coulomb soil material\n",
    "soil = {}\n",
    "soil['SoilModel'] = 'mohr-coulomb'\n",
    "soil[\"DrainageType\"] = 0\n",
    "soil['gammaSat'] = 20 # kN/m3\n",
    "soil['gammaUnsat'] = 17 # kN/m3\n",
    "soil['e0'] = 0.2\n",
    "soil['Eref'] = 4e4 # kN\n",
    "soil['nu'] = 0.2\n",
    "soil['cref'] = 0 # kPa\n",
    "soil['phi'] = 35 # deg\n",
    "soil['psi'] = 0 # deg\n",
    "\n",
    "# elastic material for concrete\n",
    "concrete = {}\n",
    "concrete['SoilModel'] = 'elastic'\n",
    "concrete[\"DrainageType\"] = 0\n",
    "concrete['Eref'] = 730e3  # kPa\n",
    "concrete['nu'] = 0.4 #\n",
    "concrete['gammaSat'] = 20\n",
    "concrete['gammaUnsat'] = 17\n",
    "\n",
    "model = ltest.SolidModel(s_i, g_i, g_o, b, d, b1, d1, soil, concrete)\n",
    "\n",
    "testid = 'test A'\n",
    "load = [-60, 0, -80] #kN\n",
    "model.load_test(testid, load)\n",
    "model.plot_test('test A', location=0, legend=True)"
   ]
  },
  {
   "cell_type": "code",
   "execution_count": 25,
   "metadata": {},
   "outputs": [
    {
     "data": {
      "image/png": "[encoded data removed]",
      "text/plain": [
       "<Figure size 250x375 with 1 Axes>"
      ]
     },
     "execution_count": 25,
     "metadata": {},
     "output_type": "execute_result"
    }
   ],
   "source": [
    "model.plot()"
   ]
  },
  {
   "cell_type": "markdown",
   "metadata": {},
   "source": [
    "The foundation can be partially embedded:"
   ]
  },
  {
   "cell_type": "code",
   "execution_count": 26,
   "metadata": {},
   "outputs": [
    {
     "data": {
      "image/png": "[encoded data removed]",
      "text/plain": [
       "<Figure size 600x400 with 1 Axes>"
      ]
     },
     "execution_count": 26,
     "metadata": {},
     "output_type": "execute_result"
    }
   ],
   "source": [
    "# Geometry\n",
    "d = 0.3 # Foundation depth\n",
    "b = 2 # Foundation width\n",
    "b1 = 0.6 # Load width\n",
    "d1 = 0.5 # Foundation width\n",
    "\n",
    "model = ltest.SolidModel(s_i, g_i, g_o, b, d, b1, d1, soil, concrete)\n",
    "testid = 'test A'\n",
    "load = [-60, 0, -80] #kN\n",
    "model.load_test(testid, load)\n",
    "model.plot_test('test A', location=0, legend=True)"
   ]
  },
  {
   "cell_type": "code",
   "execution_count": 27,
   "metadata": {},
   "outputs": [
    {
     "data": {
      "image/png": "[encoded data removed]",
      "text/plain": [
       "<Figure size 250x393.75 with 1 Axes>"
      ]
     },
     "execution_count": 27,
     "metadata": {},
     "output_type": "execute_result"
    }
   ],
   "source": [
    "model.plot()"
   ]
  },
  {
   "cell_type": "markdown",
   "metadata": {},
   "source": [
    "### Stratification"
   ]
  },
  {
   "cell_type": "markdown",
   "metadata": {},
   "source": [
    "Multiple soil layers are defined by providing a soil material for each layer and specify each layer thickness with the `dstrata` parameter. If the model height exceeds the combined height of the individual layers, the bottom layer is extended."
   ]
  },
  {
   "cell_type": "code",
   "execution_count": 28,
   "metadata": {},
   "outputs": [],
   "source": [
    "d = 3 # Foundation depth\n",
    "b = 2 # Foundation width\n",
    "b1 = 0.5 # Foundation column width\n",
    "d1 = 0.5 # Foundation width\n",
    "\n",
    "# Mohr-Coulomb top soil material\n",
    "top_layer = {}\n",
    "top_layer['SoilModel'] = 'mohr-coulomb'\n",
    "top_layer[\"DrainageType\"] = 0\n",
    "top_layer['gammaSat'] = 20 # kN/m3\n",
    "top_layer['gammaUnsat'] = 17 # kN/m3\n",
    "top_layer['e0'] = 0.2\n",
    "top_layer['Eref'] = 4e4 # kN\n",
    "top_layer['nu'] = 0.2\n",
    "top_layer['cref'] = 0 # kPa\n",
    "top_layer['phi'] = 30 # deg\n",
    "top_layer['psi'] = 0 # deg\n",
    "\n",
    "# Mohr-Coulomb second soil material\n",
    "mid_layer = {}\n",
    "mid_layer['SoilModel'] = 'mohr-coulomb'\n",
    "mid_layer[\"DrainageType\"] = 0\n",
    "mid_layer['gammaSat'] = 20 # kN/m3\n",
    "mid_layer['gammaUnsat'] = 17 # kN/m3\n",
    "mid_layer['e0'] = 0.2\n",
    "mid_layer['Eref'] = 4e4 # kN\n",
    "mid_layer['nu'] = 0.2\n",
    "mid_layer['cref'] = 0 # kPa\n",
    "mid_layer['phi'] = 32 # deg\n",
    "mid_layer['psi'] = 0 # deg\n",
    "\n",
    "# Mohr-Coulomb second soil material\n",
    "bottom_layer = {}\n",
    "bottom_layer['SoilModel'] = 'mohr-coulomb'\n",
    "bottom_layer[\"DrainageType\"] = 0\n",
    "bottom_layer['gammaSat'] = 20 # kN/m3\n",
    "bottom_layer['gammaUnsat'] = 17 # kN/m3\n",
    "bottom_layer['e0'] = 0.2\n",
    "bottom_layer['Eref'] = 4e4 # kN\n",
    "bottom_layer['nu'] = 0.2\n",
    "bottom_layer['cref'] = 0 # kPa\n",
    "bottom_layer['phi'] = 39 # deg\n",
    "bottom_layer['psi'] = 0 # deg\n",
    "\n",
    "# Plate material for a f'c=30MPa concrete slab with a 40cm thickness and 24kN/m3 unit weight\n",
    "column = ltest.concrete(30, 24, b1)\n",
    "# Plate material for a f'c=30MPa concrete slab with a 60cm thickness and 24kN/m3 unit weight\n",
    "footing = ltest.concrete(30, 24, d1)"
   ]
  },
  {
   "cell_type": "code",
   "execution_count": 29,
   "metadata": {},
   "outputs": [],
   "source": [
    "model = ltest.PlateModel(s_i, g_i, g_o, b, d,\n",
    "                         [top_layer, mid_layer, bottom_layer], footing, column,\n",
    "                         dstrata=[1, 2, 3])"
   ]
  },
  {
   "cell_type": "code",
   "execution_count": 30,
   "metadata": {},
   "outputs": [
    {
     "data": {
      "image/png": "[encoded data removed]",
      "text/plain": [
       "<Figure size 250x500 with 1 Axes>"
      ]
     },
     "execution_count": 30,
     "metadata": {},
     "output_type": "execute_result"
    }
   ],
   "source": [
    "model.plot()"
   ]
  },
  {
   "cell_type": "markdown",
   "metadata": {},
   "source": [
    "### Fill"
   ]
  },
  {
   "cell_type": "markdown",
   "metadata": {},
   "source": [
    "The fill material used in buried foundations is included in the model by provided a soil material in the `fill` argument and the excavation slope (in degrees) in the `fill_angle` argument. The model includes the initial phase with only the original stratigraphy, an excavation phase where the soil material is removed, and a construction phase where the foundation and the fill are activated."
   ]
  },
  {
   "cell_type": "code",
   "execution_count": 31,
   "metadata": {},
   "outputs": [],
   "source": [
    "d = 3 # Foundation depth\n",
    "b = 2 # Foundation width\n",
    "b1 = 0.5 # Foundation column width\n",
    "d1 = 0.5 # Foundation width\n",
    "\n",
    "# Mohr-Coulomb top soil material\n",
    "soil = {}\n",
    "soil['SoilModel'] = 'mohr-coulomb'\n",
    "soil[\"DrainageType\"] = 0\n",
    "soil['gammaSat'] = 20 # kN/m3\n",
    "soil['gammaUnsat'] = 17 # kN/m3\n",
    "soil['e0'] = 0.2\n",
    "soil['Eref'] = 4e4 # kN\n",
    "soil['nu'] = 0.2\n",
    "soil['cref'] = 0 # kPa\n",
    "soil['phi'] = 30 # deg\n",
    "soil['psi'] = 0 # deg\n",
    "\n",
    "# Mohr-Coulomb second soil material\n",
    "fill = {}\n",
    "fill['SoilModel'] = 'mohr-coulomb'\n",
    "fill[\"DrainageType\"] = 0\n",
    "fill['gammaSat'] = 20 # kN/m3\n",
    "fill['gammaUnsat'] = 17 # kN/m3\n",
    "fill['e0'] = 0.2\n",
    "fill['Eref'] = 4e4 # kN\n",
    "fill['nu'] = 0.2\n",
    "fill['cref'] = 0 # kPa\n",
    "fill['phi'] = 32 # deg\n",
    "fill['psi'] = 0 # deg\n",
    "\n",
    "\n",
    "# Plate material for a f'c=30MPa concrete slab with a 40cm thickness and 24kN/m3 unit weight\n",
    "column = ltest.concrete(30, 24, b1)\n",
    "# Plate material for a f'c=30MPa concrete slab with a 60cm thickness and 24kN/m3 unit weight\n",
    "footing = ltest.concrete(30, 24, d1)\n",
    "\n",
    "model = ltest.PlateModel(s_i, g_i, g_o, b, d, soil, \n",
    "                         column, footing, fill=fill,\n",
    "                         fill_angle=25)"
   ]
  },
  {
   "cell_type": "code",
   "execution_count": 32,
   "metadata": {},
   "outputs": [
    {
     "data": {
      "image/png": "[encoded data removed]",
      "text/plain": [
       "<Figure size 250x266.792 with 1 Axes>"
      ]
     },
     "execution_count": 32,
     "metadata": {},
     "output_type": "execute_result"
    }
   ],
   "source": [
    "model.plot()"
   ]
  },
  {
   "cell_type": "markdown",
   "metadata": {},
   "source": [
    "The `nfill` parameter generates multiple fill layers of equal thickness. A list of soil materials for each layer must be provided, from top to bottom. "
   ]
  },
  {
   "cell_type": "code",
   "execution_count": 33,
   "metadata": {},
   "outputs": [
    {
     "data": {
      "image/png": "[encoded data removed]",
      "text/plain": [
       "<Figure size 250x266.792 with 1 Axes>"
      ]
     },
     "execution_count": 33,
     "metadata": {},
     "output_type": "execute_result"
    }
   ],
   "source": [
    "model = ltest.PlateModel(s_i, g_i, g_o, b, d, soil, footing, column,\n",
    "                         nfill=4, fill=[fill,fill,fill,fill],\n",
    "                         fill_angle=25)\n",
    "model.plot()"
   ]
  },
  {
   "cell_type": "markdown",
   "metadata": {},
   "source": [
    "The `dfill` parameter generates fill layers of the requested thickness. If the cumulative thickness of the fill layers is below the foundation depth, and additional layer is added."
   ]
  },
  {
   "cell_type": "code",
   "execution_count": 34,
   "metadata": {},
   "outputs": [
    {
     "data": {
      "image/png": "[encoded data removed]",
      "text/plain": [
       "<Figure size 250x266.792 with 1 Axes>"
      ]
     },
     "execution_count": 34,
     "metadata": {},
     "output_type": "execute_result"
    }
   ],
   "source": [
    "model = ltest.PlateModel(s_i, g_i, g_o, b, d, soil,\n",
    "                         footing, column,\n",
    "                         dfill=[0.5, 1], fill=[fill,fill,fill],\n",
    "                         fill_angle=25)\n",
    "model.plot()"
   ]
  },
  {
   "cell_type": "markdown",
   "metadata": {},
   "source": [
    "The `bfill` parameter controls the distance between the edge of the foundation and the start of the fill slope."
   ]
  },
  {
   "cell_type": "code",
   "execution_count": 35,
   "metadata": {},
   "outputs": [
    {
     "data": {
      "image/png": "[encoded data removed]",
      "text/plain": [
       "<Figure size 250x205.789 with 1 Axes>"
      ]
     },
     "execution_count": 35,
     "metadata": {},
     "output_type": "execute_result"
    }
   ],
   "source": [
    "model = ltest.PlateModel(s_i, g_i, g_o, b, d,\n",
    "                         soil,  footing, column,\n",
    "                         fill=[fill], fill_angle=25, bfill=3)\n",
    "model.plot()"
   ]
  },
  {
   "cell_type": "markdown",
   "metadata": {},
   "source": [
    "### Water table"
   ]
  },
  {
   "cell_type": "markdown",
   "metadata": {},
   "source": [
    "The `wt` parameter specifies the global water table of the model, which is applied to all stages."
   ]
  },
  {
   "cell_type": "code",
   "execution_count": 36,
   "metadata": {},
   "outputs": [
    {
     "data": {
      "image/png": "[encoded data removed]",
      "text/plain": [
       "<Figure size 250x500 with 1 Axes>"
      ]
     },
     "execution_count": 36,
     "metadata": {},
     "output_type": "execute_result"
    }
   ],
   "source": [
    "d = 3 # Foundation depth\n",
    "b = 2 # Foundation width\n",
    "b1 = 0.5 # Foundation column width\n",
    "d1 = 0.5 # Foundation width\n",
    "\n",
    "# Mohr-Coulomb soil material\n",
    "soil = {}\n",
    "soil['SoilModel'] = 'mohr-coulomb'\n",
    "soil[\"DrainageType\"] = 0\n",
    "soil['gammaSat'] = 20 # kN/m3\n",
    "soil['gammaUnsat'] = 17 # kN/m3\n",
    "soil['e0'] = 0.2\n",
    "soil['Eref'] = 4e4 # kN\n",
    "soil['nu'] = 0.2\n",
    "soil['cref'] = 0 # kPa\n",
    "soil['phi'] = 35 # deg\n",
    "soil['psi'] = 0 # deg\n",
    "\n",
    "# Plate material for a f'c=30MPa concrete slab with a 40cm thickness and 24kN/m3 unit weight\n",
    "column = ltest.concrete(30, 24, b1)\n",
    "# Plate material for a f'c=30MPa concrete slab with a 60cm thickness and 24kN/m3 unit weight\n",
    "footing = ltest.concrete(30, 24, d1)\n",
    "\n",
    "# initialize model\n",
    "model = ltest.PlateModel(s_i, g_i, g_o, b, d, soil, footing, column, wt=2)\n",
    "\n",
    "# plot\n",
    "model.plot()"
   ]
  },
  {
   "cell_type": "markdown",
   "metadata": {},
   "source": [
    "### Interfaces"
   ]
  },
  {
   "cell_type": "markdown",
   "metadata": {},
   "source": [
    "By default an interface is included between the column and the soil. Additional interfaces can be included in the top and bottom of the footing and, for the solid foundation, on its side as well. Interfaces are controlled through the `interface` argument. If set to `True` all interfaces will be activated. Likewise, if set to `False` all interfaces are deactivated. Individual activations are handled via a dictionary with keys `'column'`, `'top'`, `'bottom'` and `'lateral'`."
   ]
  },
  {
   "cell_type": "code",
   "execution_count": 37,
   "metadata": {},
   "outputs": [
    {
     "data": {
      "image/png": "[encoded data removed]",
      "text/plain": [
       "<Figure size 250x500 with 1 Axes>"
      ]
     },
     "execution_count": 37,
     "metadata": {},
     "output_type": "execute_result"
    }
   ],
   "source": [
    "d = 3 # Foundation depth\n",
    "b = 2 # Foundation width\n",
    "b1 = 0.5 # Foundation column width\n",
    "d1 = 0.5 # Foundation width\n",
    "\n",
    "# Mohr-Coulomb soil material\n",
    "soil = {}\n",
    "soil['SoilModel'] = 'mohr-coulomb'\n",
    "soil[\"DrainageType\"] = 0\n",
    "soil['gammaSat'] = 20 # kN/m3\n",
    "soil['gammaUnsat'] = 17 # kN/m3\n",
    "soil['e0'] = 0.2\n",
    "soil['Eref'] = 4e4 # kN\n",
    "soil['nu'] = 0.2\n",
    "soil['cref'] = 0 # kPa\n",
    "soil['phi'] = 35 # deg\n",
    "soil['psi'] = 0 # deg\n",
    "\n",
    "# Plate material for a f'c=30MPa concrete slab with a 40cm thickness and 24kN/m3 unit weight\n",
    "# elastic material for concrete\n",
    "concrete = {}\n",
    "concrete['SoilModel'] = 'elastic'\n",
    "concrete[\"DrainageType\"] = 0\n",
    "concrete['Eref'] = 730e3  # kPa\n",
    "concrete['nu'] = 0.4 #\n",
    "concrete['gammaSat'] = 20\n",
    "concrete['gammaUnsat'] = 17\n",
    "\n",
    "# initialize model\n",
    "model = ltest.SolidModel(s_i, g_i, g_o, b, d, b1, d1,\n",
    "                         soil, concrete, interface={'lateral':True, 'bottom':True})\n",
    "\n",
    "# plot\n",
    "model.plot()"
   ]
  },
  {
   "cell_type": "markdown",
   "metadata": {},
   "source": [
    "### Model size"
   ]
  },
  {
   "cell_type": "markdown",
   "metadata": {},
   "source": [
    "The `model_width` and  `model_depth` parameters control the extent of the model."
   ]
  },
  {
   "cell_type": "code",
   "execution_count": 38,
   "metadata": {},
   "outputs": [
    {
     "data": {
      "image/png": "[encoded data removed]",
      "text/plain": [
       "<Figure size 250x100 with 1 Axes>"
      ]
     },
     "execution_count": 38,
     "metadata": {},
     "output_type": "execute_result"
    }
   ],
   "source": [
    "d = 3 # Foundation depth\n",
    "b = 2 # Foundation width\n",
    "b1 = 0.5 # Foundation column width\n",
    "d1 = 0.5 # Foundation width\n",
    "\n",
    "# Mohr-Coulomb soil material\n",
    "soil = {}\n",
    "soil['SoilModel'] = 'mohr-coulomb'\n",
    "soil[\"DrainageType\"] = 0\n",
    "soil['gammaSat'] = 20 # kN/m3\n",
    "soil['gammaUnsat'] = 17 # kN/m3\n",
    "soil['e0'] = 0.2\n",
    "soil['Eref'] = 4e4 # kN\n",
    "soil['nu'] = 0.2\n",
    "soil['cref'] = 0 # kPa\n",
    "soil['phi'] = 35 # deg\n",
    "soil['psi'] = 0 # deg\n",
    "\n",
    "# Plate material for a f'c=30MPa concrete slab with a 40cm thickness and 24kN/m3 unit weight\n",
    "# elastic material for concrete\n",
    "concrete = {}\n",
    "concrete['SoilModel'] = 'elastic'\n",
    "concrete[\"DrainageType\"] = 0\n",
    "concrete['Eref'] = 730e3  # kPa\n",
    "concrete['nu'] = 0.4 #\n",
    "concrete['gammaSat'] = 20\n",
    "concrete['gammaUnsat'] = 17\n",
    "\n",
    "# initialize model\n",
    "model = ltest.SolidModel(s_i, g_i, g_o, b, d, b1, d1, soil, concrete,\n",
    "                         model_width=10, model_depth=4)\n",
    "\n",
    "# plot\n",
    "model.plot()"
   ]
  },
  {
   "cell_type": "markdown",
   "metadata": {},
   "source": [
    "## Materials"
   ]
  },
  {
   "cell_type": "markdown",
   "metadata": {},
   "source": [
    "### Soil materials"
   ]
  },
  {
   "cell_type": "markdown",
   "metadata": {},
   "source": [
    "#### Linear elastic"
   ]
  },
  {
   "cell_type": "markdown",
   "metadata": {},
   "source": [
    "Linear elastic soil materials are specified by a dictionary whit the following fields:"
   ]
  },
  {
   "cell_type": "code",
   "execution_count": 39,
   "metadata": {},
   "outputs": [],
   "source": [
    "material = {}\n",
    "material['SoilModel'] = 'elastic'\n",
    "material[\"DrainageType\"] = 0\n",
    "material['Eref'] = 728e3 # kPa\n",
    "material['nu'] = 0.4 #\n",
    "material['gammaSat'] = 17\n",
    "material['gammaUnsat'] = 20"
   ]
  },
  {
   "cell_type": "markdown",
   "metadata": {},
   "source": [
    "There are optional parameters that, if not provided, the default value calculated by Plaxis is assigned:"
   ]
  },
  {
   "cell_type": "code",
   "execution_count": 40,
   "metadata": {
    "code_folding": [
     0
    ]
   },
   "outputs": [],
   "source": [
    "material['Rinter'] = 0.5  # interface strength, default value 1\n",
    "material['kx'] = 0.02 # [m/day] Permeability in the horizontal direction, default value 0\n",
    "material['ky'] = 0.04 # [m/day] Permeability in the vertical direction, default value 0"
   ]
  },
  {
   "cell_type": "markdown",
   "metadata": {},
   "source": [
    "#### Mohr-Coulomb"
   ]
  },
  {
   "cell_type": "markdown",
   "metadata": {},
   "source": [
    "Mohr-Coulomb soil materials are specified by a dictionary whit the following fields:"
   ]
  },
  {
   "cell_type": "code",
   "execution_count": 41,
   "metadata": {},
   "outputs": [],
   "source": [
    "# Mohr-Coulomb soil material\n",
    "material = {}\n",
    "material['SoilModel'] = 'mohr-coulomb'\n",
    "material[\"DrainageType\"] = 0\n",
    "material['gammaSat'] = 20 # kN/m3\n",
    "material['gammaUnsat'] = 17 # kN/m3\n",
    "material['e0'] = 0.2\n",
    "material['Eref'] = 4e4 # kN\n",
    "material['nu'] = 0.2\n",
    "material['cref'] = 0 # kPa\n",
    "material['phi'] = 35 # deg\n",
    "material['psi'] = 0 # deg"
   ]
  },
  {
   "cell_type": "markdown",
   "metadata": {},
   "source": [
    "There are optional parameters that, if not provided, the default value calculated by Plaxis is assigned:"
   ]
  },
  {
   "cell_type": "code",
   "execution_count": 42,
   "metadata": {},
   "outputs": [],
   "source": [
    "soil['Rinter'] = 0.5 # interface strength, default value 1\n",
    "soil['K0nc'] = 0.6 # default value sin(45 - phi / 2)\n",
    "soil['kx'] = 0.02 # [m/day] Permeability in the horizontal direction, default value 0\n",
    "soil['ky'] = 0.04 # [m/day] Permeability in the vertical direction, default value 0"
   ]
  },
  {
   "cell_type": "markdown",
   "metadata": {},
   "source": [
    "#### Hardening soil"
   ]
  },
  {
   "cell_type": "markdown",
   "metadata": {},
   "source": [
    "Hardening soil materials are specified by a dictionary whit the following fields:"
   ]
  },
  {
   "cell_type": "code",
   "execution_count": 43,
   "metadata": {},
   "outputs": [],
   "source": [
    "material = {}\n",
    "material['SoilModel'] = 'hardening soil'\n",
    "material[\"DrainageType\"] = 0\n",
    "material['gammaSat'] = 17\n",
    "material['gammaUnsat'] = 20\n",
    "material['e0'] = 0.2\n",
    "material['E50ref'] = 4e4\n",
    "material['Eoedref'] = 4e4\n",
    "material['Euref'] = 1.2e5\n",
    "material['powerm'] = 0.5\n",
    "material['c'] = 0\n",
    "material['phi'] = 32\n",
    "material['psi'] = 2\n",
    "material['nu'] = 0.2"
   ]
  },
  {
   "cell_type": "markdown",
   "metadata": {},
   "source": [
    "There are optional parameters that, if not provided, the default value calculated by Plaxis is assigned:"
   ]
  },
  {
   "cell_type": "code",
   "execution_count": 44,
   "metadata": {},
   "outputs": [],
   "source": [
    "material['Rinter'] = 0.5 # interface strength, default value 1\n",
    "material['K0nc'] = 0.6 # default value sin(45 - phi / 2)\n",
    "material['kx'] = 0.02 # [m/day] Permeability in the horizontal direction, default value 0\n",
    "material['ky'] = 0.04 # [m/day] Permeability in the vertical direction, default value 0"
   ]
  },
  {
   "cell_type": "markdown",
   "metadata": {},
   "source": [
    "### Plate materials"
   ]
  },
  {
   "cell_type": "markdown",
   "metadata": {},
   "source": [
    "Plate materials are specified by a dictionary whit the following fields:"
   ]
  },
  {
   "cell_type": "code",
   "execution_count": 45,
   "metadata": {},
   "outputs": [],
   "source": [
    "plate_material = {}\n",
    "plate_material['nu'] = 0.4\n",
    "plate_material['EA'] = 7.73e6 # KPa m\n",
    "plate_material['EI'] = 0.3**2 / 12 * 7.73e6 # KPa m\n",
    "plate_material['d'] = 0.3 # m\n",
    "plate_material['Gref'] = 7.73e6 / (2 * 0.3 * (1 + 0.4)) # KPa"
   ]
  },
  {
   "cell_type": "markdown",
   "metadata": {},
   "source": [
    "Plates material are specified per m of cross-section width. Therefore, the stiffness parameters must comply with the following relations. The equivalent thickness `d` is related to the axial and flexural stiffness by:\n",
    "\n",
    "$$d=\\sqrt{12 \\frac{EI}{EA}}$$\n",
    "\n",
    "The reference shear modulus:\n",
    "\n",
    "$$G_{ref} = \\frac{EA}{2 \\ d \\ \\left(1 + \\nu \\right)}$$"
   ]
  },
  {
   "cell_type": "markdown",
   "metadata": {},
   "source": [
    "An alternative way to define a plate material is using the `concrete function`, where the properties of the plate are computed form the compressive strength of concrete as:\n",
    "\n",
    "$$E \\left[kPa\\right] = 4700 \\ \\sqrt{f'_c} \\ 10^3$$\n",
    "\n",
    "$$EA = E \\ d \\ 1m$$\n",
    "\n",
    "$$EI = E \\ \\frac{d^3 \\ 1m}{12}$$\n",
    "\n",
    "$$w = \\gamma \\ d \\ 1m $$"
   ]
  },
  {
   "cell_type": "markdown",
   "metadata": {},
   "source": [
    "The default value for the Poisson modulus can be modified when calling the function:"
   ]
  },
  {
   "cell_type": "code",
   "execution_count": 46,
   "metadata": {},
   "outputs": [
    {
     "data": {
      "text/plain": [
       "{'fc': 30,\n",
       " 'E': 25742960.202742808,\n",
       " 'nu': 0.3,\n",
       " 'EA': 10297184.081097124,\n",
       " 'EI': 137295.78774796167,\n",
       " 'd': 0.4,\n",
       " 'Gref': 9901138.539516464,\n",
       " 'gamma': 24,\n",
       " 'w': 9.600000000000001}"
      ]
     },
     "execution_count": 46,
     "metadata": {},
     "output_type": "execute_result"
    }
   ],
   "source": [
    "fc = 30 # MPa\n",
    "gamma = 24 #kN/m3\n",
    "d = 0.4\n",
    "ltest.concrete(fc, gamma, d, poisson=0.3)"
   ]
  }
 ],
 "metadata": {
  "hide_input": false,
  "kernelspec": {
   "display_name": "ltest",
   "language": "python",
   "name": "ltest"
  },
  "language_info": {
   "codemirror_mode": {
    "name": "ipython",
    "version": 3
   },
   "file_extension": ".py",
   "mimetype": "text/x-python",
   "name": "python",
   "nbconvert_exporter": "python",
   "pygments_lexer": "ipython3",
   "version": "3.7.16"
  },
  "toc": {
   "base_numbering": 1,
   "nav_menu": {},
   "number_sections": true,
   "sideBar": true,
   "skip_h1_title": true,
   "title_cell": "Table of Contents",
   "title_sidebar": "Contents",
   "toc_cell": false,
   "toc_position": {
    "height": "calc(100% - 180px)",
    "left": "10px",
    "top": "150px",
    "width": "165px"
   },
   "toc_section_display": true,
   "toc_window_display": true
  },
  "varInspector": {
   "cols": {
    "lenName": 16,
    "lenType": 16,
    "lenVar": 40
   },
   "kernels_config": {
    "python": {
     "delete_cmd_postfix": "",
     "delete_cmd_prefix": "del ",
     "library": "var_list.py",
     "varRefreshCmd": "print(var_dic_list())"
    },
    "r": {
     "delete_cmd_postfix": ") ",
     "delete_cmd_prefix": "rm(",
     "library": "var_list.r",
     "varRefreshCmd": "cat(var_dic_list()) "
    }
   },
   "types_to_exclude": [
    "module",
    "function",
    "builtin_function_or_method",
    "instance",
    "_Feature"
   ],
   "window_display": false
  }
 },
 "nbformat": 4,
 "nbformat_minor": 2
}
